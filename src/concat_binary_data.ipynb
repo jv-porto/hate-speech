{
 "cells": [
  {
   "cell_type": "code",
   "execution_count": 3,
   "id": "47b68ae5",
   "metadata": {},
   "outputs": [],
   "source": [
    "import arff\n",
    "import pandas as pd\n",
    "import polars as pl"
   ]
  },
  {
   "cell_type": "code",
   "execution_count": 4,
   "id": "6ca9304c",
   "metadata": {},
   "outputs": [
    {
     "data": {
      "text/html": [
       "<div><style>\n",
       ".dataframe > thead > tr,\n",
       ".dataframe > tbody > tr {\n",
       "  text-align: right;\n",
       "  white-space: pre-wrap;\n",
       "}\n",
       "</style>\n",
       "<small>shape: (7_000, 3)</small><table border=\"1\" class=\"dataframe\"><thead><tr><th>text</th><th>label</th><th>source</th></tr><tr><td>str</td><td>i64</td><td>str</td></tr></thead><tbody><tr><td>&quot;Mais um lixo&quot;</td><td>1</td><td>&quot;HateBR&quot;</td></tr><tr><td>&quot;Essa nao tem vergonha na cara!…</td><td>1</td><td>&quot;HateBR&quot;</td></tr><tr><td>&quot;Essa mulher é doente.pilantra!&quot;</td><td>1</td><td>&quot;HateBR&quot;</td></tr><tr><td>&quot;Comunista safada...&quot;</td><td>1</td><td>&quot;HateBR&quot;</td></tr><tr><td>&quot;Vagabunda. Comunista. Mentiros…</td><td>1</td><td>&quot;HateBR&quot;</td></tr><tr><td>&hellip;</td><td>&hellip;</td><td>&hellip;</td></tr><tr><td>&quot;Parabéns Eduardo!!! Deus te pr…</td><td>0</td><td>&quot;HateBR&quot;</td></tr><tr><td>&quot;A melhor maneira de unir a dir…</td><td>0</td><td>&quot;HateBR&quot;</td></tr><tr><td>&quot;Vcs são lutadores. Sejam prote…</td><td>0</td><td>&quot;HateBR&quot;</td></tr><tr><td>&quot;Parabéns Deus abençoe 🙌, que a…</td><td>0</td><td>&quot;HateBR&quot;</td></tr><tr><td>&quot;Agradecer a Deus por colocar e…</td><td>0</td><td>&quot;HateBR&quot;</td></tr></tbody></table></div>"
      ],
      "text/plain": [
       "shape: (7_000, 3)\n",
       "┌─────────────────────────────────┬───────┬────────┐\n",
       "│ text                            ┆ label ┆ source │\n",
       "│ ---                             ┆ ---   ┆ ---    │\n",
       "│ str                             ┆ i64   ┆ str    │\n",
       "╞═════════════════════════════════╪═══════╪════════╡\n",
       "│ Mais um lixo                    ┆ 1     ┆ HateBR │\n",
       "│ Essa nao tem vergonha na cara!… ┆ 1     ┆ HateBR │\n",
       "│ Essa mulher é doente.pilantra!  ┆ 1     ┆ HateBR │\n",
       "│ Comunista safada...             ┆ 1     ┆ HateBR │\n",
       "│ Vagabunda. Comunista. Mentiros… ┆ 1     ┆ HateBR │\n",
       "│ …                               ┆ …     ┆ …      │\n",
       "│ Parabéns Eduardo!!! Deus te pr… ┆ 0     ┆ HateBR │\n",
       "│ A melhor maneira de unir a dir… ┆ 0     ┆ HateBR │\n",
       "│ Vcs são lutadores. Sejam prote… ┆ 0     ┆ HateBR │\n",
       "│ Parabéns Deus abençoe 🙌, que   ┆ 0     ┆ HateBR │\n",
       "│ a…                              ┆       ┆        │\n",
       "│ Agradecer a Deus por colocar e… ┆ 0     ┆ HateBR │\n",
       "└─────────────────────────────────┴───────┴────────┘"
      ]
     },
     "execution_count": 4,
     "metadata": {},
     "output_type": "execute_result"
    }
   ],
   "source": [
    "hatebr = pl.read_csv('../data/original_data/HateBR.csv')\n",
    "hatebr = hatebr.select([\n",
    "    pl.col('comentario').alias('text'),\n",
    "    pl.col('label_final').alias('label'),\n",
    "    pl.lit('HateBR').alias('source'),\n",
    "])\n",
    "hatebr"
   ]
  },
  {
   "cell_type": "code",
   "execution_count": 5,
   "id": "6602d2f8",
   "metadata": {},
   "outputs": [
    {
     "data": {
      "text/html": [
       "<div><style>\n",
       ".dataframe > thead > tr,\n",
       ".dataframe > tbody > tr {\n",
       "  text-align: right;\n",
       "  white-space: pre-wrap;\n",
       "}\n",
       "</style>\n",
       "<small>shape: (7_672, 3)</small><table border=\"1\" class=\"dataframe\"><thead><tr><th>text</th><th>label</th><th>source</th></tr><tr><td>str</td><td>i64</td><td>str</td></tr></thead><tbody><tr><td>&quot;&gt;&gt;22994apóio o &gt;&gt;22995. um pas…</td><td>1</td><td>&quot;Hatespeech_BR&quot;</td></tr><tr><td>&quot;eu ainda vou surtar com essa f…</td><td>0</td><td>&quot;Hatespeech_BR&quot;</td></tr><tr><td>&quot;&gt;&gt;11826 puta merda… se alguém …</td><td>1</td><td>&quot;Hatespeech_BR&quot;</td></tr><tr><td>&quot;seguinte, fizemos 4 anos de na…</td><td>1</td><td>&quot;Hatespeech_BR&quot;</td></tr><tr><td>&quot;“e por mais que o amor nos mag…</td><td>0</td><td>&quot;Hatespeech_BR&quot;</td></tr><tr><td>&hellip;</td><td>&hellip;</td><td>&hellip;</td></tr><tr><td>&quot;cátio baldé confirma proposta …</td><td>0</td><td>&quot;Hatespeech_BR&quot;</td></tr><tr><td>&quot;belo 👏🏼👏🏼👏🏼👏🏼 &quot;</td><td>0</td><td>&quot;Hatespeech_BR&quot;</td></tr><tr><td>&quot;os roteiristas do filme spotli…</td><td>1</td><td>&quot;Hatespeech_BR&quot;</td></tr><tr><td>&quot;kkkkkkkkkkkkkkkkkkeu to morren…</td><td>0</td><td>&quot;Hatespeech_BR&quot;</td></tr><tr><td>&quot;&gt;&gt;55100falando sério, já penso…</td><td>1</td><td>&quot;Hatespeech_BR&quot;</td></tr></tbody></table></div>"
      ],
      "text/plain": [
       "shape: (7_672, 3)\n",
       "┌─────────────────────────────────┬───────┬───────────────┐\n",
       "│ text                            ┆ label ┆ source        │\n",
       "│ ---                             ┆ ---   ┆ ---           │\n",
       "│ str                             ┆ i64   ┆ str           │\n",
       "╞═════════════════════════════════╪═══════╪═══════════════╡\n",
       "│ >>22994apóio o >>22995. um pas… ┆ 1     ┆ Hatespeech_BR │\n",
       "│ eu ainda vou surtar com essa f… ┆ 0     ┆ Hatespeech_BR │\n",
       "│ >>11826 puta merda… se alguém … ┆ 1     ┆ Hatespeech_BR │\n",
       "│ seguinte, fizemos 4 anos de na… ┆ 1     ┆ Hatespeech_BR │\n",
       "│ “e por mais que o amor nos mag… ┆ 0     ┆ Hatespeech_BR │\n",
       "│ …                               ┆ …     ┆ …             │\n",
       "│ cátio baldé confirma proposta … ┆ 0     ┆ Hatespeech_BR │\n",
       "│ belo 👏🏼👏🏼👏🏼👏🏼                   ┆ 0     ┆ Hatespeech_BR │\n",
       "│ os roteiristas do filme spotli… ┆ 1     ┆ Hatespeech_BR │\n",
       "│ kkkkkkkkkkkkkkkkkkeu to morren… ┆ 0     ┆ Hatespeech_BR │\n",
       "│ >>55100falando sério, já penso… ┆ 1     ┆ Hatespeech_BR │\n",
       "└─────────────────────────────────┴───────┴───────────────┘"
      ]
     },
     "execution_count": 5,
     "metadata": {},
     "output_type": "execute_result"
    }
   ],
   "source": [
    "hatespeech_br = pl.from_pandas(pd.read_json('../data/original_data/Hatespeech_BR.json'))\n",
    "hatespeech_br = hatespeech_br.select([\n",
    "    pl.col('txt').alias('text'),\n",
    "    pl.col('has_anger').replace_strict({'S': 1, None: 0}).alias('label'),\n",
    "    pl.lit('Hatespeech_BR').alias('source'),\n",
    "])\n",
    "hatespeech_br"
   ]
  },
  {
   "cell_type": "code",
   "execution_count": 6,
   "id": "65d868eb",
   "metadata": {},
   "outputs": [
    {
     "data": {
      "text/html": [
       "<div><style>\n",
       ".dataframe > thead > tr,\n",
       ".dataframe > tbody > tr {\n",
       "  text-align: right;\n",
       "  white-space: pre-wrap;\n",
       "}\n",
       "</style>\n",
       "<small>shape: (5_491, 3)</small><table border=\"1\" class=\"dataframe\"><thead><tr><th>text</th><th>label</th><th>source</th></tr><tr><td>str</td><td>i64</td><td>str</td></tr></thead><tbody><tr><td>&quot;#BBB23 prova de bate volta cha…</td><td>1</td><td>&quot;HEDOS&quot;</td></tr><tr><td>&quot;#BBB23 prova de sorte Puta mer…</td><td>0</td><td>&quot;HEDOS&quot;</td></tr><tr><td>&quot;#BDRJ Fachel, tirando a coleta…</td><td>0</td><td>&quot;HEDOS&quot;</td></tr><tr><td>&quot;#PaulistaoNaTNT que lixo de em…</td><td>1</td><td>&quot;HEDOS&quot;</td></tr><tr><td>&quot;#askbsd tinha que ser sulista …</td><td>1</td><td>&quot;HEDOS&quot;</td></tr><tr><td>&hellip;</td><td>&hellip;</td><td>&hellip;</td></tr><tr><td>&quot;“odeio sulista” todos: simmm🥹😭…</td><td>0</td><td>&quot;HEDOS&quot;</td></tr><tr><td>&quot;👀🤗 é cada merda que eu vejo no…</td><td>0</td><td>&quot;HEDOS&quot;</td></tr><tr><td>&quot;👇👇👇👇esse cara é um FDP não sei…</td><td>1</td><td>&quot;HEDOS&quot;</td></tr><tr><td>&quot;🔥No Brasil que nós queremos, f…</td><td>1</td><td>&quot;HEDOS&quot;</td></tr><tr><td>&quot;🙏🏽🙏🏽🙏🏽🙏🏽🙏🏽 Vai poupar o Nordes…</td><td>1</td><td>&quot;HEDOS&quot;</td></tr></tbody></table></div>"
      ],
      "text/plain": [
       "shape: (5_491, 3)\n",
       "┌─────────────────────────────────┬───────┬────────┐\n",
       "│ text                            ┆ label ┆ source │\n",
       "│ ---                             ┆ ---   ┆ ---    │\n",
       "│ str                             ┆ i64   ┆ str    │\n",
       "╞═════════════════════════════════╪═══════╪════════╡\n",
       "│ #BBB23 prova de bate volta cha… ┆ 1     ┆ HEDOS  │\n",
       "│ #BBB23 prova de sorte Puta mer… ┆ 0     ┆ HEDOS  │\n",
       "│ #BDRJ Fachel, tirando a coleta… ┆ 0     ┆ HEDOS  │\n",
       "│ #PaulistaoNaTNT que lixo de em… ┆ 1     ┆ HEDOS  │\n",
       "│ #askbsd tinha que ser sulista … ┆ 1     ┆ HEDOS  │\n",
       "│ …                               ┆ …     ┆ …      │\n",
       "│ “odeio sulista” todos:          ┆ 0     ┆ HEDOS  │\n",
       "│ simmm🥹😭…                      ┆       ┆        │\n",
       "│ 👀🤗 é cada merda que eu vejo   ┆ 0     ┆ HEDOS  │\n",
       "│ no…                             ┆       ┆        │\n",
       "│ 👇👇👇👇esse cara é um FDP não  ┆ 1     ┆ HEDOS  │\n",
       "│ sei…                            ┆       ┆        │\n",
       "│ 🔥No Brasil que nós queremos,   ┆ 1     ┆ HEDOS  │\n",
       "│ f…                              ┆       ┆        │\n",
       "│ 🙏🏽🙏🏽🙏🏽🙏🏽🙏🏽 Vai poupar o Nordes… ┆ 1     ┆ HEDOS  │\n",
       "└─────────────────────────────────┴───────┴────────┘"
      ]
     },
     "execution_count": 6,
     "metadata": {},
     "output_type": "execute_result"
    }
   ],
   "source": [
    "hedos = pl.read_csv('../data/original_data/HEDOS.csv')\n",
    "hedos = hedos.select([\n",
    "    pl.col('text').alias('text'),\n",
    "    pl.col('final_label').replace_strict({'toxic': 1, 'not_toxic': 0, 'Lixo': None}).alias('label'),\n",
    "    pl.lit('HEDOS').alias('source'),\n",
    "])\n",
    "hedos = hedos.filter(pl.col('label').is_not_null())\n",
    "hedos"
   ]
  },
  {
   "cell_type": "code",
   "execution_count": 7,
   "id": "605e1d9d",
   "metadata": {},
   "outputs": [
    {
     "data": {
      "text/html": [
       "<div><style>\n",
       ".dataframe > thead > tr,\n",
       ".dataframe > tbody > tr {\n",
       "  text-align: right;\n",
       "  white-space: pre-wrap;\n",
       "}\n",
       "</style>\n",
       "<small>shape: (1_250, 3)</small><table border=\"1\" class=\"dataframe\"><thead><tr><th>text</th><th>label</th><th>source</th></tr><tr><td>str</td><td>i64</td><td>str</td></tr></thead><tbody><tr><td>&quot;Votaram no PEZAO Agora tomem n…</td><td>1</td><td>&quot;OffComBR&quot;</td></tr><tr><td>&quot;cuidado com a poupanca pessoal…</td><td>0</td><td>&quot;OffComBR&quot;</td></tr><tr><td>&quot;Sabe o que eu acho engracado o…</td><td>0</td><td>&quot;OffComBR&quot;</td></tr><tr><td>&quot;os cariocas tem o que merecem …</td><td>1</td><td>&quot;OffComBR&quot;</td></tr><tr><td>&quot;Podiam retirar dos lucros dos …</td><td>0</td><td>&quot;OffComBR&quot;</td></tr><tr><td>&hellip;</td><td>&hellip;</td><td>&hellip;</td></tr><tr><td>&quot;LIXO DO CRL&quot;</td><td>1</td><td>&quot;OffComBR&quot;</td></tr><tr><td>&quot;ela esta fazendo isso para apa…</td><td>1</td><td>&quot;OffComBR&quot;</td></tr><tr><td>&quot;Volta pra jaula sua macaca vou…</td><td>1</td><td>&quot;OffComBR&quot;</td></tr><tr><td>&quot;Achei que a macaca vivia apena…</td><td>1</td><td>&quot;OffComBR&quot;</td></tr><tr><td>&quot;Espera essa neve derreter e us…</td><td>1</td><td>&quot;OffComBR&quot;</td></tr></tbody></table></div>"
      ],
      "text/plain": [
       "shape: (1_250, 3)\n",
       "┌─────────────────────────────────┬───────┬──────────┐\n",
       "│ text                            ┆ label ┆ source   │\n",
       "│ ---                             ┆ ---   ┆ ---      │\n",
       "│ str                             ┆ i64   ┆ str      │\n",
       "╞═════════════════════════════════╪═══════╪══════════╡\n",
       "│ Votaram no PEZAO Agora tomem n… ┆ 1     ┆ OffComBR │\n",
       "│ cuidado com a poupanca pessoal… ┆ 0     ┆ OffComBR │\n",
       "│ Sabe o que eu acho engracado o… ┆ 0     ┆ OffComBR │\n",
       "│ os cariocas tem o que merecem … ┆ 1     ┆ OffComBR │\n",
       "│ Podiam retirar dos lucros dos … ┆ 0     ┆ OffComBR │\n",
       "│ …                               ┆ …     ┆ …        │\n",
       "│ LIXO DO CRL                     ┆ 1     ┆ OffComBR │\n",
       "│ ela esta fazendo isso para apa… ┆ 1     ┆ OffComBR │\n",
       "│ Volta pra jaula sua macaca vou… ┆ 1     ┆ OffComBR │\n",
       "│ Achei que a macaca vivia apena… ┆ 1     ┆ OffComBR │\n",
       "│ Espera essa neve derreter e us… ┆ 1     ┆ OffComBR │\n",
       "└─────────────────────────────────┴───────┴──────────┘"
      ]
     },
     "execution_count": 7,
     "metadata": {},
     "output_type": "execute_result"
    }
   ],
   "source": [
    "with open('../data/original_data/OffComBR.arff') as f:\n",
    "    offcombr = arff.load(f)\n",
    "offcombr = pl.DataFrame(offcombr['data']).transpose(column_names=['label', 'text'])\n",
    "offcombr = offcombr.select([\n",
    "    pl.col('text').alias('text'),\n",
    "    pl.col('label').replace_strict({'yes': 1, 'no': 0}).alias('label'),\n",
    "    pl.lit('OffComBR').alias('source'),\n",
    "])\n",
    "offcombr"
   ]
  },
  {
   "cell_type": "code",
   "execution_count": 8,
   "id": "e53e4c8b",
   "metadata": {},
   "outputs": [
    {
     "data": {
      "text/html": [
       "<div><style>\n",
       ".dataframe > thead > tr,\n",
       ".dataframe > tbody > tr {\n",
       "  text-align: right;\n",
       "  white-space: pre-wrap;\n",
       "}\n",
       "</style>\n",
       "<small>shape: (6_952, 3)</small><table border=\"1\" class=\"dataframe\"><thead><tr><th>text</th><th>label</th><th>source</th></tr><tr><td>str</td><td>i64</td><td>str</td></tr></thead><tbody><tr><td>&quot;Pior do que adolescentezinhas …</td><td>1</td><td>&quot;OLID_BR&quot;</td></tr><tr><td>&quot;Podia ter beijo também, pra ve…</td><td>1</td><td>&quot;OLID_BR&quot;</td></tr><tr><td>&quot;o monark não é racista que fil…</td><td>1</td><td>&quot;OLID_BR&quot;</td></tr><tr><td>&quot;fudeu minha mãe acabou de cheg…</td><td>1</td><td>&quot;OLID_BR&quot;</td></tr><tr><td>&quot;Vergonha,ainda segura a bandei…</td><td>1</td><td>&quot;OLID_BR&quot;</td></tr><tr><td>&hellip;</td><td>&hellip;</td><td>&hellip;</td></tr><tr><td>&quot;Essa thayse é falsa credo 😂 😂 …</td><td>1</td><td>&quot;OLID_BR&quot;</td></tr><tr><td>&quot;Cara que tirar de contexto USE…</td><td>0</td><td>&quot;OLID_BR&quot;</td></tr><tr><td>&quot;USER Fala que era da era Obama…</td><td>1</td><td>&quot;OLID_BR&quot;</td></tr><tr><td>&quot;Existe pessoas que tem fetiche…</td><td>0</td><td>&quot;OLID_BR&quot;</td></tr><tr><td>&quot;RT USER: Mlk sai peitando a gu…</td><td>0</td><td>&quot;OLID_BR&quot;</td></tr></tbody></table></div>"
      ],
      "text/plain": [
       "shape: (6_952, 3)\n",
       "┌─────────────────────────────────┬───────┬─────────┐\n",
       "│ text                            ┆ label ┆ source  │\n",
       "│ ---                             ┆ ---   ┆ ---     │\n",
       "│ str                             ┆ i64   ┆ str     │\n",
       "╞═════════════════════════════════╪═══════╪═════════╡\n",
       "│ Pior do que adolescentezinhas … ┆ 1     ┆ OLID_BR │\n",
       "│ Podia ter beijo também, pra ve… ┆ 1     ┆ OLID_BR │\n",
       "│ o monark não é racista que fil… ┆ 1     ┆ OLID_BR │\n",
       "│ fudeu minha mãe acabou de cheg… ┆ 1     ┆ OLID_BR │\n",
       "│ Vergonha,ainda segura a bandei… ┆ 1     ┆ OLID_BR │\n",
       "│ …                               ┆ …     ┆ …       │\n",
       "│ Essa thayse é falsa credo 😂 😂 ┆ 1     ┆ OLID_BR │\n",
       "│ …                               ┆       ┆         │\n",
       "│ Cara que tirar de contexto USE… ┆ 0     ┆ OLID_BR │\n",
       "│ USER Fala que era da era Obama… ┆ 1     ┆ OLID_BR │\n",
       "│ Existe pessoas que tem fetiche… ┆ 0     ┆ OLID_BR │\n",
       "│ RT USER: Mlk sai peitando a gu… ┆ 0     ┆ OLID_BR │\n",
       "└─────────────────────────────────┴───────┴─────────┘"
      ]
     },
     "execution_count": 8,
     "metadata": {},
     "output_type": "execute_result"
    }
   ],
   "source": [
    "olid_br = pl.read_csv('../data/original_data/OLID_BR.csv')\n",
    "olid_br = olid_br.select([\n",
    "    pl.col('text').alias('text'),\n",
    "    pl.col('is_offensive').replace_strict({'OFF': 1, 'NOT': 0}).alias('label'),\n",
    "    pl.lit('OLID_BR').alias('source'),\n",
    "])\n",
    "olid_br"
   ]
  },
  {
   "cell_type": "code",
   "execution_count": 9,
   "id": "e7ea3739",
   "metadata": {},
   "outputs": [
    {
     "data": {
      "text/html": [
       "<div><style>\n",
       ".dataframe > thead > tr,\n",
       ".dataframe > tbody > tr {\n",
       "  text-align: right;\n",
       "  white-space: pre-wrap;\n",
       "}\n",
       "</style>\n",
       "<small>shape: (5_670, 3)</small><table border=\"1\" class=\"dataframe\"><thead><tr><th>text</th><th>label</th><th>source</th></tr><tr><td>str</td><td>i64</td><td>str</td></tr></thead><tbody><tr><td>&quot;@__andrea__b \n",
       "O cara vive em o…</td><td>1</td><td>&quot;Portuguese_Hate_Speech&quot;</td></tr><tr><td>&quot;@_carmeloneto Estes incompeten…</td><td>0</td><td>&quot;Portuguese_Hate_Speech&quot;</td></tr><tr><td>&quot;@_carmeloneto \n",
       "Os &#x27;cumpanhero&#x27;…</td><td>0</td><td>&quot;Portuguese_Hate_Speech&quot;</td></tr><tr><td>&quot;@_GlitteryKisses é isso não co…</td><td>0</td><td>&quot;Portuguese_Hate_Speech&quot;</td></tr><tr><td>&quot;@_iglira bom dia macaco branco…</td><td>1</td><td>&quot;Portuguese_Hate_Speech&quot;</td></tr><tr><td>&hellip;</td><td>&hellip;</td><td>&hellip;</td></tr><tr><td>&quot;@zecarlosantos2 é o unico que …</td><td>0</td><td>&quot;Portuguese_Hate_Speech&quot;</td></tr><tr><td>&quot;@zqkitowz sei das cotas, mas n…</td><td>1</td><td>&quot;Portuguese_Hate_Speech&quot;</td></tr><tr><td>&quot;@zqkitowz sim, a maioria do el…</td><td>0</td><td>&quot;Portuguese_Hate_Speech&quot;</td></tr><tr><td>&quot;@zurcju seguir no tt é facíl, …</td><td>1</td><td>&quot;Portuguese_Hate_Speech&quot;</td></tr><tr><td>&quot;na vdd a culpa é do menino de …</td><td>1</td><td>&quot;Portuguese_Hate_Speech&quot;</td></tr></tbody></table></div>"
      ],
      "text/plain": [
       "shape: (5_670, 3)\n",
       "┌─────────────────────────────────┬───────┬────────────────────────┐\n",
       "│ text                            ┆ label ┆ source                 │\n",
       "│ ---                             ┆ ---   ┆ ---                    │\n",
       "│ str                             ┆ i64   ┆ str                    │\n",
       "╞═════════════════════════════════╪═══════╪════════════════════════╡\n",
       "│ @__andrea__b                    ┆ 1     ┆ Portuguese_Hate_Speech │\n",
       "│ O cara vive em o…               ┆       ┆                        │\n",
       "│ @_carmeloneto Estes incompeten… ┆ 0     ┆ Portuguese_Hate_Speech │\n",
       "│ @_carmeloneto                   ┆ 0     ┆ Portuguese_Hate_Speech │\n",
       "│ Os 'cumpanhero'…                ┆       ┆                        │\n",
       "│ @_GlitteryKisses é isso não co… ┆ 0     ┆ Portuguese_Hate_Speech │\n",
       "│ @_iglira bom dia macaco branco… ┆ 1     ┆ Portuguese_Hate_Speech │\n",
       "│ …                               ┆ …     ┆ …                      │\n",
       "│ @zecarlosantos2 é o unico que … ┆ 0     ┆ Portuguese_Hate_Speech │\n",
       "│ @zqkitowz sei das cotas, mas n… ┆ 1     ┆ Portuguese_Hate_Speech │\n",
       "│ @zqkitowz sim, a maioria do el… ┆ 0     ┆ Portuguese_Hate_Speech │\n",
       "│ @zurcju seguir no tt é facíl, … ┆ 1     ┆ Portuguese_Hate_Speech │\n",
       "│ na vdd a culpa é do menino de … ┆ 1     ┆ Portuguese_Hate_Speech │\n",
       "└─────────────────────────────────┴───────┴────────────────────────┘"
      ]
     },
     "execution_count": 9,
     "metadata": {},
     "output_type": "execute_result"
    }
   ],
   "source": [
    "portuguese_hate_speech = pl.read_csv('../data/original_data/Portuguese_Hate_Speech__Binary.csv', schema_overrides={'hatespeech_G2': pl.String})\n",
    "portuguese_hate_speech = portuguese_hate_speech.select([\n",
    "    pl.col('text').alias('text'),\n",
    "    pl.col('hatespeech_comb').alias('label'),\n",
    "    pl.lit('Portuguese_Hate_Speech').alias('source'),\n",
    "])\n",
    "portuguese_hate_speech"
   ]
  },
  {
   "cell_type": "code",
   "execution_count": 10,
   "id": "19519e53",
   "metadata": {},
   "outputs": [
    {
     "data": {
      "text/html": [
       "<div><style>\n",
       ".dataframe > thead > tr,\n",
       ".dataframe > tbody > tr {\n",
       "  text-align: right;\n",
       "  white-space: pre-wrap;\n",
       "}\n",
       "</style>\n",
       "<small>shape: (21_000, 3)</small><table border=\"1\" class=\"dataframe\"><thead><tr><th>text</th><th>label</th><th>source</th></tr><tr><td>str</td><td>i32</td><td>str</td></tr></thead><tbody><tr><td>&quot;Meu nivel de amizade com isis …</td><td>1</td><td>&quot;TOLD_BR&quot;</td></tr><tr><td>&quot;rt @user @user o cara adultera…</td><td>1</td><td>&quot;TOLD_BR&quot;</td></tr><tr><td>&quot;@user @user @user o cara só é …</td><td>1</td><td>&quot;TOLD_BR&quot;</td></tr><tr><td>&quot;eu to chorando vei vsf e eu ne…</td><td>1</td><td>&quot;TOLD_BR&quot;</td></tr><tr><td>&quot;Eleitor do Bolsonaro é tão ign…</td><td>1</td><td>&quot;TOLD_BR&quot;</td></tr><tr><td>&hellip;</td><td>&hellip;</td><td>&hellip;</td></tr><tr><td>&quot;@user faz favor vai carai&quot;</td><td>0</td><td>&quot;TOLD_BR&quot;</td></tr><tr><td>&quot;só queria conhecer alguém que …</td><td>1</td><td>&quot;TOLD_BR&quot;</td></tr><tr><td>&quot;vcs militam na hora errada em …</td><td>0</td><td>&quot;TOLD_BR&quot;</td></tr><tr><td>&quot;@user porra any eu tava c dor …</td><td>0</td><td>&quot;TOLD_BR&quot;</td></tr><tr><td>&quot;saudades da iasmin de 2017 eu …</td><td>0</td><td>&quot;TOLD_BR&quot;</td></tr></tbody></table></div>"
      ],
      "text/plain": [
       "shape: (21_000, 3)\n",
       "┌─────────────────────────────────┬───────┬─────────┐\n",
       "│ text                            ┆ label ┆ source  │\n",
       "│ ---                             ┆ ---   ┆ ---     │\n",
       "│ str                             ┆ i32   ┆ str     │\n",
       "╞═════════════════════════════════╪═══════╪═════════╡\n",
       "│ Meu nivel de amizade com isis … ┆ 1     ┆ TOLD_BR │\n",
       "│ rt @user @user o cara adultera… ┆ 1     ┆ TOLD_BR │\n",
       "│ @user @user @user o cara só é … ┆ 1     ┆ TOLD_BR │\n",
       "│ eu to chorando vei vsf e eu ne… ┆ 1     ┆ TOLD_BR │\n",
       "│ Eleitor do Bolsonaro é tão ign… ┆ 1     ┆ TOLD_BR │\n",
       "│ …                               ┆ …     ┆ …       │\n",
       "│ @user faz favor vai carai       ┆ 0     ┆ TOLD_BR │\n",
       "│ só queria conhecer alguém que … ┆ 1     ┆ TOLD_BR │\n",
       "│ vcs militam na hora errada em … ┆ 0     ┆ TOLD_BR │\n",
       "│ @user porra any eu tava c dor … ┆ 0     ┆ TOLD_BR │\n",
       "│ saudades da iasmin de 2017 eu … ┆ 0     ┆ TOLD_BR │\n",
       "└─────────────────────────────────┴───────┴─────────┘"
      ]
     },
     "execution_count": 10,
     "metadata": {},
     "output_type": "execute_result"
    }
   ],
   "source": [
    "told_br = pl.read_parquet('../data/original_data/TOLD_BR.parquet')\n",
    "told_br = told_br.select([\n",
    "    pl.col('text').alias('text'),\n",
    "    pl.when(pl.sum_horizontal(['homophobia', 'obscene', 'insult', 'racism', 'misogyny', 'xenophobia']) > 0)\n",
    "    .then(1)\n",
    "    .otherwise(0)\n",
    "    .alias('label'),\n",
    "    pl.lit('TOLD_BR').alias('source'),\n",
    "])\n",
    "told_br"
   ]
  },
  {
   "cell_type": "code",
   "execution_count": 11,
   "id": "ea7e35fe",
   "metadata": {},
   "outputs": [
    {
     "data": {
      "text/html": [
       "<div><style>\n",
       ".dataframe > thead > tr,\n",
       ".dataframe > tbody > tr {\n",
       "  text-align: right;\n",
       "  white-space: pre-wrap;\n",
       "}\n",
       "</style>\n",
       "<small>shape: (55_035, 3)</small><table border=\"1\" class=\"dataframe\"><thead><tr><th>text</th><th>label</th><th>source</th></tr><tr><td>str</td><td>i64</td><td>str</td></tr></thead><tbody><tr><td>&quot;Mais um lixo&quot;</td><td>1</td><td>&quot;HateBR&quot;</td></tr><tr><td>&quot;Essa nao tem vergonha na cara!…</td><td>1</td><td>&quot;HateBR&quot;</td></tr><tr><td>&quot;Essa mulher é doente.pilantra!&quot;</td><td>1</td><td>&quot;HateBR&quot;</td></tr><tr><td>&quot;Comunista safada...&quot;</td><td>1</td><td>&quot;HateBR&quot;</td></tr><tr><td>&quot;Vagabunda. Comunista. Mentiros…</td><td>1</td><td>&quot;HateBR&quot;</td></tr><tr><td>&hellip;</td><td>&hellip;</td><td>&hellip;</td></tr><tr><td>&quot;@user faz favor vai carai&quot;</td><td>0</td><td>&quot;TOLD_BR&quot;</td></tr><tr><td>&quot;só queria conhecer alguém que …</td><td>1</td><td>&quot;TOLD_BR&quot;</td></tr><tr><td>&quot;vcs militam na hora errada em …</td><td>0</td><td>&quot;TOLD_BR&quot;</td></tr><tr><td>&quot;@user porra any eu tava c dor …</td><td>0</td><td>&quot;TOLD_BR&quot;</td></tr><tr><td>&quot;saudades da iasmin de 2017 eu …</td><td>0</td><td>&quot;TOLD_BR&quot;</td></tr></tbody></table></div>"
      ],
      "text/plain": [
       "shape: (55_035, 3)\n",
       "┌─────────────────────────────────┬───────┬─────────┐\n",
       "│ text                            ┆ label ┆ source  │\n",
       "│ ---                             ┆ ---   ┆ ---     │\n",
       "│ str                             ┆ i64   ┆ str     │\n",
       "╞═════════════════════════════════╪═══════╪═════════╡\n",
       "│ Mais um lixo                    ┆ 1     ┆ HateBR  │\n",
       "│ Essa nao tem vergonha na cara!… ┆ 1     ┆ HateBR  │\n",
       "│ Essa mulher é doente.pilantra!  ┆ 1     ┆ HateBR  │\n",
       "│ Comunista safada...             ┆ 1     ┆ HateBR  │\n",
       "│ Vagabunda. Comunista. Mentiros… ┆ 1     ┆ HateBR  │\n",
       "│ …                               ┆ …     ┆ …       │\n",
       "│ @user faz favor vai carai       ┆ 0     ┆ TOLD_BR │\n",
       "│ só queria conhecer alguém que … ┆ 1     ┆ TOLD_BR │\n",
       "│ vcs militam na hora errada em … ┆ 0     ┆ TOLD_BR │\n",
       "│ @user porra any eu tava c dor … ┆ 0     ┆ TOLD_BR │\n",
       "│ saudades da iasmin de 2017 eu … ┆ 0     ┆ TOLD_BR │\n",
       "└─────────────────────────────────┴───────┴─────────┘"
      ]
     },
     "execution_count": 11,
     "metadata": {},
     "output_type": "execute_result"
    }
   ],
   "source": [
    "concat_binary_df = pl.concat([hatebr, hatespeech_br, hedos, offcombr, olid_br, portuguese_hate_speech, told_br], how='vertical_relaxed')\n",
    "concat_binary_df"
   ]
  },
  {
   "cell_type": "code",
   "execution_count": 12,
   "id": "ed149f78",
   "metadata": {},
   "outputs": [],
   "source": [
    "concat_binary_df.write_parquet('../data/processed_data/concat_binary_df.parquet')"
   ]
  },
  {
   "cell_type": "code",
   "execution_count": null,
   "id": "ed609bfa",
   "metadata": {},
   "outputs": [],
   "source": []
  }
 ],
 "metadata": {
  "kernelspec": {
   "display_name": "Python 3",
   "language": "python",
   "name": "python3"
  },
  "language_info": {
   "codemirror_mode": {
    "name": "ipython",
    "version": 3
   },
   "file_extension": ".py",
   "mimetype": "text/x-python",
   "name": "python",
   "nbconvert_exporter": "python",
   "pygments_lexer": "ipython3",
   "version": "3.13.2"
  }
 },
 "nbformat": 4,
 "nbformat_minor": 5
}
