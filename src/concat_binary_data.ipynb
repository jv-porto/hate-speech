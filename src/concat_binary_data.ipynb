{
 "cells": [
  {
   "cell_type": "code",
   "execution_count": 1,
   "id": "47b68ae5",
   "metadata": {},
   "outputs": [],
   "source": [
    "import arff\n",
    "import pandas as pd\n",
    "import polars as pl"
   ]
  },
  {
   "cell_type": "code",
   "execution_count": 2,
   "id": "6ca9304c",
   "metadata": {},
   "outputs": [
    {
     "data": {
      "text/html": [
       "<div><style>\n",
       ".dataframe > thead > tr,\n",
       ".dataframe > tbody > tr {\n",
       "  text-align: right;\n",
       "  white-space: pre-wrap;\n",
       "}\n",
       "</style>\n",
       "<small>shape: (7_000, 2)</small><table border=\"1\" class=\"dataframe\"><thead><tr><th>text</th><th>label</th></tr><tr><td>str</td><td>i64</td></tr></thead><tbody><tr><td>&quot;Mais um lixo&quot;</td><td>1</td></tr><tr><td>&quot;Essa nao tem vergonha na cara!…</td><td>1</td></tr><tr><td>&quot;Essa mulher é doente.pilantra!&quot;</td><td>1</td></tr><tr><td>&quot;Comunista safada...&quot;</td><td>1</td></tr><tr><td>&quot;Vagabunda. Comunista. Mentiros…</td><td>1</td></tr><tr><td>&hellip;</td><td>&hellip;</td></tr><tr><td>&quot;Parabéns Eduardo!!! Deus te pr…</td><td>0</td></tr><tr><td>&quot;A melhor maneira de unir a dir…</td><td>0</td></tr><tr><td>&quot;Vcs são lutadores. Sejam prote…</td><td>0</td></tr><tr><td>&quot;Parabéns Deus abençoe 🙌, que a…</td><td>0</td></tr><tr><td>&quot;Agradecer a Deus por colocar e…</td><td>0</td></tr></tbody></table></div>"
      ],
      "text/plain": [
       "shape: (7_000, 2)\n",
       "┌─────────────────────────────────┬───────┐\n",
       "│ text                            ┆ label │\n",
       "│ ---                             ┆ ---   │\n",
       "│ str                             ┆ i64   │\n",
       "╞═════════════════════════════════╪═══════╡\n",
       "│ Mais um lixo                    ┆ 1     │\n",
       "│ Essa nao tem vergonha na cara!… ┆ 1     │\n",
       "│ Essa mulher é doente.pilantra!  ┆ 1     │\n",
       "│ Comunista safada...             ┆ 1     │\n",
       "│ Vagabunda. Comunista. Mentiros… ┆ 1     │\n",
       "│ …                               ┆ …     │\n",
       "│ Parabéns Eduardo!!! Deus te pr… ┆ 0     │\n",
       "│ A melhor maneira de unir a dir… ┆ 0     │\n",
       "│ Vcs são lutadores. Sejam prote… ┆ 0     │\n",
       "│ Parabéns Deus abençoe 🙌, que   ┆ 0     │\n",
       "│ a…                              ┆       │\n",
       "│ Agradecer a Deus por colocar e… ┆ 0     │\n",
       "└─────────────────────────────────┴───────┘"
      ]
     },
     "execution_count": 2,
     "metadata": {},
     "output_type": "execute_result"
    }
   ],
   "source": [
    "hatebr = pl.read_csv('../data/original_data/HateBR.csv')\n",
    "hatebr = hatebr.select([\n",
    "    pl.col('comentario').alias('text'),\n",
    "    pl.col('label_final').alias('label'),\n",
    "])\n",
    "hatebr"
   ]
  },
  {
   "cell_type": "code",
   "execution_count": 3,
   "id": "6602d2f8",
   "metadata": {},
   "outputs": [
    {
     "data": {
      "text/html": [
       "<div><style>\n",
       ".dataframe > thead > tr,\n",
       ".dataframe > tbody > tr {\n",
       "  text-align: right;\n",
       "  white-space: pre-wrap;\n",
       "}\n",
       "</style>\n",
       "<small>shape: (7_672, 2)</small><table border=\"1\" class=\"dataframe\"><thead><tr><th>text</th><th>label</th></tr><tr><td>str</td><td>i64</td></tr></thead><tbody><tr><td>&quot;&gt;&gt;22994apóio o &gt;&gt;22995. um pas…</td><td>1</td></tr><tr><td>&quot;eu ainda vou surtar com essa f…</td><td>0</td></tr><tr><td>&quot;&gt;&gt;11826 puta merda… se alguém …</td><td>1</td></tr><tr><td>&quot;seguinte, fizemos 4 anos de na…</td><td>1</td></tr><tr><td>&quot;“e por mais que o amor nos mag…</td><td>0</td></tr><tr><td>&hellip;</td><td>&hellip;</td></tr><tr><td>&quot;cátio baldé confirma proposta …</td><td>0</td></tr><tr><td>&quot;belo 👏🏼👏🏼👏🏼👏🏼 &quot;</td><td>0</td></tr><tr><td>&quot;os roteiristas do filme spotli…</td><td>1</td></tr><tr><td>&quot;kkkkkkkkkkkkkkkkkkeu to morren…</td><td>0</td></tr><tr><td>&quot;&gt;&gt;55100falando sério, já penso…</td><td>1</td></tr></tbody></table></div>"
      ],
      "text/plain": [
       "shape: (7_672, 2)\n",
       "┌─────────────────────────────────┬───────┐\n",
       "│ text                            ┆ label │\n",
       "│ ---                             ┆ ---   │\n",
       "│ str                             ┆ i64   │\n",
       "╞═════════════════════════════════╪═══════╡\n",
       "│ >>22994apóio o >>22995. um pas… ┆ 1     │\n",
       "│ eu ainda vou surtar com essa f… ┆ 0     │\n",
       "│ >>11826 puta merda… se alguém … ┆ 1     │\n",
       "│ seguinte, fizemos 4 anos de na… ┆ 1     │\n",
       "│ “e por mais que o amor nos mag… ┆ 0     │\n",
       "│ …                               ┆ …     │\n",
       "│ cátio baldé confirma proposta … ┆ 0     │\n",
       "│ belo 👏🏼👏🏼👏🏼👏🏼                   ┆ 0     │\n",
       "│ os roteiristas do filme spotli… ┆ 1     │\n",
       "│ kkkkkkkkkkkkkkkkkkeu to morren… ┆ 0     │\n",
       "│ >>55100falando sério, já penso… ┆ 1     │\n",
       "└─────────────────────────────────┴───────┘"
      ]
     },
     "execution_count": 3,
     "metadata": {},
     "output_type": "execute_result"
    }
   ],
   "source": [
    "hatespeech_br = pl.from_pandas(pd.read_json('../data/original_data/Hatespeech_BR.json'))\n",
    "hatespeech_br = hatespeech_br.select([\n",
    "    pl.col('txt').alias('text'),\n",
    "    pl.col('has_anger').replace_strict({'S': 1, None: 0}).alias('label'),\n",
    "])\n",
    "hatespeech_br"
   ]
  },
  {
   "cell_type": "code",
   "execution_count": 4,
   "id": "65d868eb",
   "metadata": {},
   "outputs": [
    {
     "data": {
      "text/html": [
       "<div><style>\n",
       ".dataframe > thead > tr,\n",
       ".dataframe > tbody > tr {\n",
       "  text-align: right;\n",
       "  white-space: pre-wrap;\n",
       "}\n",
       "</style>\n",
       "<small>shape: (5_491, 2)</small><table border=\"1\" class=\"dataframe\"><thead><tr><th>text</th><th>label</th></tr><tr><td>str</td><td>i64</td></tr></thead><tbody><tr><td>&quot;#BBB23 prova de bate volta cha…</td><td>1</td></tr><tr><td>&quot;#BBB23 prova de sorte Puta mer…</td><td>0</td></tr><tr><td>&quot;#BDRJ Fachel, tirando a coleta…</td><td>0</td></tr><tr><td>&quot;#PaulistaoNaTNT que lixo de em…</td><td>1</td></tr><tr><td>&quot;#askbsd tinha que ser sulista …</td><td>1</td></tr><tr><td>&hellip;</td><td>&hellip;</td></tr><tr><td>&quot;“odeio sulista” todos: simmm🥹😭…</td><td>0</td></tr><tr><td>&quot;👀🤗 é cada merda que eu vejo no…</td><td>0</td></tr><tr><td>&quot;👇👇👇👇esse cara é um FDP não sei…</td><td>1</td></tr><tr><td>&quot;🔥No Brasil que nós queremos, f…</td><td>1</td></tr><tr><td>&quot;🙏🏽🙏🏽🙏🏽🙏🏽🙏🏽 Vai poupar o Nordes…</td><td>1</td></tr></tbody></table></div>"
      ],
      "text/plain": [
       "shape: (5_491, 2)\n",
       "┌─────────────────────────────────┬───────┐\n",
       "│ text                            ┆ label │\n",
       "│ ---                             ┆ ---   │\n",
       "│ str                             ┆ i64   │\n",
       "╞═════════════════════════════════╪═══════╡\n",
       "│ #BBB23 prova de bate volta cha… ┆ 1     │\n",
       "│ #BBB23 prova de sorte Puta mer… ┆ 0     │\n",
       "│ #BDRJ Fachel, tirando a coleta… ┆ 0     │\n",
       "│ #PaulistaoNaTNT que lixo de em… ┆ 1     │\n",
       "│ #askbsd tinha que ser sulista … ┆ 1     │\n",
       "│ …                               ┆ …     │\n",
       "│ “odeio sulista” todos:          ┆ 0     │\n",
       "│ simmm🥹😭…                      ┆       │\n",
       "│ 👀🤗 é cada merda que eu vejo   ┆ 0     │\n",
       "│ no…                             ┆       │\n",
       "│ 👇👇👇👇esse cara é um FDP não  ┆ 1     │\n",
       "│ sei…                            ┆       │\n",
       "│ 🔥No Brasil que nós queremos,   ┆ 1     │\n",
       "│ f…                              ┆       │\n",
       "│ 🙏🏽🙏🏽🙏🏽🙏🏽🙏🏽 Vai poupar o Nordes… ┆ 1     │\n",
       "└─────────────────────────────────┴───────┘"
      ]
     },
     "execution_count": 4,
     "metadata": {},
     "output_type": "execute_result"
    }
   ],
   "source": [
    "hedos = pl.read_csv('../data/original_data/HEDOS.csv')\n",
    "hedos = hedos.select([\n",
    "    pl.col('text').alias('text'),\n",
    "    pl.col('final_label').replace_strict({'toxic': 1, 'not_toxic': 0, 'Lixo': None}).alias('label'),\n",
    "])\n",
    "hedos = hedos.filter(pl.col('label').is_not_null())\n",
    "hedos"
   ]
  },
  {
   "cell_type": "code",
   "execution_count": 5,
   "id": "605e1d9d",
   "metadata": {},
   "outputs": [
    {
     "data": {
      "text/html": [
       "<div><style>\n",
       ".dataframe > thead > tr,\n",
       ".dataframe > tbody > tr {\n",
       "  text-align: right;\n",
       "  white-space: pre-wrap;\n",
       "}\n",
       "</style>\n",
       "<small>shape: (1_250, 2)</small><table border=\"1\" class=\"dataframe\"><thead><tr><th>text</th><th>label</th></tr><tr><td>str</td><td>i64</td></tr></thead><tbody><tr><td>&quot;Votaram no PEZAO Agora tomem n…</td><td>1</td></tr><tr><td>&quot;cuidado com a poupanca pessoal…</td><td>0</td></tr><tr><td>&quot;Sabe o que eu acho engracado o…</td><td>0</td></tr><tr><td>&quot;os cariocas tem o que merecem …</td><td>1</td></tr><tr><td>&quot;Podiam retirar dos lucros dos …</td><td>0</td></tr><tr><td>&hellip;</td><td>&hellip;</td></tr><tr><td>&quot;LIXO DO CRL&quot;</td><td>1</td></tr><tr><td>&quot;ela esta fazendo isso para apa…</td><td>1</td></tr><tr><td>&quot;Volta pra jaula sua macaca vou…</td><td>1</td></tr><tr><td>&quot;Achei que a macaca vivia apena…</td><td>1</td></tr><tr><td>&quot;Espera essa neve derreter e us…</td><td>1</td></tr></tbody></table></div>"
      ],
      "text/plain": [
       "shape: (1_250, 2)\n",
       "┌─────────────────────────────────┬───────┐\n",
       "│ text                            ┆ label │\n",
       "│ ---                             ┆ ---   │\n",
       "│ str                             ┆ i64   │\n",
       "╞═════════════════════════════════╪═══════╡\n",
       "│ Votaram no PEZAO Agora tomem n… ┆ 1     │\n",
       "│ cuidado com a poupanca pessoal… ┆ 0     │\n",
       "│ Sabe o que eu acho engracado o… ┆ 0     │\n",
       "│ os cariocas tem o que merecem … ┆ 1     │\n",
       "│ Podiam retirar dos lucros dos … ┆ 0     │\n",
       "│ …                               ┆ …     │\n",
       "│ LIXO DO CRL                     ┆ 1     │\n",
       "│ ela esta fazendo isso para apa… ┆ 1     │\n",
       "│ Volta pra jaula sua macaca vou… ┆ 1     │\n",
       "│ Achei que a macaca vivia apena… ┆ 1     │\n",
       "│ Espera essa neve derreter e us… ┆ 1     │\n",
       "└─────────────────────────────────┴───────┘"
      ]
     },
     "execution_count": 5,
     "metadata": {},
     "output_type": "execute_result"
    }
   ],
   "source": [
    "with open('../data/original_data/OffComBR.arff') as f:\n",
    "    offcombr = arff.load(f)\n",
    "offcombr = pl.DataFrame(offcombr['data']).transpose(column_names=['label', 'text'])\n",
    "offcombr = offcombr.select([\n",
    "    pl.col('text').alias('text'),\n",
    "    pl.col('label').replace_strict({'yes': 1, 'no': 0}).alias('label'),\n",
    "])\n",
    "offcombr"
   ]
  },
  {
   "cell_type": "code",
   "execution_count": 6,
   "id": "e53e4c8b",
   "metadata": {},
   "outputs": [
    {
     "data": {
      "text/html": [
       "<div><style>\n",
       ".dataframe > thead > tr,\n",
       ".dataframe > tbody > tr {\n",
       "  text-align: right;\n",
       "  white-space: pre-wrap;\n",
       "}\n",
       "</style>\n",
       "<small>shape: (6_952, 2)</small><table border=\"1\" class=\"dataframe\"><thead><tr><th>text</th><th>label</th></tr><tr><td>str</td><td>i64</td></tr></thead><tbody><tr><td>&quot;Pior do que adolescentezinhas …</td><td>1</td></tr><tr><td>&quot;Podia ter beijo também, pra ve…</td><td>1</td></tr><tr><td>&quot;o monark não é racista que fil…</td><td>1</td></tr><tr><td>&quot;fudeu minha mãe acabou de cheg…</td><td>1</td></tr><tr><td>&quot;Vergonha,ainda segura a bandei…</td><td>1</td></tr><tr><td>&hellip;</td><td>&hellip;</td></tr><tr><td>&quot;Essa thayse é falsa credo 😂 😂 …</td><td>1</td></tr><tr><td>&quot;Cara que tirar de contexto USE…</td><td>0</td></tr><tr><td>&quot;USER Fala que era da era Obama…</td><td>1</td></tr><tr><td>&quot;Existe pessoas que tem fetiche…</td><td>0</td></tr><tr><td>&quot;RT USER: Mlk sai peitando a gu…</td><td>0</td></tr></tbody></table></div>"
      ],
      "text/plain": [
       "shape: (6_952, 2)\n",
       "┌─────────────────────────────────┬───────┐\n",
       "│ text                            ┆ label │\n",
       "│ ---                             ┆ ---   │\n",
       "│ str                             ┆ i64   │\n",
       "╞═════════════════════════════════╪═══════╡\n",
       "│ Pior do que adolescentezinhas … ┆ 1     │\n",
       "│ Podia ter beijo também, pra ve… ┆ 1     │\n",
       "│ o monark não é racista que fil… ┆ 1     │\n",
       "│ fudeu minha mãe acabou de cheg… ┆ 1     │\n",
       "│ Vergonha,ainda segura a bandei… ┆ 1     │\n",
       "│ …                               ┆ …     │\n",
       "│ Essa thayse é falsa credo 😂 😂 ┆ 1     │\n",
       "│ …                               ┆       │\n",
       "│ Cara que tirar de contexto USE… ┆ 0     │\n",
       "│ USER Fala que era da era Obama… ┆ 1     │\n",
       "│ Existe pessoas que tem fetiche… ┆ 0     │\n",
       "│ RT USER: Mlk sai peitando a gu… ┆ 0     │\n",
       "└─────────────────────────────────┴───────┘"
      ]
     },
     "execution_count": 6,
     "metadata": {},
     "output_type": "execute_result"
    }
   ],
   "source": [
    "olid_br = pl.read_csv('../data/original_data/OLID_BR.csv')\n",
    "olid_br = olid_br.select([\n",
    "    pl.col('text').alias('text'),\n",
    "    pl.col('is_offensive').replace_strict({'OFF': 1, 'NOT': 0}).alias('label'),\n",
    "])\n",
    "olid_br"
   ]
  },
  {
   "cell_type": "code",
   "execution_count": 7,
   "id": "e7ea3739",
   "metadata": {},
   "outputs": [
    {
     "data": {
      "text/html": [
       "<div><style>\n",
       ".dataframe > thead > tr,\n",
       ".dataframe > tbody > tr {\n",
       "  text-align: right;\n",
       "  white-space: pre-wrap;\n",
       "}\n",
       "</style>\n",
       "<small>shape: (5_670, 2)</small><table border=\"1\" class=\"dataframe\"><thead><tr><th>text</th><th>label</th></tr><tr><td>str</td><td>i64</td></tr></thead><tbody><tr><td>&quot;@__andrea__b \n",
       "O cara vive em o…</td><td>1</td></tr><tr><td>&quot;@_carmeloneto Estes incompeten…</td><td>0</td></tr><tr><td>&quot;@_carmeloneto \n",
       "Os &#x27;cumpanhero&#x27;…</td><td>0</td></tr><tr><td>&quot;@_GlitteryKisses é isso não co…</td><td>0</td></tr><tr><td>&quot;@_iglira bom dia macaco branco…</td><td>1</td></tr><tr><td>&hellip;</td><td>&hellip;</td></tr><tr><td>&quot;@zecarlosantos2 é o unico que …</td><td>0</td></tr><tr><td>&quot;@zqkitowz sei das cotas, mas n…</td><td>1</td></tr><tr><td>&quot;@zqkitowz sim, a maioria do el…</td><td>0</td></tr><tr><td>&quot;@zurcju seguir no tt é facíl, …</td><td>1</td></tr><tr><td>&quot;na vdd a culpa é do menino de …</td><td>1</td></tr></tbody></table></div>"
      ],
      "text/plain": [
       "shape: (5_670, 2)\n",
       "┌─────────────────────────────────┬───────┐\n",
       "│ text                            ┆ label │\n",
       "│ ---                             ┆ ---   │\n",
       "│ str                             ┆ i64   │\n",
       "╞═════════════════════════════════╪═══════╡\n",
       "│ @__andrea__b                    ┆ 1     │\n",
       "│ O cara vive em o…               ┆       │\n",
       "│ @_carmeloneto Estes incompeten… ┆ 0     │\n",
       "│ @_carmeloneto                   ┆ 0     │\n",
       "│ Os 'cumpanhero'…                ┆       │\n",
       "│ @_GlitteryKisses é isso não co… ┆ 0     │\n",
       "│ @_iglira bom dia macaco branco… ┆ 1     │\n",
       "│ …                               ┆ …     │\n",
       "│ @zecarlosantos2 é o unico que … ┆ 0     │\n",
       "│ @zqkitowz sei das cotas, mas n… ┆ 1     │\n",
       "│ @zqkitowz sim, a maioria do el… ┆ 0     │\n",
       "│ @zurcju seguir no tt é facíl, … ┆ 1     │\n",
       "│ na vdd a culpa é do menino de … ┆ 1     │\n",
       "└─────────────────────────────────┴───────┘"
      ]
     },
     "execution_count": 7,
     "metadata": {},
     "output_type": "execute_result"
    }
   ],
   "source": [
    "portuguese_hate_speech = pl.read_csv('../data/original_data/Portuguese_Hate_Speech__Binary.csv', schema_overrides={'hatespeech_G2': pl.String})\n",
    "portuguese_hate_speech = portuguese_hate_speech.select([\n",
    "    pl.col('text').alias('text'),\n",
    "    pl.col('hatespeech_comb').alias('label'),\n",
    "])\n",
    "portuguese_hate_speech"
   ]
  },
  {
   "cell_type": "code",
   "execution_count": 8,
   "id": "19519e53",
   "metadata": {},
   "outputs": [
    {
     "data": {
      "text/html": [
       "<div><style>\n",
       ".dataframe > thead > tr,\n",
       ".dataframe > tbody > tr {\n",
       "  text-align: right;\n",
       "  white-space: pre-wrap;\n",
       "}\n",
       "</style>\n",
       "<small>shape: (21_000, 2)</small><table border=\"1\" class=\"dataframe\"><thead><tr><th>text</th><th>label</th></tr><tr><td>str</td><td>i32</td></tr></thead><tbody><tr><td>&quot;Meu nivel de amizade com isis …</td><td>1</td></tr><tr><td>&quot;rt @user @user o cara adultera…</td><td>1</td></tr><tr><td>&quot;@user @user @user o cara só é …</td><td>1</td></tr><tr><td>&quot;eu to chorando vei vsf e eu ne…</td><td>1</td></tr><tr><td>&quot;Eleitor do Bolsonaro é tão ign…</td><td>1</td></tr><tr><td>&hellip;</td><td>&hellip;</td></tr><tr><td>&quot;@user faz favor vai carai&quot;</td><td>0</td></tr><tr><td>&quot;só queria conhecer alguém que …</td><td>1</td></tr><tr><td>&quot;vcs militam na hora errada em …</td><td>0</td></tr><tr><td>&quot;@user porra any eu tava c dor …</td><td>0</td></tr><tr><td>&quot;saudades da iasmin de 2017 eu …</td><td>0</td></tr></tbody></table></div>"
      ],
      "text/plain": [
       "shape: (21_000, 2)\n",
       "┌─────────────────────────────────┬───────┐\n",
       "│ text                            ┆ label │\n",
       "│ ---                             ┆ ---   │\n",
       "│ str                             ┆ i32   │\n",
       "╞═════════════════════════════════╪═══════╡\n",
       "│ Meu nivel de amizade com isis … ┆ 1     │\n",
       "│ rt @user @user o cara adultera… ┆ 1     │\n",
       "│ @user @user @user o cara só é … ┆ 1     │\n",
       "│ eu to chorando vei vsf e eu ne… ┆ 1     │\n",
       "│ Eleitor do Bolsonaro é tão ign… ┆ 1     │\n",
       "│ …                               ┆ …     │\n",
       "│ @user faz favor vai carai       ┆ 0     │\n",
       "│ só queria conhecer alguém que … ┆ 1     │\n",
       "│ vcs militam na hora errada em … ┆ 0     │\n",
       "│ @user porra any eu tava c dor … ┆ 0     │\n",
       "│ saudades da iasmin de 2017 eu … ┆ 0     │\n",
       "└─────────────────────────────────┴───────┘"
      ]
     },
     "execution_count": 8,
     "metadata": {},
     "output_type": "execute_result"
    }
   ],
   "source": [
    "told_br = pl.read_parquet('../data/original_data/TOLD_BR.parquet')\n",
    "told_br = told_br.select([\n",
    "    pl.col('text').alias('text'),\n",
    "    pl.when(pl.sum_horizontal(['homophobia', 'obscene', 'insult', 'racism', 'misogyny', 'xenophobia']) > 0)\n",
    "    .then(1)\n",
    "    .otherwise(0)\n",
    "    .alias('label'),\n",
    "])\n",
    "told_br"
   ]
  },
  {
   "cell_type": "code",
   "execution_count": 9,
   "id": "ea7e35fe",
   "metadata": {},
   "outputs": [
    {
     "data": {
      "text/html": [
       "<div><style>\n",
       ".dataframe > thead > tr,\n",
       ".dataframe > tbody > tr {\n",
       "  text-align: right;\n",
       "  white-space: pre-wrap;\n",
       "}\n",
       "</style>\n",
       "<small>shape: (55_035, 2)</small><table border=\"1\" class=\"dataframe\"><thead><tr><th>text</th><th>label</th></tr><tr><td>str</td><td>i64</td></tr></thead><tbody><tr><td>&quot;Mais um lixo&quot;</td><td>1</td></tr><tr><td>&quot;Essa nao tem vergonha na cara!…</td><td>1</td></tr><tr><td>&quot;Essa mulher é doente.pilantra!&quot;</td><td>1</td></tr><tr><td>&quot;Comunista safada...&quot;</td><td>1</td></tr><tr><td>&quot;Vagabunda. Comunista. Mentiros…</td><td>1</td></tr><tr><td>&hellip;</td><td>&hellip;</td></tr><tr><td>&quot;@user faz favor vai carai&quot;</td><td>0</td></tr><tr><td>&quot;só queria conhecer alguém que …</td><td>1</td></tr><tr><td>&quot;vcs militam na hora errada em …</td><td>0</td></tr><tr><td>&quot;@user porra any eu tava c dor …</td><td>0</td></tr><tr><td>&quot;saudades da iasmin de 2017 eu …</td><td>0</td></tr></tbody></table></div>"
      ],
      "text/plain": [
       "shape: (55_035, 2)\n",
       "┌─────────────────────────────────┬───────┐\n",
       "│ text                            ┆ label │\n",
       "│ ---                             ┆ ---   │\n",
       "│ str                             ┆ i64   │\n",
       "╞═════════════════════════════════╪═══════╡\n",
       "│ Mais um lixo                    ┆ 1     │\n",
       "│ Essa nao tem vergonha na cara!… ┆ 1     │\n",
       "│ Essa mulher é doente.pilantra!  ┆ 1     │\n",
       "│ Comunista safada...             ┆ 1     │\n",
       "│ Vagabunda. Comunista. Mentiros… ┆ 1     │\n",
       "│ …                               ┆ …     │\n",
       "│ @user faz favor vai carai       ┆ 0     │\n",
       "│ só queria conhecer alguém que … ┆ 1     │\n",
       "│ vcs militam na hora errada em … ┆ 0     │\n",
       "│ @user porra any eu tava c dor … ┆ 0     │\n",
       "│ saudades da iasmin de 2017 eu … ┆ 0     │\n",
       "└─────────────────────────────────┴───────┘"
      ]
     },
     "execution_count": 9,
     "metadata": {},
     "output_type": "execute_result"
    }
   ],
   "source": [
    "concat_binary_df = pl.concat([hatebr, hatespeech_br, hedos, offcombr, olid_br, portuguese_hate_speech, told_br], how='vertical_relaxed')\n",
    "concat_binary_df"
   ]
  },
  {
   "cell_type": "code",
   "execution_count": 11,
   "id": "ed149f78",
   "metadata": {},
   "outputs": [],
   "source": [
    "concat_binary_df.write_parquet('../data/processed_data/concat_binary_df.parquet')"
   ]
  },
  {
   "cell_type": "code",
   "execution_count": null,
   "id": "ed609bfa",
   "metadata": {},
   "outputs": [],
   "source": []
  }
 ],
 "metadata": {
  "kernelspec": {
   "display_name": "Python 3",
   "language": "python",
   "name": "python3"
  },
  "language_info": {
   "codemirror_mode": {
    "name": "ipython",
    "version": 3
   },
   "file_extension": ".py",
   "mimetype": "text/x-python",
   "name": "python",
   "nbconvert_exporter": "python",
   "pygments_lexer": "ipython3",
   "version": "3.13.2"
  }
 },
 "nbformat": 4,
 "nbformat_minor": 5
}
