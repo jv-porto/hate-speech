{
 "cells": [
  {
   "cell_type": "markdown",
   "id": "1715dfb2",
   "metadata": {},
   "source": [
    "Mapeamento dos datasets multicategorias "
   ]
  },
  {
   "cell_type": "code",
   "execution_count": 2,
   "id": "1516405d",
   "metadata": {},
   "outputs": [],
   "source": [
    "import pandas as pd\n",
    "import os"
   ]
  },
  {
   "cell_type": "markdown",
   "id": "84835f0a",
   "metadata": {},
   "source": [
    "## [OLID-BR, Trajano et al., 2023](https://www.kaggle.com/datasets/dougtrajano/olidbr/data)"
   ]
  },
  {
   "cell_type": "code",
   "execution_count": 15,
   "id": "7119e47b",
   "metadata": {},
   "outputs": [
    {
     "name": "stdout",
     "output_type": "stream",
     "text": [
      "Tamanho do dataset: 6952\n",
      "Comentários ofensivos: 5936\n",
      "Comentários não ofensivos: 1016\n"
     ]
    }
   ],
   "source": [
    "dataset_path = '../data'\n",
    "filepath = os.path.join(dataset_path, 'trajano2023/test_metadata.csv')\n",
    "\n",
    "olid_br_test = pd.read_csv(os.path.join(dataset_path, 'trajano2023/test.csv'))\n",
    "olid_br_train = pd.read_csv(os.path.join(dataset_path, 'trajano2023/train.csv'))\n",
    "\n",
    "olid_br = pd.concat([olid_br_train, olid_br_test], ignore_index=True)\n",
    "\n",
    "print(f'Tamanho do dataset: {len(olid_br)}')\n",
    "print(f'Comentários ofensivos: {len(olid_br[olid_br['is_offensive'] == 'OFF'])}')\n",
    "print(f'Comentários não ofensivos: {len(olid_br[olid_br['is_offensive'] == 'NOT'])}')\n"
   ]
  },
  {
   "cell_type": "code",
   "execution_count": 17,
   "id": "ddfb6933",
   "metadata": {},
   "outputs": [
    {
     "name": "stdout",
     "output_type": "stream",
     "text": [
      "Categorias\n",
      "insult                   5589\n",
      "profanity_obscene        2311\n",
      "ideology                 1221\n",
      "sexism                    461\n",
      "lgbtqphobia               375\n",
      "physical_aspects          334\n",
      "health                    158\n",
      "other_lifestyle           135\n",
      "xenophobia                128\n",
      "racism                     92\n",
      "religious_intolerance       0\n",
      "dtype: int64\n"
     ]
    }
   ],
   "source": [
    "category_columns = olid_br.columns[6:]\n",
    "true_counts = olid_br[category_columns].sum(axis=0).sort_values(ascending=False)\n",
    "\n",
    "print('Categorias')\n",
    "print(true_counts)"
   ]
  },
  {
   "cell_type": "markdown",
   "id": "9a21d223",
   "metadata": {},
   "source": [
    "## [ToLD-BR, Leite et al., 2020](https://github.com/joaoaleite/ToLD-Br)"
   ]
  },
  {
   "cell_type": "code",
   "execution_count": 19,
   "id": "f3436a32",
   "metadata": {},
   "outputs": [
    {
     "name": "stdout",
     "output_type": "stream",
     "text": [
      "Tamanho do dataset: 6952\n",
      "Comentários ofensivos: 5936\n",
      "Comentários não ofensivos: 1016\n"
     ]
    },
    {
     "data": {
      "text/plain": [
       "Index(['text', 'homophobia', 'obscene', 'insult', 'racism', 'misogyny',\n",
       "       'xenophobia'],\n",
       "      dtype='object')"
      ]
     },
     "execution_count": 19,
     "metadata": {},
     "output_type": "execute_result"
    }
   ],
   "source": [
    "told_br = pd.read_csv(os.path.join(dataset_path, 'ToLD-BR.csv'))\n",
    "\n",
    "print(f'Tamanho do dataset: {len(olid_br)}')\n",
    "print(f'Comentários ofensivos: {len(olid_br[olid_br['is_offensive'] == 'OFF'])}')\n",
    "print(f'Comentários não ofensivos: {len(olid_br[olid_br['is_offensive'] == 'NOT'])}')\n",
    "\n",
    "told_br.columns"
   ]
  },
  {
   "cell_type": "code",
   "execution_count": 20,
   "id": "aa24cf3f",
   "metadata": {},
   "outputs": [
    {
     "name": "stdout",
     "output_type": "stream",
     "text": [
      "<class 'pandas.core.frame.DataFrame'>\n",
      "RangeIndex: 21000 entries, 0 to 20999\n",
      "Data columns (total 7 columns):\n",
      " #   Column      Non-Null Count  Dtype  \n",
      "---  ------      --------------  -----  \n",
      " 0   text        21000 non-null  object \n",
      " 1   homophobia  21000 non-null  float64\n",
      " 2   obscene     21000 non-null  float64\n",
      " 3   insult      21000 non-null  float64\n",
      " 4   racism      21000 non-null  float64\n",
      " 5   misogyny    21000 non-null  float64\n",
      " 6   xenophobia  21000 non-null  float64\n",
      "dtypes: float64(6), object(1)\n",
      "memory usage: 1.1+ MB\n"
     ]
    }
   ],
   "source": [
    "told_br.info()"
   ]
  },
  {
   "cell_type": "code",
   "execution_count": null,
   "id": "2195a7f6",
   "metadata": {},
   "outputs": [],
   "source": []
  }
 ],
 "metadata": {
  "kernelspec": {
   "display_name": ".venv",
   "language": "python",
   "name": "python3"
  },
  "language_info": {
   "codemirror_mode": {
    "name": "ipython",
    "version": 3
   },
   "file_extension": ".py",
   "mimetype": "text/x-python",
   "name": "python",
   "nbconvert_exporter": "python",
   "pygments_lexer": "ipython3",
   "version": "3.12.9"
  }
 },
 "nbformat": 4,
 "nbformat_minor": 5
}
