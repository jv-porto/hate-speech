{
 "cells": [
  {
   "cell_type": "code",
   "execution_count": 12,
   "id": "7368dc2d",
   "metadata": {},
   "outputs": [],
   "source": [
    "import polars as pl"
   ]
  },
  {
   "cell_type": "code",
   "execution_count": 13,
   "id": "4cc03146",
   "metadata": {},
   "outputs": [
    {
     "data": {
      "text/html": [
       "<div><style>\n",
       ".dataframe > thead > tr,\n",
       ".dataframe > tbody > tr {\n",
       "  text-align: right;\n",
       "  white-space: pre-wrap;\n",
       "}\n",
       "</style>\n",
       "<small>shape: (55_035, 3)</small><table border=\"1\" class=\"dataframe\"><thead><tr><th>text</th><th>label</th><th>source</th></tr><tr><td>str</td><td>i64</td><td>str</td></tr></thead><tbody><tr><td>&quot;Mais um lixo&quot;</td><td>1</td><td>&quot;HateBR&quot;</td></tr><tr><td>&quot;Essa nao tem vergonha na cara!…</td><td>1</td><td>&quot;HateBR&quot;</td></tr><tr><td>&quot;Essa mulher é doente.pilantra!&quot;</td><td>1</td><td>&quot;HateBR&quot;</td></tr><tr><td>&quot;Comunista safada...&quot;</td><td>1</td><td>&quot;HateBR&quot;</td></tr><tr><td>&quot;Vagabunda. Comunista. Mentiros…</td><td>1</td><td>&quot;HateBR&quot;</td></tr><tr><td>&hellip;</td><td>&hellip;</td><td>&hellip;</td></tr><tr><td>&quot;@user faz favor vai carai&quot;</td><td>0</td><td>&quot;TOLD_BR&quot;</td></tr><tr><td>&quot;só queria conhecer alguém que …</td><td>1</td><td>&quot;TOLD_BR&quot;</td></tr><tr><td>&quot;vcs militam na hora errada em …</td><td>0</td><td>&quot;TOLD_BR&quot;</td></tr><tr><td>&quot;@user porra any eu tava c dor …</td><td>0</td><td>&quot;TOLD_BR&quot;</td></tr><tr><td>&quot;saudades da iasmin de 2017 eu …</td><td>0</td><td>&quot;TOLD_BR&quot;</td></tr></tbody></table></div>"
      ],
      "text/plain": [
       "shape: (55_035, 3)\n",
       "┌─────────────────────────────────┬───────┬─────────┐\n",
       "│ text                            ┆ label ┆ source  │\n",
       "│ ---                             ┆ ---   ┆ ---     │\n",
       "│ str                             ┆ i64   ┆ str     │\n",
       "╞═════════════════════════════════╪═══════╪═════════╡\n",
       "│ Mais um lixo                    ┆ 1     ┆ HateBR  │\n",
       "│ Essa nao tem vergonha na cara!… ┆ 1     ┆ HateBR  │\n",
       "│ Essa mulher é doente.pilantra!  ┆ 1     ┆ HateBR  │\n",
       "│ Comunista safada...             ┆ 1     ┆ HateBR  │\n",
       "│ Vagabunda. Comunista. Mentiros… ┆ 1     ┆ HateBR  │\n",
       "│ …                               ┆ …     ┆ …       │\n",
       "│ @user faz favor vai carai       ┆ 0     ┆ TOLD_BR │\n",
       "│ só queria conhecer alguém que … ┆ 1     ┆ TOLD_BR │\n",
       "│ vcs militam na hora errada em … ┆ 0     ┆ TOLD_BR │\n",
       "│ @user porra any eu tava c dor … ┆ 0     ┆ TOLD_BR │\n",
       "│ saudades da iasmin de 2017 eu … ┆ 0     ┆ TOLD_BR │\n",
       "└─────────────────────────────────┴───────┴─────────┘"
      ]
     },
     "execution_count": 13,
     "metadata": {},
     "output_type": "execute_result"
    }
   ],
   "source": [
    "concat_binary_df = pl.read_parquet('../data/processed_data/concat_binary_df.parquet')\n",
    "concat_binary_df"
   ]
  },
  {
   "cell_type": "code",
   "execution_count": 14,
   "id": "79da667f",
   "metadata": {},
   "outputs": [
    {
     "data": {
      "text/html": [
       "<div><style>\n",
       ".dataframe > thead > tr,\n",
       ".dataframe > tbody > tr {\n",
       "  text-align: right;\n",
       "  white-space: pre-wrap;\n",
       "}\n",
       "</style>\n",
       "<small>shape: (2, 2)</small><table border=\"1\" class=\"dataframe\"><thead><tr><th>label</th><th>proportion</th></tr><tr><td>i64</td><td>f64</td></tr></thead><tbody><tr><td>1</td><td>52.8</td></tr><tr><td>0</td><td>47.2</td></tr></tbody></table></div>"
      ],
      "text/plain": [
       "shape: (2, 2)\n",
       "┌───────┬────────────┐\n",
       "│ label ┆ proportion │\n",
       "│ ---   ┆ ---        │\n",
       "│ i64   ┆ f64        │\n",
       "╞═══════╪════════════╡\n",
       "│ 1     ┆ 52.8       │\n",
       "│ 0     ┆ 47.2       │\n",
       "└───────┴────────────┘"
      ]
     },
     "execution_count": 14,
     "metadata": {},
     "output_type": "execute_result"
    }
   ],
   "source": [
    "concat_binary_df.get_column('label').value_counts(normalize=True, sort=True).with_columns([\n",
    "    pl.col('proportion').mul(100).round(1),\n",
    "])"
   ]
  },
  {
   "cell_type": "code",
   "execution_count": 15,
   "id": "77a2d5c5",
   "metadata": {},
   "outputs": [
    {
     "data": {
      "text/html": [
       "<div><style>\n",
       ".dataframe > thead > tr,\n",
       ".dataframe > tbody > tr {\n",
       "  text-align: right;\n",
       "  white-space: pre-wrap;\n",
       "}\n",
       "</style>\n",
       "<small>shape: (7, 2)</small><table border=\"1\" class=\"dataframe\"><thead><tr><th>source</th><th>proportion</th></tr><tr><td>str</td><td>f64</td></tr></thead><tbody><tr><td>&quot;TOLD_BR&quot;</td><td>38.2</td></tr><tr><td>&quot;Hatespeech_BR&quot;</td><td>13.9</td></tr><tr><td>&quot;HateBR&quot;</td><td>12.7</td></tr><tr><td>&quot;OLID_BR&quot;</td><td>12.6</td></tr><tr><td>&quot;Portuguese_Hate_Speech&quot;</td><td>10.3</td></tr><tr><td>&quot;HEDOS&quot;</td><td>10.0</td></tr><tr><td>&quot;OffComBR&quot;</td><td>2.3</td></tr></tbody></table></div>"
      ],
      "text/plain": [
       "shape: (7, 2)\n",
       "┌────────────────────────┬────────────┐\n",
       "│ source                 ┆ proportion │\n",
       "│ ---                    ┆ ---        │\n",
       "│ str                    ┆ f64        │\n",
       "╞════════════════════════╪════════════╡\n",
       "│ TOLD_BR                ┆ 38.2       │\n",
       "│ Hatespeech_BR          ┆ 13.9       │\n",
       "│ HateBR                 ┆ 12.7       │\n",
       "│ OLID_BR                ┆ 12.6       │\n",
       "│ Portuguese_Hate_Speech ┆ 10.3       │\n",
       "│ HEDOS                  ┆ 10.0       │\n",
       "│ OffComBR               ┆ 2.3        │\n",
       "└────────────────────────┴────────────┘"
      ]
     },
     "execution_count": 15,
     "metadata": {},
     "output_type": "execute_result"
    }
   ],
   "source": [
    "concat_binary_df.get_column('source').value_counts(normalize=True, sort=True).with_columns([\n",
    "    pl.col('proportion').mul(100).round(1),\n",
    "])"
   ]
  },
  {
   "cell_type": "code",
   "execution_count": 16,
   "id": "92ddd0aa",
   "metadata": {},
   "outputs": [
    {
     "data": {
      "text/html": [
       "<div><style>\n",
       ".dataframe > thead > tr,\n",
       ".dataframe > tbody > tr {\n",
       "  text-align: right;\n",
       "  white-space: pre-wrap;\n",
       "}\n",
       "</style>\n",
       "<small>shape: (7, 2)</small><table border=\"1\" class=\"dataframe\"><thead><tr><th>source</th><th>count</th></tr><tr><td>str</td><td>u32</td></tr></thead><tbody><tr><td>&quot;TOLD_BR&quot;</td><td>21000</td></tr><tr><td>&quot;Hatespeech_BR&quot;</td><td>7672</td></tr><tr><td>&quot;HateBR&quot;</td><td>7000</td></tr><tr><td>&quot;OLID_BR&quot;</td><td>6952</td></tr><tr><td>&quot;Portuguese_Hate_Speech&quot;</td><td>5670</td></tr><tr><td>&quot;HEDOS&quot;</td><td>5491</td></tr><tr><td>&quot;OffComBR&quot;</td><td>1250</td></tr></tbody></table></div>"
      ],
      "text/plain": [
       "shape: (7, 2)\n",
       "┌────────────────────────┬───────┐\n",
       "│ source                 ┆ count │\n",
       "│ ---                    ┆ ---   │\n",
       "│ str                    ┆ u32   │\n",
       "╞════════════════════════╪═══════╡\n",
       "│ TOLD_BR                ┆ 21000 │\n",
       "│ Hatespeech_BR          ┆ 7672  │\n",
       "│ HateBR                 ┆ 7000  │\n",
       "│ OLID_BR                ┆ 6952  │\n",
       "│ Portuguese_Hate_Speech ┆ 5670  │\n",
       "│ HEDOS                  ┆ 5491  │\n",
       "│ OffComBR               ┆ 1250  │\n",
       "└────────────────────────┴───────┘"
      ]
     },
     "execution_count": 16,
     "metadata": {},
     "output_type": "execute_result"
    }
   ],
   "source": [
    "concat_binary_df.get_column('source').value_counts(sort=True)"
   ]
  },
  {
   "cell_type": "code",
   "execution_count": null,
   "id": "986aa6fe",
   "metadata": {},
   "outputs": [],
   "source": []
  }
 ],
 "metadata": {
  "kernelspec": {
   "display_name": "Python 3",
   "language": "python",
   "name": "python3"
  },
  "language_info": {
   "codemirror_mode": {
    "name": "ipython",
    "version": 3
   },
   "file_extension": ".py",
   "mimetype": "text/x-python",
   "name": "python",
   "nbconvert_exporter": "python",
   "pygments_lexer": "ipython3",
   "version": "3.13.2"
  }
 },
 "nbformat": 4,
 "nbformat_minor": 5
}
