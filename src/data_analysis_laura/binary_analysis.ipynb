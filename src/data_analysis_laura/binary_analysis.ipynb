{
 "cells": [
  {
   "cell_type": "code",
   "execution_count": 1,
   "metadata": {},
   "outputs": [],
   "source": [
    "import pandas as pd\n",
    "\n",
    "# from sklearn.compose import ColumnTransformer\n",
    "from sklearn.pipeline import Pipeline\n",
    "# from sklearn.impute import SimpleImputer\n",
    "# from sklearn.preprocessing import OneHotEncoder, OrdinalEncoder, MinMaxScaler, StandardScaler\n",
    "from sklearn.model_selection import cross_val_score, StratifiedKFold\n",
    "from sklearn.feature_extraction.text import TfidfVectorizer\n",
    "from sklearn.naive_bayes import GaussianNB, MultinomialNB, ComplementNB, BernoulliNB, CategoricalNB\n",
    "import re\n",
    "import nltk\n",
    "from nltk.corpus import stopwords\n",
    "\n",
    "SEED = 3"
   ]
  },
  {
   "cell_type": "code",
   "execution_count": 2,
   "metadata": {},
   "outputs": [
    {
     "data": {
      "text/html": [
       "<div>\n",
       "<style scoped>\n",
       "    .dataframe tbody tr th:only-of-type {\n",
       "        vertical-align: middle;\n",
       "    }\n",
       "\n",
       "    .dataframe tbody tr th {\n",
       "        vertical-align: top;\n",
       "    }\n",
       "\n",
       "    .dataframe thead th {\n",
       "        text-align: right;\n",
       "    }\n",
       "</style>\n",
       "<table border=\"1\" class=\"dataframe\">\n",
       "  <thead>\n",
       "    <tr style=\"text-align: right;\">\n",
       "      <th></th>\n",
       "      <th>text</th>\n",
       "      <th>hatespeech_comb</th>\n",
       "    </tr>\n",
       "  </thead>\n",
       "  <tbody>\n",
       "    <tr>\n",
       "      <th>0</th>\n",
       "      <td>@__andrea__b \\r\\nO cara vive em outro mundo\\r\\...</td>\n",
       "      <td>1.0</td>\n",
       "    </tr>\n",
       "    <tr>\n",
       "      <th>1</th>\n",
       "      <td>@_carmeloneto Estes incompetentes não cuidam n...</td>\n",
       "      <td>0.0</td>\n",
       "    </tr>\n",
       "    <tr>\n",
       "      <th>2</th>\n",
       "      <td>@_carmeloneto \\r\\nOs 'cumpanhero' quebraram to...</td>\n",
       "      <td>0.0</td>\n",
       "    </tr>\n",
       "    <tr>\n",
       "      <th>3</th>\n",
       "      <td>@_GlitteryKisses é isso não conseguem pensar n...</td>\n",
       "      <td>0.0</td>\n",
       "    </tr>\n",
       "    <tr>\n",
       "      <th>4</th>\n",
       "      <td>@_iglira bom dia macaco branco haha</td>\n",
       "      <td>1.0</td>\n",
       "    </tr>\n",
       "    <tr>\n",
       "      <th>...</th>\n",
       "      <td>...</td>\n",
       "      <td>...</td>\n",
       "    </tr>\n",
       "    <tr>\n",
       "      <th>25829</th>\n",
       "      <td>“odeio sulista” todos: simmm🥹😭🙏🏻😮‍💨🤮 “odeio no...</td>\n",
       "      <td>0.0</td>\n",
       "    </tr>\n",
       "    <tr>\n",
       "      <th>25830</th>\n",
       "      <td>👀🤗 é cada merda que eu vejo no Twitter não tem...</td>\n",
       "      <td>0.0</td>\n",
       "    </tr>\n",
       "    <tr>\n",
       "      <th>25831</th>\n",
       "      <td>👇👇👇👇esse cara é um FDP não sei como ainda não ...</td>\n",
       "      <td>1.0</td>\n",
       "    </tr>\n",
       "    <tr>\n",
       "      <th>25832</th>\n",
       "      <td>🔥No Brasil que nós queremos, figuras como este...</td>\n",
       "      <td>1.0</td>\n",
       "    </tr>\n",
       "    <tr>\n",
       "      <th>25833</th>\n",
       "      <td>🙏🏽🙏🏽🙏🏽🙏🏽🙏🏽 Vai poupar o Nordestino de ouvir es...</td>\n",
       "      <td>1.0</td>\n",
       "    </tr>\n",
       "  </tbody>\n",
       "</table>\n",
       "<p>25834 rows × 2 columns</p>\n",
       "</div>"
      ],
      "text/plain": [
       "                                                    text  hatespeech_comb\n",
       "0      @__andrea__b \\r\\nO cara vive em outro mundo\\r\\...              1.0\n",
       "1      @_carmeloneto Estes incompetentes não cuidam n...              0.0\n",
       "2      @_carmeloneto \\r\\nOs 'cumpanhero' quebraram to...              0.0\n",
       "3      @_GlitteryKisses é isso não conseguem pensar n...              0.0\n",
       "4                    @_iglira bom dia macaco branco haha              1.0\n",
       "...                                                  ...              ...\n",
       "25829  “odeio sulista” todos: simmm🥹😭🙏🏻😮‍💨🤮 “odeio no...              0.0\n",
       "25830  👀🤗 é cada merda que eu vejo no Twitter não tem...              0.0\n",
       "25831  👇👇👇👇esse cara é um FDP não sei como ainda não ...              1.0\n",
       "25832  🔥No Brasil que nós queremos, figuras como este...              1.0\n",
       "25833  🙏🏽🙏🏽🙏🏽🙏🏽🙏🏽 Vai poupar o Nordestino de ouvir es...              1.0\n",
       "\n",
       "[25834 rows x 2 columns]"
      ]
     },
     "execution_count": 2,
     "metadata": {},
     "output_type": "execute_result"
    }
   ],
   "source": [
    "df = pd.read_csv('../data/binary.csv')\n",
    "df"
   ]
  },
  {
   "cell_type": "code",
   "execution_count": 3,
   "metadata": {},
   "outputs": [
    {
     "name": "stderr",
     "output_type": "stream",
     "text": [
      "[nltk_data] Downloading package stopwords to\n",
      "[nltk_data]     C:\\Users\\laura\\AppData\\Roaming\\nltk_data...\n",
      "[nltk_data]   Package stopwords is already up-to-date!\n"
     ]
    },
    {
     "data": {
      "text/plain": [
       "True"
      ]
     },
     "execution_count": 3,
     "metadata": {},
     "output_type": "execute_result"
    }
   ],
   "source": [
    "nltk.download('stopwords')"
   ]
  },
  {
   "cell_type": "code",
   "execution_count": 4,
   "metadata": {},
   "outputs": [
    {
     "data": {
      "text/html": [
       "<div>\n",
       "<style scoped>\n",
       "    .dataframe tbody tr th:only-of-type {\n",
       "        vertical-align: middle;\n",
       "    }\n",
       "\n",
       "    .dataframe tbody tr th {\n",
       "        vertical-align: top;\n",
       "    }\n",
       "\n",
       "    .dataframe thead th {\n",
       "        text-align: right;\n",
       "    }\n",
       "</style>\n",
       "<table border=\"1\" class=\"dataframe\">\n",
       "  <thead>\n",
       "    <tr style=\"text-align: right;\">\n",
       "      <th></th>\n",
       "      <th>hatespeech_comb</th>\n",
       "      <th>txt_clean</th>\n",
       "    </tr>\n",
       "  </thead>\n",
       "  <tbody>\n",
       "    <tr>\n",
       "      <th>0</th>\n",
       "      <td>1.0</td>\n",
       "      <td>\\r\\no cara vive em outro mundo\\r\\nnão no mund...</td>\n",
       "    </tr>\n",
       "    <tr>\n",
       "      <th>1</th>\n",
       "      <td>0.0</td>\n",
       "      <td>estes incompetentes não cuidam nem do povo br...</td>\n",
       "    </tr>\n",
       "    <tr>\n",
       "      <th>2</th>\n",
       "      <td>0.0</td>\n",
       "      <td>\\r\\nos cumpanhero quebraram todas as regras</td>\n",
       "    </tr>\n",
       "    <tr>\n",
       "      <th>3</th>\n",
       "      <td>0.0</td>\n",
       "      <td>é isso não conseguem pensar no sentido lato p...</td>\n",
       "    </tr>\n",
       "    <tr>\n",
       "      <th>4</th>\n",
       "      <td>1.0</td>\n",
       "      <td>bom dia macaco branco haha</td>\n",
       "    </tr>\n",
       "    <tr>\n",
       "      <th>...</th>\n",
       "      <td>...</td>\n",
       "      <td>...</td>\n",
       "    </tr>\n",
       "    <tr>\n",
       "      <th>25829</th>\n",
       "      <td>0.0</td>\n",
       "      <td>odeio sulista todos simmm odeio nordestino tod...</td>\n",
       "    </tr>\n",
       "    <tr>\n",
       "      <th>25830</th>\n",
       "      <td>0.0</td>\n",
       "      <td>é cada merda que eu vejo no twitter não tem como</td>\n",
       "    </tr>\n",
       "    <tr>\n",
       "      <th>25831</th>\n",
       "      <td>1.0</td>\n",
       "      <td>esse cara é um fdp não sei como ainda não mand...</td>\n",
       "    </tr>\n",
       "    <tr>\n",
       "      <th>25832</th>\n",
       "      <td>1.0</td>\n",
       "      <td>no brasil que nós queremos figuras como este d...</td>\n",
       "    </tr>\n",
       "    <tr>\n",
       "      <th>25833</th>\n",
       "      <td>1.0</td>\n",
       "      <td>vai poupar o nordestino de ouvir esse lixo de...</td>\n",
       "    </tr>\n",
       "  </tbody>\n",
       "</table>\n",
       "<p>25834 rows × 2 columns</p>\n",
       "</div>"
      ],
      "text/plain": [
       "       hatespeech_comb                                          txt_clean\n",
       "0                  1.0   \\r\\no cara vive em outro mundo\\r\\nnão no mund...\n",
       "1                  0.0   estes incompetentes não cuidam nem do povo br...\n",
       "2                  0.0        \\r\\nos cumpanhero quebraram todas as regras\n",
       "3                  0.0   é isso não conseguem pensar no sentido lato p...\n",
       "4                  1.0                         bom dia macaco branco haha\n",
       "...                ...                                                ...\n",
       "25829              0.0  odeio sulista todos simmm odeio nordestino tod...\n",
       "25830              0.0   é cada merda que eu vejo no twitter não tem como\n",
       "25831              1.0  esse cara é um fdp não sei como ainda não mand...\n",
       "25832              1.0  no brasil que nós queremos figuras como este d...\n",
       "25833              1.0   vai poupar o nordestino de ouvir esse lixo de...\n",
       "\n",
       "[25834 rows x 2 columns]"
      ]
     },
     "metadata": {},
     "output_type": "display_data"
    }
   ],
   "source": [
    "def preprocess_text(text):\n",
    "    if not isinstance(text, str):\n",
    "        text = str(text)\n",
    "    # Remover IDs e padrões >>, mantendo expressões\n",
    "    text = re.sub(r'>>\\d+', '', text)\n",
    "    # Remover menções como @usuário\n",
    "    text = re.sub(r'@\\w+', '', text)\n",
    "    # Manter emojis, pontos de interrogação e exclamação\n",
    "    text = re.sub(r'[^\\w\\s!?]', '', text)\n",
    "    # Converter para minúsculas\n",
    "    text = text.lower()\n",
    "    return text\n",
    "\n",
    "df['txt_clean'] = df['text'].apply(preprocess_text)\n",
    "df.drop(columns=['text'], inplace=True)\n",
    "display(df)"
   ]
  },
  {
   "cell_type": "markdown",
   "metadata": {},
   "source": [
    "### **Exploratory Data Analysis (EDA)**"
   ]
  },
  {
   "cell_type": "code",
   "execution_count": 5,
   "metadata": {},
   "outputs": [
    {
     "name": "stdout",
     "output_type": "stream",
     "text": [
      "<class 'pandas.core.frame.DataFrame'>\n",
      "RangeIndex: 25834 entries, 0 to 25833\n",
      "Data columns (total 2 columns):\n",
      " #   Column           Non-Null Count  Dtype  \n",
      "---  ------           --------------  -----  \n",
      " 0   hatespeech_comb  25834 non-null  float64\n",
      " 1   txt_clean        25834 non-null  object \n",
      "dtypes: float64(1), object(1)\n",
      "memory usage: 403.8+ KB\n",
      "None\n"
     ]
    }
   ],
   "source": [
    "print(df.info())"
   ]
  },
  {
   "cell_type": "code",
   "execution_count": 6,
   "metadata": {},
   "outputs": [
    {
     "name": "stdout",
     "output_type": "stream",
     "text": [
      "hatespeech_comb\n",
      "0.0    15206\n",
      "1.0    10628\n",
      "Name: count, dtype: int64\n"
     ]
    }
   ],
   "source": [
    "print(df['hatespeech_comb'].value_counts())"
   ]
  },
  {
   "cell_type": "code",
   "execution_count": 7,
   "metadata": {},
   "outputs": [
    {
     "data": {
      "text/html": [
       "<div>\n",
       "<style scoped>\n",
       "    .dataframe tbody tr th:only-of-type {\n",
       "        vertical-align: middle;\n",
       "    }\n",
       "\n",
       "    .dataframe tbody tr th {\n",
       "        vertical-align: top;\n",
       "    }\n",
       "\n",
       "    .dataframe thead th {\n",
       "        text-align: right;\n",
       "    }\n",
       "</style>\n",
       "<table border=\"1\" class=\"dataframe\">\n",
       "  <thead>\n",
       "    <tr style=\"text-align: right;\">\n",
       "      <th></th>\n",
       "      <th>hatespeech_comb</th>\n",
       "    </tr>\n",
       "  </thead>\n",
       "  <tbody>\n",
       "    <tr>\n",
       "      <th>count</th>\n",
       "      <td>25834.000000</td>\n",
       "    </tr>\n",
       "    <tr>\n",
       "      <th>mean</th>\n",
       "      <td>0.411396</td>\n",
       "    </tr>\n",
       "    <tr>\n",
       "      <th>std</th>\n",
       "      <td>0.492096</td>\n",
       "    </tr>\n",
       "    <tr>\n",
       "      <th>min</th>\n",
       "      <td>0.000000</td>\n",
       "    </tr>\n",
       "    <tr>\n",
       "      <th>25%</th>\n",
       "      <td>0.000000</td>\n",
       "    </tr>\n",
       "    <tr>\n",
       "      <th>50%</th>\n",
       "      <td>0.000000</td>\n",
       "    </tr>\n",
       "    <tr>\n",
       "      <th>75%</th>\n",
       "      <td>1.000000</td>\n",
       "    </tr>\n",
       "    <tr>\n",
       "      <th>max</th>\n",
       "      <td>1.000000</td>\n",
       "    </tr>\n",
       "  </tbody>\n",
       "</table>\n",
       "</div>"
      ],
      "text/plain": [
       "       hatespeech_comb\n",
       "count     25834.000000\n",
       "mean          0.411396\n",
       "std           0.492096\n",
       "min           0.000000\n",
       "25%           0.000000\n",
       "50%           0.000000\n",
       "75%           1.000000\n",
       "max           1.000000"
      ]
     },
     "execution_count": 7,
     "metadata": {},
     "output_type": "execute_result"
    }
   ],
   "source": [
    "df.describe()"
   ]
  },
  {
   "cell_type": "code",
   "execution_count": 8,
   "metadata": {},
   "outputs": [
    {
     "data": {
      "text/plain": [
       "0         \\r\\no cara vive em outro mundo\\r\\nnão no mund...\n",
       "1         estes incompetentes não cuidam nem do povo br...\n",
       "2              \\r\\nos cumpanhero quebraram todas as regras\n",
       "3         é isso não conseguem pensar no sentido lato p...\n",
       "4                               bom dia macaco branco haha\n",
       "                               ...                        \n",
       "25829    odeio sulista todos simmm odeio nordestino tod...\n",
       "25830     é cada merda que eu vejo no twitter não tem como\n",
       "25831    esse cara é um fdp não sei como ainda não mand...\n",
       "25832    no brasil que nós queremos figuras como este d...\n",
       "25833     vai poupar o nordestino de ouvir esse lixo de...\n",
       "Name: txt_clean, Length: 25834, dtype: object"
      ]
     },
     "execution_count": 8,
     "metadata": {},
     "output_type": "execute_result"
    }
   ],
   "source": [
    "df['txt_clean']"
   ]
  },
  {
   "cell_type": "code",
   "execution_count": 9,
   "metadata": {},
   "outputs": [
    {
     "name": "stdout",
     "output_type": "stream",
     "text": [
      "       hatespeech_comb                                          txt_clean\n",
      "0                  1.0   \\r\\no cara vive em outro mundo\\r\\nnão no mund...\n",
      "4                  1.0                         bom dia macaco branco haha\n",
      "17                 1.0       perfume pra mão jovem amantepra mão cappice?\n",
      "18                 1.0          estimo que se foda será mais profissional\n",
      "19                 1.0                      bom dia sapatao da minha vida\n",
      "...                ...                                                ...\n",
      "25826              1.0             vc nordestino lítio urânio lixo humano\n",
      "25827              1.0  nordestino só se faz de coitado disse a nojent...\n",
      "25831              1.0  esse cara é um fdp não sei como ainda não mand...\n",
      "25832              1.0  no brasil que nós queremos figuras como este d...\n",
      "25833              1.0   vai poupar o nordestino de ouvir esse lixo de...\n",
      "\n",
      "[10628 rows x 2 columns]\n"
     ]
    }
   ],
   "source": [
    "df_anger = df[df['hatespeech_comb'] == 1]\n",
    "print(df_anger)"
   ]
  },
  {
   "cell_type": "code",
   "execution_count": 10,
   "metadata": {},
   "outputs": [
    {
     "name": "stdout",
     "output_type": "stream",
     "text": [
      "1         estes incompetentes não cuidam nem do povo br...\n",
      "2              \\r\\nos cumpanhero quebraram todas as regras\n",
      "3         é isso não conseguem pensar no sentido lato p...\n",
      "5         imagino  ow mandei fazer um body opressor pra...\n",
      "6                      parabéns brou! menina é bom demais!\n",
      "                               ...                        \n",
      "25819    carreira na europa esse merda n se firmou em l...\n",
      "25825    nordestinos desgraçados bolsonaristas espalham...\n",
      "25828    nunca mais visito o nordeste povo mal agradeci...\n",
      "25829    odeio sulista todos simmm odeio nordestino tod...\n",
      "25830     é cada merda que eu vejo no twitter não tem como\n",
      "Name: txt_clean, Length: 15206, dtype: object\n"
     ]
    }
   ],
   "source": [
    "df_anger = df[df['hatespeech_comb'] == 0]\n",
    "print(df_anger['txt_clean'])"
   ]
  },
  {
   "cell_type": "code",
   "execution_count": 13,
   "metadata": {},
   "outputs": [
    {
     "name": "stdout",
     "output_type": "stream",
     "text": [
      "1.0\n",
      "Hate.speech:  \n",
      "o cara vive em outro mundo\n",
      "não no mundo real\n",
      "refugiados são os que vivem\n",
      "nas favelas vizinhas as suas fortalezas\n",
      "\n",
      "\n",
      "0.0\n",
      "Hate.speech: acho mal que não tenham metido a carreira da bárbara guimarães neste in memoriam\n",
      "oscars\n"
     ]
    },
    {
     "name": "stderr",
     "output_type": "stream",
     "text": [
      "C:\\Users\\laura\\AppData\\Local\\Temp\\ipykernel_61976\\1476165550.py:1: FutureWarning: Series.__getitem__ treating keys as positions is deprecated. In a future version, integer keys will always be treated as labels (consistent with DataFrame behavior). To access a value by position, use `ser.iloc[pos]`\n",
      "  print(df.iloc[0][0], f'Hate.speech: {df.iloc[0][1]}', sep='\\n')\n",
      "C:\\Users\\laura\\AppData\\Local\\Temp\\ipykernel_61976\\1476165550.py:3: FutureWarning: Series.__getitem__ treating keys as positions is deprecated. In a future version, integer keys will always be treated as labels (consistent with DataFrame behavior). To access a value by position, use `ser.iloc[pos]`\n",
      "  print(df.iloc[77][0], f'Hate.speech: {df.iloc[77][1]}', sep='\\n')\n"
     ]
    }
   ],
   "source": [
    "print(df.iloc[0][0], f'Hate.speech: {df.iloc[0][1]}', sep='\\n')\n",
    "print('\\n')\n",
    "print(df.iloc[77][0], f'Hate.speech: {df.iloc[77][1]}', sep='\\n')"
   ]
  },
  {
   "cell_type": "markdown",
   "metadata": {},
   "source": [
    "### **Model training**"
   ]
  },
  {
   "cell_type": "markdown",
   "metadata": {},
   "source": [
    "#### **Preprocessing**"
   ]
  },
  {
   "cell_type": "code",
   "execution_count": 14,
   "metadata": {},
   "outputs": [],
   "source": [
    "X = df['txt_clean']\n",
    "y = df['hatespeech_comb']"
   ]
  },
  {
   "cell_type": "code",
   "execution_count": 15,
   "metadata": {},
   "outputs": [
    {
     "name": "stdout",
     "output_type": "stream",
     "text": [
      "X nulls: 0\n",
      "y nulls: 0\n"
     ]
    }
   ],
   "source": [
    "print(f'X nulls: {X.isna().sum()}')\n",
    "print(f'y nulls: {y.isna().sum()}')"
   ]
  },
  {
   "cell_type": "code",
   "execution_count": 16,
   "metadata": {},
   "outputs": [],
   "source": [
    "def get_pipe(model, params: dict):\n",
    "    return Pipeline(steps=[\n",
    "        ('vectorizer', TfidfVectorizer()),\n",
    "        ('model', model(**params)),\n",
    "    ])\n",
    "\n",
    "def validate_pipe(pipe, X, y):\n",
    "    accuracy = cross_val_score(pipe, X, y, cv=StratifiedKFold(n_splits=5), scoring='accuracy')\n",
    "    precision = cross_val_score(pipe, X, y, cv=StratifiedKFold(n_splits=5), scoring='precision')\n",
    "    recall = cross_val_score(pipe, X, y, cv=StratifiedKFold(n_splits=5), scoring='recall')\n",
    "    f1 = cross_val_score(pipe, X, y, cv=StratifiedKFold(n_splits=5), scoring='f1')\n",
    "\n",
    "    result_matrix = pd.DataFrame.from_dict({\n",
    "        'accuracy': accuracy,\n",
    "        'precision': precision,\n",
    "        'recall': recall,\n",
    "        'f1': f1,\n",
    "    })\n",
    "\n",
    "    print(\n",
    "        f'Accuracy: {result_matrix['accuracy'].mean():.1%}',\n",
    "        f'Precision: {result_matrix['precision'].mean():.1%}',\n",
    "        f'Recall: {result_matrix['recall'].mean():.1%}',\n",
    "        f'F1: {result_matrix['f1'].mean():.1%}',\n",
    "        sep='\\n',\n",
    "    )\n",
    "\n",
    "    return result_matrix"
   ]
  },
  {
   "cell_type": "code",
   "execution_count": 17,
   "metadata": {},
   "outputs": [
    {
     "name": "stdout",
     "output_type": "stream",
     "text": [
      "Accuracy: 71.2%\n",
      "Precision: 62.4%\n",
      "Recall: 74.8%\n",
      "F1: 66.5%\n"
     ]
    },
    {
     "data": {
      "text/html": [
       "<div>\n",
       "<style scoped>\n",
       "    .dataframe tbody tr th:only-of-type {\n",
       "        vertical-align: middle;\n",
       "    }\n",
       "\n",
       "    .dataframe tbody tr th {\n",
       "        vertical-align: top;\n",
       "    }\n",
       "\n",
       "    .dataframe thead th {\n",
       "        text-align: right;\n",
       "    }\n",
       "</style>\n",
       "<table border=\"1\" class=\"dataframe\">\n",
       "  <thead>\n",
       "    <tr style=\"text-align: right;\">\n",
       "      <th></th>\n",
       "      <th>accuracy</th>\n",
       "      <th>precision</th>\n",
       "      <th>recall</th>\n",
       "      <th>f1</th>\n",
       "    </tr>\n",
       "  </thead>\n",
       "  <tbody>\n",
       "    <tr>\n",
       "      <th>0</th>\n",
       "      <td>0.567834</td>\n",
       "      <td>0.459985</td>\n",
       "      <td>0.289276</td>\n",
       "      <td>0.355183</td>\n",
       "    </tr>\n",
       "    <tr>\n",
       "      <th>1</th>\n",
       "      <td>0.712793</td>\n",
       "      <td>0.609184</td>\n",
       "      <td>0.842427</td>\n",
       "      <td>0.707067</td>\n",
       "    </tr>\n",
       "    <tr>\n",
       "      <th>2</th>\n",
       "      <td>0.893942</td>\n",
       "      <td>0.848191</td>\n",
       "      <td>0.904045</td>\n",
       "      <td>0.875228</td>\n",
       "    </tr>\n",
       "    <tr>\n",
       "      <th>3</th>\n",
       "      <td>0.727114</td>\n",
       "      <td>0.656182</td>\n",
       "      <td>0.706824</td>\n",
       "      <td>0.680562</td>\n",
       "    </tr>\n",
       "    <tr>\n",
       "      <th>4</th>\n",
       "      <td>0.658924</td>\n",
       "      <td>0.546839</td>\n",
       "      <td>0.997176</td>\n",
       "      <td>0.706333</td>\n",
       "    </tr>\n",
       "  </tbody>\n",
       "</table>\n",
       "</div>"
      ],
      "text/plain": [
       "   accuracy  precision    recall        f1\n",
       "0  0.567834   0.459985  0.289276  0.355183\n",
       "1  0.712793   0.609184  0.842427  0.707067\n",
       "2  0.893942   0.848191  0.904045  0.875228\n",
       "3  0.727114   0.656182  0.706824  0.680562\n",
       "4  0.658924   0.546839  0.997176  0.706333"
      ]
     },
     "execution_count": 17,
     "metadata": {},
     "output_type": "execute_result"
    }
   ],
   "source": [
    "multinomialnb_pipe = get_pipe(MultinomialNB, {})\n",
    "validate_pipe(multinomialnb_pipe, X, y)"
   ]
  },
  {
   "cell_type": "code",
   "execution_count": 18,
   "metadata": {},
   "outputs": [
    {
     "name": "stdout",
     "output_type": "stream",
     "text": [
      "Accuracy: 65.0%\n",
      "Precision: 54.9%\n",
      "Recall: 83.9%\n",
      "F1: 65.7%\n"
     ]
    },
    {
     "data": {
      "text/html": [
       "<div>\n",
       "<style scoped>\n",
       "    .dataframe tbody tr th:only-of-type {\n",
       "        vertical-align: middle;\n",
       "    }\n",
       "\n",
       "    .dataframe tbody tr th {\n",
       "        vertical-align: top;\n",
       "    }\n",
       "\n",
       "    .dataframe thead th {\n",
       "        text-align: right;\n",
       "    }\n",
       "</style>\n",
       "<table border=\"1\" class=\"dataframe\">\n",
       "  <thead>\n",
       "    <tr style=\"text-align: right;\">\n",
       "      <th></th>\n",
       "      <th>accuracy</th>\n",
       "      <th>precision</th>\n",
       "      <th>recall</th>\n",
       "      <th>f1</th>\n",
       "    </tr>\n",
       "  </thead>\n",
       "  <tbody>\n",
       "    <tr>\n",
       "      <th>0</th>\n",
       "      <td>0.535514</td>\n",
       "      <td>0.438288</td>\n",
       "      <td>0.457667</td>\n",
       "      <td>0.447768</td>\n",
       "    </tr>\n",
       "    <tr>\n",
       "      <th>1</th>\n",
       "      <td>0.628218</td>\n",
       "      <td>0.527891</td>\n",
       "      <td>0.912512</td>\n",
       "      <td>0.668850</td>\n",
       "    </tr>\n",
       "    <tr>\n",
       "      <th>2</th>\n",
       "      <td>0.817689</td>\n",
       "      <td>0.702879</td>\n",
       "      <td>0.964722</td>\n",
       "      <td>0.813243</td>\n",
       "    </tr>\n",
       "    <tr>\n",
       "      <th>3</th>\n",
       "      <td>0.681246</td>\n",
       "      <td>0.575110</td>\n",
       "      <td>0.861176</td>\n",
       "      <td>0.689655</td>\n",
       "    </tr>\n",
       "    <tr>\n",
       "      <th>4</th>\n",
       "      <td>0.588850</td>\n",
       "      <td>0.500118</td>\n",
       "      <td>0.999059</td>\n",
       "      <td>0.666562</td>\n",
       "    </tr>\n",
       "  </tbody>\n",
       "</table>\n",
       "</div>"
      ],
      "text/plain": [
       "   accuracy  precision    recall        f1\n",
       "0  0.535514   0.438288  0.457667  0.447768\n",
       "1  0.628218   0.527891  0.912512  0.668850\n",
       "2  0.817689   0.702879  0.964722  0.813243\n",
       "3  0.681246   0.575110  0.861176  0.689655\n",
       "4  0.588850   0.500118  0.999059  0.666562"
      ]
     },
     "execution_count": 18,
     "metadata": {},
     "output_type": "execute_result"
    }
   ],
   "source": [
    "complementnb_pipe = get_pipe(ComplementNB, {})\n",
    "validate_pipe(complementnb_pipe, X, y)"
   ]
  },
  {
   "cell_type": "code",
   "execution_count": 19,
   "metadata": {},
   "outputs": [
    {
     "name": "stdout",
     "output_type": "stream",
     "text": [
      "Accuracy: 72.0%\n",
      "Precision: 82.7%\n",
      "Recall: 42.1%\n",
      "F1: 48.2%\n"
     ]
    },
    {
     "data": {
      "text/html": [
       "<div>\n",
       "<style scoped>\n",
       "    .dataframe tbody tr th:only-of-type {\n",
       "        vertical-align: middle;\n",
       "    }\n",
       "\n",
       "    .dataframe tbody tr th {\n",
       "        vertical-align: top;\n",
       "    }\n",
       "\n",
       "    .dataframe thead th {\n",
       "        text-align: right;\n",
       "    }\n",
       "</style>\n",
       "<table border=\"1\" class=\"dataframe\">\n",
       "  <thead>\n",
       "    <tr style=\"text-align: right;\">\n",
       "      <th></th>\n",
       "      <th>accuracy</th>\n",
       "      <th>precision</th>\n",
       "      <th>recall</th>\n",
       "      <th>f1</th>\n",
       "    </tr>\n",
       "  </thead>\n",
       "  <tbody>\n",
       "    <tr>\n",
       "      <th>0</th>\n",
       "      <td>0.593768</td>\n",
       "      <td>1.000000</td>\n",
       "      <td>0.012700</td>\n",
       "      <td>0.025081</td>\n",
       "    </tr>\n",
       "    <tr>\n",
       "      <th>1</th>\n",
       "      <td>0.871686</td>\n",
       "      <td>0.949048</td>\n",
       "      <td>0.727187</td>\n",
       "      <td>0.823435</td>\n",
       "    </tr>\n",
       "    <tr>\n",
       "      <th>2</th>\n",
       "      <td>0.900523</td>\n",
       "      <td>0.917184</td>\n",
       "      <td>0.833490</td>\n",
       "      <td>0.873337</td>\n",
       "    </tr>\n",
       "    <tr>\n",
       "      <th>3</th>\n",
       "      <td>0.627443</td>\n",
       "      <td>0.741546</td>\n",
       "      <td>0.144471</td>\n",
       "      <td>0.241827</td>\n",
       "    </tr>\n",
       "    <tr>\n",
       "      <th>4</th>\n",
       "      <td>0.604723</td>\n",
       "      <td>0.526620</td>\n",
       "      <td>0.386353</td>\n",
       "      <td>0.445711</td>\n",
       "    </tr>\n",
       "  </tbody>\n",
       "</table>\n",
       "</div>"
      ],
      "text/plain": [
       "   accuracy  precision    recall        f1\n",
       "0  0.593768   1.000000  0.012700  0.025081\n",
       "1  0.871686   0.949048  0.727187  0.823435\n",
       "2  0.900523   0.917184  0.833490  0.873337\n",
       "3  0.627443   0.741546  0.144471  0.241827\n",
       "4  0.604723   0.526620  0.386353  0.445711"
      ]
     },
     "execution_count": 19,
     "metadata": {},
     "output_type": "execute_result"
    }
   ],
   "source": [
    "bernoullinb_pipe = get_pipe(BernoulliNB, {})\n",
    "validate_pipe(bernoullinb_pipe, X, y)"
   ]
  }
 ],
 "metadata": {
  "kernelspec": {
   "display_name": "tcc",
   "language": "python",
   "name": "python3"
  },
  "language_info": {
   "codemirror_mode": {
    "name": "ipython",
    "version": 3
   },
   "file_extension": ".py",
   "mimetype": "text/x-python",
   "name": "python",
   "nbconvert_exporter": "python",
   "pygments_lexer": "ipython3",
   "version": "3.12.2"
  }
 },
 "nbformat": 4,
 "nbformat_minor": 2
}
