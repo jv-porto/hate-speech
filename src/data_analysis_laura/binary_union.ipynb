{
 "cells": [
  {
   "cell_type": "code",
   "execution_count": 1,
   "metadata": {},
   "outputs": [],
   "source": [
    "import pandas as pd"
   ]
  },
  {
   "cell_type": "code",
   "execution_count": 2,
   "metadata": {},
   "outputs": [],
   "source": [
    "# Carregando os datasets\n",
    "binary_df = pd.read_csv('../data/2019-05-28_portuguese_hate_speech_binary_classification.csv')\n",
    "hate_br = pd.read_csv('../data/HateBR.csv')\n",
    "hatespeech_br = pd.read_excel('../data/Hatespeech-BR.xlsx')\n",
    "hedos = pd.read_csv('../data/HEDOS.csv')"
   ]
  },
  {
   "cell_type": "code",
   "execution_count": 3,
   "metadata": {},
   "outputs": [
    {
     "data": {
      "text/html": [
       "<div>\n",
       "<style scoped>\n",
       "    .dataframe tbody tr th:only-of-type {\n",
       "        vertical-align: middle;\n",
       "    }\n",
       "\n",
       "    .dataframe tbody tr th {\n",
       "        vertical-align: top;\n",
       "    }\n",
       "\n",
       "    .dataframe thead th {\n",
       "        text-align: right;\n",
       "    }\n",
       "</style>\n",
       "<table border=\"1\" class=\"dataframe\">\n",
       "  <thead>\n",
       "    <tr style=\"text-align: right;\">\n",
       "      <th></th>\n",
       "      <th>text</th>\n",
       "      <th>hatespeech_comb</th>\n",
       "    </tr>\n",
       "  </thead>\n",
       "  <tbody>\n",
       "    <tr>\n",
       "      <th>0</th>\n",
       "      <td>@__andrea__b \\r\\nO cara vive em outro mundo\\r\\...</td>\n",
       "      <td>1.0</td>\n",
       "    </tr>\n",
       "    <tr>\n",
       "      <th>1</th>\n",
       "      <td>@_carmeloneto Estes incompetentes não cuidam n...</td>\n",
       "      <td>0.0</td>\n",
       "    </tr>\n",
       "    <tr>\n",
       "      <th>2</th>\n",
       "      <td>@_carmeloneto \\r\\nOs 'cumpanhero' quebraram to...</td>\n",
       "      <td>0.0</td>\n",
       "    </tr>\n",
       "    <tr>\n",
       "      <th>3</th>\n",
       "      <td>@_GlitteryKisses é isso não conseguem pensar n...</td>\n",
       "      <td>0.0</td>\n",
       "    </tr>\n",
       "    <tr>\n",
       "      <th>4</th>\n",
       "      <td>@_iglira bom dia macaco branco haha</td>\n",
       "      <td>1.0</td>\n",
       "    </tr>\n",
       "  </tbody>\n",
       "</table>\n",
       "</div>"
      ],
      "text/plain": [
       "                                                text  hatespeech_comb\n",
       "0  @__andrea__b \\r\\nO cara vive em outro mundo\\r\\...              1.0\n",
       "1  @_carmeloneto Estes incompetentes não cuidam n...              0.0\n",
       "2  @_carmeloneto \\r\\nOs 'cumpanhero' quebraram to...              0.0\n",
       "3  @_GlitteryKisses é isso não conseguem pensar n...              0.0\n",
       "4                @_iglira bom dia macaco branco haha              1.0"
      ]
     },
     "execution_count": 3,
     "metadata": {},
     "output_type": "execute_result"
    }
   ],
   "source": [
    "binary_df.fillna(0, inplace=True)\n",
    "binary_df.drop(columns=['hatespeech_G1', 'annotator_G1', 'hatespeech_G2', 'annotator_G2', 'hatespeech_G3', 'annotator_G3'], inplace=True)\n",
    "binary_df['hatespeech_comb'] = binary_df['hatespeech_comb'].astype(float)\n",
    "binary_df.head()"
   ]
  },
  {
   "cell_type": "code",
   "execution_count": 4,
   "metadata": {},
   "outputs": [
    {
     "data": {
      "text/html": [
       "<div>\n",
       "<style scoped>\n",
       "    .dataframe tbody tr th:only-of-type {\n",
       "        vertical-align: middle;\n",
       "    }\n",
       "\n",
       "    .dataframe tbody tr th {\n",
       "        vertical-align: top;\n",
       "    }\n",
       "\n",
       "    .dataframe thead th {\n",
       "        text-align: right;\n",
       "    }\n",
       "</style>\n",
       "<table border=\"1\" class=\"dataframe\">\n",
       "  <thead>\n",
       "    <tr style=\"text-align: right;\">\n",
       "      <th></th>\n",
       "      <th>text</th>\n",
       "      <th>hatespeech_comb</th>\n",
       "    </tr>\n",
       "  </thead>\n",
       "  <tbody>\n",
       "    <tr>\n",
       "      <th>0</th>\n",
       "      <td>este lixo ...</td>\n",
       "      <td>0.0</td>\n",
       "    </tr>\n",
       "    <tr>\n",
       "      <th>1</th>\n",
       "      <td>Mais um lixo</td>\n",
       "      <td>0.0</td>\n",
       "    </tr>\n",
       "    <tr>\n",
       "      <th>2</th>\n",
       "      <td>Essa nao tem vergonha na cara!!</td>\n",
       "      <td>0.0</td>\n",
       "    </tr>\n",
       "    <tr>\n",
       "      <th>3</th>\n",
       "      <td>Essa mulher é doente.pilantra!</td>\n",
       "      <td>0.0</td>\n",
       "    </tr>\n",
       "    <tr>\n",
       "      <th>4</th>\n",
       "      <td>Comunista safada...</td>\n",
       "      <td>1.0</td>\n",
       "    </tr>\n",
       "  </tbody>\n",
       "</table>\n",
       "</div>"
      ],
      "text/plain": [
       "                              text  hatespeech_comb\n",
       "0                    este lixo ...              0.0\n",
       "1                     Mais um lixo              0.0\n",
       "2  Essa nao tem vergonha na cara!!              0.0\n",
       "3   Essa mulher é doente.pilantra!              0.0\n",
       "4              Comunista safada...              1.0"
      ]
     },
     "execution_count": 4,
     "metadata": {},
     "output_type": "execute_result"
    }
   ],
   "source": [
    "hate_br.drop(columns=['offensive_language', 'offensiveness_levels'], inplace=True)\n",
    "\n",
    "hate_br.fillna(0, inplace=True)\n",
    "\n",
    "hate_br.rename(columns={'instagram_comments': 'text', 'hate_speech': 'hatespeech_comb'}, inplace=True)\n",
    "\n",
    "hate_br['hatespeech_comb'] = hate_br['hatespeech_comb'].str.replace(',', '.').astype(float)\n",
    "\n",
    "hate_br['hatespeech_comb'] = hate_br['hatespeech_comb'].replace(-1.0, 0.0)\n",
    "hate_br['hatespeech_comb'] = hate_br['hatespeech_comb'].where(hate_br['hatespeech_comb'] < 1.0, 1.0)\n",
    "\n",
    "hate_br.head()"
   ]
  },
  {
   "cell_type": "code",
   "execution_count": 5,
   "metadata": {},
   "outputs": [
    {
     "name": "stderr",
     "output_type": "stream",
     "text": [
      "C:\\Users\\laura\\AppData\\Local\\Temp\\ipykernel_53056\\1637974347.py:3: FutureWarning: Downcasting behavior in `replace` is deprecated and will be removed in a future version. To retain the old behavior, explicitly call `result.infer_objects(copy=False)`. To opt-in to the future behavior, set `pd.set_option('future.no_silent_downcasting', True)`\n",
      "  hatespeech_br['has_anger'] = hatespeech_br['has_anger'].replace('S', 1).astype(float)\n"
     ]
    },
    {
     "data": {
      "text/html": [
       "<div>\n",
       "<style scoped>\n",
       "    .dataframe tbody tr th:only-of-type {\n",
       "        vertical-align: middle;\n",
       "    }\n",
       "\n",
       "    .dataframe tbody tr th {\n",
       "        vertical-align: top;\n",
       "    }\n",
       "\n",
       "    .dataframe thead th {\n",
       "        text-align: right;\n",
       "    }\n",
       "</style>\n",
       "<table border=\"1\" class=\"dataframe\">\n",
       "  <thead>\n",
       "    <tr style=\"text-align: right;\">\n",
       "      <th></th>\n",
       "      <th>hatespeech_comb</th>\n",
       "      <th>text</th>\n",
       "    </tr>\n",
       "  </thead>\n",
       "  <tbody>\n",
       "    <tr>\n",
       "      <th>0</th>\n",
       "      <td>1.0</td>\n",
       "      <td>&gt;&gt;22994apóio o &gt;&gt;22995. um passo de cada vez. ...</td>\n",
       "    </tr>\n",
       "    <tr>\n",
       "      <th>1</th>\n",
       "      <td>0.0</td>\n",
       "      <td>eu ainda vou surtar com essa fic</td>\n",
       "    </tr>\n",
       "    <tr>\n",
       "      <th>2</th>\n",
       "      <td>0.0</td>\n",
       "      <td>@flopdani kkkkkkkkkkkk amei e fiquei com vonta...</td>\n",
       "    </tr>\n",
       "    <tr>\n",
       "      <th>3</th>\n",
       "      <td>1.0</td>\n",
       "      <td>&gt;debater com luquistajá cansei de bater palma ...</td>\n",
       "    </tr>\n",
       "    <tr>\n",
       "      <th>4</th>\n",
       "      <td>0.0</td>\n",
       "      <td>hoje eu só tô minha irmã ali kkkkkkkkkkkkkk</td>\n",
       "    </tr>\n",
       "  </tbody>\n",
       "</table>\n",
       "</div>"
      ],
      "text/plain": [
       "   hatespeech_comb                                               text\n",
       "0              1.0  >>22994apóio o >>22995. um passo de cada vez. ...\n",
       "1              0.0                   eu ainda vou surtar com essa fic\n",
       "2              0.0  @flopdani kkkkkkkkkkkk amei e fiquei com vonta...\n",
       "3              1.0  >debater com luquistajá cansei de bater palma ...\n",
       "4              0.0       hoje eu só tô minha irmã ali kkkkkkkkkkkkkk "
      ]
     },
     "execution_count": 5,
     "metadata": {},
     "output_type": "execute_result"
    }
   ],
   "source": [
    "hatespeech_br.drop(columns=['Unnamed: 0', 'docno', 'origin'], inplace=True)\n",
    "hatespeech_br.fillna(0, inplace=True)\n",
    "hatespeech_br['has_anger'] = hatespeech_br['has_anger'].replace('S', 1).astype(float)\n",
    "hatespeech_br.rename(columns={'txt': 'text', 'has_anger': 'hatespeech_comb'}, inplace=True)\n",
    "hatespeech_br.head()"
   ]
  },
  {
   "cell_type": "code",
   "execution_count": 6,
   "metadata": {},
   "outputs": [
    {
     "data": {
      "text/html": [
       "<div>\n",
       "<style scoped>\n",
       "    .dataframe tbody tr th:only-of-type {\n",
       "        vertical-align: middle;\n",
       "    }\n",
       "\n",
       "    .dataframe tbody tr th {\n",
       "        vertical-align: top;\n",
       "    }\n",
       "\n",
       "    .dataframe thead th {\n",
       "        text-align: right;\n",
       "    }\n",
       "</style>\n",
       "<table border=\"1\" class=\"dataframe\">\n",
       "  <thead>\n",
       "    <tr style=\"text-align: right;\">\n",
       "      <th></th>\n",
       "      <th>text</th>\n",
       "      <th>hatespeech_comb</th>\n",
       "    </tr>\n",
       "  </thead>\n",
       "  <tbody>\n",
       "    <tr>\n",
       "      <th>0</th>\n",
       "      <td>#BBB23 prova de bate volta chata e demorada De...</td>\n",
       "      <td>1.0</td>\n",
       "    </tr>\n",
       "    <tr>\n",
       "      <th>1</th>\n",
       "      <td>#BBB23 prova de sorte Puta merda Boa sorte pra...</td>\n",
       "      <td>0.0</td>\n",
       "    </tr>\n",
       "    <tr>\n",
       "      <th>2</th>\n",
       "      <td>#BDRJ Fachel, tirando a coleta de lixo qual se...</td>\n",
       "      <td>0.0</td>\n",
       "    </tr>\n",
       "    <tr>\n",
       "      <th>3</th>\n",
       "      <td>#PaulistaoNaTNT que lixo de emissora não dever...</td>\n",
       "      <td>1.0</td>\n",
       "    </tr>\n",
       "    <tr>\n",
       "      <th>4</th>\n",
       "      <td>#askbsd tinha que ser sulista mesmo né vai a m...</td>\n",
       "      <td>1.0</td>\n",
       "    </tr>\n",
       "  </tbody>\n",
       "</table>\n",
       "</div>"
      ],
      "text/plain": [
       "                                                text  hatespeech_comb\n",
       "0  #BBB23 prova de bate volta chata e demorada De...              1.0\n",
       "1  #BBB23 prova de sorte Puta merda Boa sorte pra...              0.0\n",
       "2  #BDRJ Fachel, tirando a coleta de lixo qual se...              0.0\n",
       "3  #PaulistaoNaTNT que lixo de emissora não dever...              1.0\n",
       "4  #askbsd tinha que ser sulista mesmo né vai a m...              1.0"
      ]
     },
     "execution_count": 6,
     "metadata": {},
     "output_type": "execute_result"
    }
   ],
   "source": [
    "hedos.drop(columns=['coluna_combinada', 'anotador1', 'anotador2', 'anotador3'], inplace=True)\n",
    "hedos.fillna(0, inplace=True)\n",
    "\n",
    "def replace_toxicity(label):\n",
    "    if label == 'toxic':\n",
    "        return 1\n",
    "    elif label == 'not_toxic':\n",
    "        return 0\n",
    "    else:\n",
    "        return 1  \n",
    "\n",
    "hedos['final_label'] = hedos['final_label'].apply(replace_toxicity).astype(float)\n",
    "hedos.rename(columns={'final_label': 'hatespeech_comb'}, inplace=True)\n",
    "hedos.head()"
   ]
  },
  {
   "cell_type": "code",
   "execution_count": 7,
   "metadata": {},
   "outputs": [],
   "source": [
    "# Concatenando os datasets\n",
    "final_data = pd.concat([binary_df, hate_br, hatespeech_br, hedos], ignore_index=True)\n",
    "\n",
    "# Salvando o dataset final\n",
    "final_data.to_csv('../data/binary.csv', index=False)"
   ]
  }
 ],
 "metadata": {
  "kernelspec": {
   "display_name": "tcc",
   "language": "python",
   "name": "python3"
  },
  "language_info": {
   "codemirror_mode": {
    "name": "ipython",
    "version": 3
   },
   "file_extension": ".py",
   "mimetype": "text/x-python",
   "name": "python",
   "nbconvert_exporter": "python",
   "pygments_lexer": "ipython3",
   "version": "3.12.2"
  }
 },
 "nbformat": 4,
 "nbformat_minor": 2
}
