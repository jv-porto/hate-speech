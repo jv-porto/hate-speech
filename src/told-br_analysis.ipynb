{
 "cells": [
  {
   "cell_type": "code",
   "execution_count": 1,
   "metadata": {},
   "outputs": [],
   "source": [
    "import pandas as pd\n",
    "\n",
    "# from sklearn.compose import ColumnTransformer\n",
    "from sklearn.pipeline import Pipeline\n",
    "# from sklearn.impute import SimpleImputer\n",
    "# from sklearn.preprocessing import OneHotEncoder, OrdinalEncoder, MinMaxScaler, StandardScaler\n",
    "from sklearn.model_selection import cross_val_score, StratifiedKFold\n",
    "from sklearn.feature_extraction.text import TfidfVectorizer\n",
    "from sklearn.naive_bayes import GaussianNB, MultinomialNB, ComplementNB, BernoulliNB, CategoricalNB\n",
    "import re\n",
    "import nltk\n",
    "from nltk.corpus import stopwords\n",
    "\n",
    "SEED = 3"
   ]
  },
  {
   "cell_type": "code",
   "execution_count": 4,
   "metadata": {},
   "outputs": [
    {
     "data": {
      "text/html": [
       "<div>\n",
       "<style scoped>\n",
       "    .dataframe tbody tr th:only-of-type {\n",
       "        vertical-align: middle;\n",
       "    }\n",
       "\n",
       "    .dataframe tbody tr th {\n",
       "        vertical-align: top;\n",
       "    }\n",
       "\n",
       "    .dataframe thead th {\n",
       "        text-align: right;\n",
       "    }\n",
       "</style>\n",
       "<table border=\"1\" class=\"dataframe\">\n",
       "  <thead>\n",
       "    <tr style=\"text-align: right;\">\n",
       "      <th></th>\n",
       "      <th>text</th>\n",
       "      <th>homophobia</th>\n",
       "      <th>obscene</th>\n",
       "      <th>insult</th>\n",
       "      <th>racism</th>\n",
       "      <th>misogyny</th>\n",
       "      <th>xenophobia</th>\n",
       "    </tr>\n",
       "  </thead>\n",
       "  <tbody>\n",
       "    <tr>\n",
       "      <th>0</th>\n",
       "      <td>Meu nivel de amizade com isis é ela ter meu in...</td>\n",
       "      <td>0.0</td>\n",
       "      <td>0.0</td>\n",
       "      <td>2.0</td>\n",
       "      <td>0.0</td>\n",
       "      <td>0.0</td>\n",
       "      <td>0.0</td>\n",
       "    </tr>\n",
       "    <tr>\n",
       "      <th>1</th>\n",
       "      <td>rt @user @user o cara adultera dados, que fora...</td>\n",
       "      <td>0.0</td>\n",
       "      <td>0.0</td>\n",
       "      <td>1.0</td>\n",
       "      <td>0.0</td>\n",
       "      <td>0.0</td>\n",
       "      <td>0.0</td>\n",
       "    </tr>\n",
       "    <tr>\n",
       "      <th>2</th>\n",
       "      <td>@user @user @user o cara só é simplesmente o m...</td>\n",
       "      <td>0.0</td>\n",
       "      <td>2.0</td>\n",
       "      <td>1.0</td>\n",
       "      <td>0.0</td>\n",
       "      <td>0.0</td>\n",
       "      <td>0.0</td>\n",
       "    </tr>\n",
       "    <tr>\n",
       "      <th>3</th>\n",
       "      <td>eu to chorando vei vsf e eu nem staneio izone ...</td>\n",
       "      <td>0.0</td>\n",
       "      <td>1.0</td>\n",
       "      <td>0.0</td>\n",
       "      <td>0.0</td>\n",
       "      <td>0.0</td>\n",
       "      <td>0.0</td>\n",
       "    </tr>\n",
       "    <tr>\n",
       "      <th>4</th>\n",
       "      <td>Eleitor do Bolsonaro é tão ignorante q não per...</td>\n",
       "      <td>0.0</td>\n",
       "      <td>1.0</td>\n",
       "      <td>2.0</td>\n",
       "      <td>0.0</td>\n",
       "      <td>0.0</td>\n",
       "      <td>0.0</td>\n",
       "    </tr>\n",
       "    <tr>\n",
       "      <th>...</th>\n",
       "      <td>...</td>\n",
       "      <td>...</td>\n",
       "      <td>...</td>\n",
       "      <td>...</td>\n",
       "      <td>...</td>\n",
       "      <td>...</td>\n",
       "      <td>...</td>\n",
       "    </tr>\n",
       "    <tr>\n",
       "      <th>20995</th>\n",
       "      <td>@user faz favor vai carai</td>\n",
       "      <td>0.0</td>\n",
       "      <td>0.0</td>\n",
       "      <td>0.0</td>\n",
       "      <td>0.0</td>\n",
       "      <td>0.0</td>\n",
       "      <td>0.0</td>\n",
       "    </tr>\n",
       "    <tr>\n",
       "      <th>20996</th>\n",
       "      <td>só queria conhecer alguém que não conhece o he...</td>\n",
       "      <td>1.0</td>\n",
       "      <td>0.0</td>\n",
       "      <td>0.0</td>\n",
       "      <td>0.0</td>\n",
       "      <td>0.0</td>\n",
       "      <td>0.0</td>\n",
       "    </tr>\n",
       "    <tr>\n",
       "      <th>20997</th>\n",
       "      <td>vcs militam na hora errada em cima de memes, p...</td>\n",
       "      <td>0.0</td>\n",
       "      <td>0.0</td>\n",
       "      <td>0.0</td>\n",
       "      <td>0.0</td>\n",
       "      <td>0.0</td>\n",
       "      <td>0.0</td>\n",
       "    </tr>\n",
       "    <tr>\n",
       "      <th>20998</th>\n",
       "      <td>@user porra any eu tava c dor de cabeca e fui ...</td>\n",
       "      <td>0.0</td>\n",
       "      <td>0.0</td>\n",
       "      <td>0.0</td>\n",
       "      <td>0.0</td>\n",
       "      <td>0.0</td>\n",
       "      <td>0.0</td>\n",
       "    </tr>\n",
       "    <tr>\n",
       "      <th>20999</th>\n",
       "      <td>saudades da iasmin de 2017 eu era gótica demai...</td>\n",
       "      <td>0.0</td>\n",
       "      <td>0.0</td>\n",
       "      <td>0.0</td>\n",
       "      <td>0.0</td>\n",
       "      <td>0.0</td>\n",
       "      <td>0.0</td>\n",
       "    </tr>\n",
       "  </tbody>\n",
       "</table>\n",
       "<p>21000 rows × 7 columns</p>\n",
       "</div>"
      ],
      "text/plain": [
       "                                                    text  homophobia  obscene  \\\n",
       "0      Meu nivel de amizade com isis é ela ter meu in...         0.0      0.0   \n",
       "1      rt @user @user o cara adultera dados, que fora...         0.0      0.0   \n",
       "2      @user @user @user o cara só é simplesmente o m...         0.0      2.0   \n",
       "3      eu to chorando vei vsf e eu nem staneio izone ...         0.0      1.0   \n",
       "4      Eleitor do Bolsonaro é tão ignorante q não per...         0.0      1.0   \n",
       "...                                                  ...         ...      ...   \n",
       "20995                          @user faz favor vai carai         0.0      0.0   \n",
       "20996  só queria conhecer alguém que não conhece o he...         1.0      0.0   \n",
       "20997  vcs militam na hora errada em cima de memes, p...         0.0      0.0   \n",
       "20998  @user porra any eu tava c dor de cabeca e fui ...         0.0      0.0   \n",
       "20999  saudades da iasmin de 2017 eu era gótica demai...         0.0      0.0   \n",
       "\n",
       "       insult  racism  misogyny  xenophobia  \n",
       "0         2.0     0.0       0.0         0.0  \n",
       "1         1.0     0.0       0.0         0.0  \n",
       "2         1.0     0.0       0.0         0.0  \n",
       "3         0.0     0.0       0.0         0.0  \n",
       "4         2.0     0.0       0.0         0.0  \n",
       "...       ...     ...       ...         ...  \n",
       "20995     0.0     0.0       0.0         0.0  \n",
       "20996     0.0     0.0       0.0         0.0  \n",
       "20997     0.0     0.0       0.0         0.0  \n",
       "20998     0.0     0.0       0.0         0.0  \n",
       "20999     0.0     0.0       0.0         0.0  \n",
       "\n",
       "[21000 rows x 7 columns]"
      ]
     },
     "execution_count": 4,
     "metadata": {},
     "output_type": "execute_result"
    }
   ],
   "source": [
    "df = pd.read_csv('../data/ToLD-BR.csv')\n",
    "df.fillna(0, inplace=True)\n",
    "df"
   ]
  },
  {
   "cell_type": "code",
   "execution_count": 5,
   "metadata": {},
   "outputs": [
    {
     "name": "stderr",
     "output_type": "stream",
     "text": [
      "[nltk_data] Downloading package stopwords to\n",
      "[nltk_data]     C:\\Users\\laura\\AppData\\Roaming\\nltk_data...\n",
      "[nltk_data]   Package stopwords is already up-to-date!\n"
     ]
    },
    {
     "data": {
      "text/plain": [
       "True"
      ]
     },
     "execution_count": 5,
     "metadata": {},
     "output_type": "execute_result"
    }
   ],
   "source": [
    "nltk.download('stopwords')"
   ]
  },
  {
   "cell_type": "code",
   "execution_count": 8,
   "metadata": {},
   "outputs": [
    {
     "data": {
      "text/html": [
       "<div>\n",
       "<style scoped>\n",
       "    .dataframe tbody tr th:only-of-type {\n",
       "        vertical-align: middle;\n",
       "    }\n",
       "\n",
       "    .dataframe tbody tr th {\n",
       "        vertical-align: top;\n",
       "    }\n",
       "\n",
       "    .dataframe thead th {\n",
       "        text-align: right;\n",
       "    }\n",
       "</style>\n",
       "<table border=\"1\" class=\"dataframe\">\n",
       "  <thead>\n",
       "    <tr style=\"text-align: right;\">\n",
       "      <th></th>\n",
       "      <th>homophobia</th>\n",
       "      <th>obscene</th>\n",
       "      <th>insult</th>\n",
       "      <th>racism</th>\n",
       "      <th>misogyny</th>\n",
       "      <th>xenophobia</th>\n",
       "      <th>txt_clean</th>\n",
       "    </tr>\n",
       "  </thead>\n",
       "  <tbody>\n",
       "    <tr>\n",
       "      <th>0</th>\n",
       "      <td>0.0</td>\n",
       "      <td>0.0</td>\n",
       "      <td>2.0</td>\n",
       "      <td>0.0</td>\n",
       "      <td>0.0</td>\n",
       "      <td>0.0</td>\n",
       "      <td>meu nivel de amizade com isis é ela ter meu in...</td>\n",
       "    </tr>\n",
       "    <tr>\n",
       "      <th>1</th>\n",
       "      <td>0.0</td>\n",
       "      <td>0.0</td>\n",
       "      <td>1.0</td>\n",
       "      <td>0.0</td>\n",
       "      <td>0.0</td>\n",
       "      <td>0.0</td>\n",
       "      <td>rt   o cara adultera dados que foram desmascar...</td>\n",
       "    </tr>\n",
       "    <tr>\n",
       "      <th>2</th>\n",
       "      <td>0.0</td>\n",
       "      <td>2.0</td>\n",
       "      <td>1.0</td>\n",
       "      <td>0.0</td>\n",
       "      <td>0.0</td>\n",
       "      <td>0.0</td>\n",
       "      <td>o cara só é simplesmente o maior vencedor d...</td>\n",
       "    </tr>\n",
       "    <tr>\n",
       "      <th>3</th>\n",
       "      <td>0.0</td>\n",
       "      <td>1.0</td>\n",
       "      <td>0.0</td>\n",
       "      <td>0.0</td>\n",
       "      <td>0.0</td>\n",
       "      <td>0.0</td>\n",
       "      <td>eu to chorando vei vsf e eu nem staneio izone ...</td>\n",
       "    </tr>\n",
       "    <tr>\n",
       "      <th>4</th>\n",
       "      <td>0.0</td>\n",
       "      <td>1.0</td>\n",
       "      <td>2.0</td>\n",
       "      <td>0.0</td>\n",
       "      <td>0.0</td>\n",
       "      <td>0.0</td>\n",
       "      <td>eleitor do bolsonaro é tão ignorante q não per...</td>\n",
       "    </tr>\n",
       "    <tr>\n",
       "      <th>...</th>\n",
       "      <td>...</td>\n",
       "      <td>...</td>\n",
       "      <td>...</td>\n",
       "      <td>...</td>\n",
       "      <td>...</td>\n",
       "      <td>...</td>\n",
       "      <td>...</td>\n",
       "    </tr>\n",
       "    <tr>\n",
       "      <th>20995</th>\n",
       "      <td>0.0</td>\n",
       "      <td>0.0</td>\n",
       "      <td>0.0</td>\n",
       "      <td>0.0</td>\n",
       "      <td>0.0</td>\n",
       "      <td>0.0</td>\n",
       "      <td>faz favor vai carai</td>\n",
       "    </tr>\n",
       "    <tr>\n",
       "      <th>20996</th>\n",
       "      <td>1.0</td>\n",
       "      <td>0.0</td>\n",
       "      <td>0.0</td>\n",
       "      <td>0.0</td>\n",
       "      <td>0.0</td>\n",
       "      <td>0.0</td>\n",
       "      <td>só queria conhecer alguém que não conhece o he...</td>\n",
       "    </tr>\n",
       "    <tr>\n",
       "      <th>20997</th>\n",
       "      <td>0.0</td>\n",
       "      <td>0.0</td>\n",
       "      <td>0.0</td>\n",
       "      <td>0.0</td>\n",
       "      <td>0.0</td>\n",
       "      <td>0.0</td>\n",
       "      <td>vcs militam na hora errada em cima de memes po...</td>\n",
       "    </tr>\n",
       "    <tr>\n",
       "      <th>20998</th>\n",
       "      <td>0.0</td>\n",
       "      <td>0.0</td>\n",
       "      <td>0.0</td>\n",
       "      <td>0.0</td>\n",
       "      <td>0.0</td>\n",
       "      <td>0.0</td>\n",
       "      <td>porra any eu tava c dor de cabeca e fui comer...</td>\n",
       "    </tr>\n",
       "    <tr>\n",
       "      <th>20999</th>\n",
       "      <td>0.0</td>\n",
       "      <td>0.0</td>\n",
       "      <td>0.0</td>\n",
       "      <td>0.0</td>\n",
       "      <td>0.0</td>\n",
       "      <td>0.0</td>\n",
       "      <td>saudades da iasmin de 2017 eu era gótica demai...</td>\n",
       "    </tr>\n",
       "  </tbody>\n",
       "</table>\n",
       "<p>21000 rows × 7 columns</p>\n",
       "</div>"
      ],
      "text/plain": [
       "       homophobia  obscene  insult  racism  misogyny  xenophobia  \\\n",
       "0             0.0      0.0     2.0     0.0       0.0         0.0   \n",
       "1             0.0      0.0     1.0     0.0       0.0         0.0   \n",
       "2             0.0      2.0     1.0     0.0       0.0         0.0   \n",
       "3             0.0      1.0     0.0     0.0       0.0         0.0   \n",
       "4             0.0      1.0     2.0     0.0       0.0         0.0   \n",
       "...           ...      ...     ...     ...       ...         ...   \n",
       "20995         0.0      0.0     0.0     0.0       0.0         0.0   \n",
       "20996         1.0      0.0     0.0     0.0       0.0         0.0   \n",
       "20997         0.0      0.0     0.0     0.0       0.0         0.0   \n",
       "20998         0.0      0.0     0.0     0.0       0.0         0.0   \n",
       "20999         0.0      0.0     0.0     0.0       0.0         0.0   \n",
       "\n",
       "                                               txt_clean  \n",
       "0      meu nivel de amizade com isis é ela ter meu in...  \n",
       "1      rt   o cara adultera dados que foram desmascar...  \n",
       "2         o cara só é simplesmente o maior vencedor d...  \n",
       "3      eu to chorando vei vsf e eu nem staneio izone ...  \n",
       "4      eleitor do bolsonaro é tão ignorante q não per...  \n",
       "...                                                  ...  \n",
       "20995                                faz favor vai carai  \n",
       "20996  só queria conhecer alguém que não conhece o he...  \n",
       "20997  vcs militam na hora errada em cima de memes po...  \n",
       "20998   porra any eu tava c dor de cabeca e fui comer...  \n",
       "20999  saudades da iasmin de 2017 eu era gótica demai...  \n",
       "\n",
       "[21000 rows x 7 columns]"
      ]
     },
     "metadata": {},
     "output_type": "display_data"
    }
   ],
   "source": [
    "def preprocess_text(text):\n",
    "    if not isinstance(text, str):\n",
    "        text = str(text)\n",
    "    # Remover IDs e padrões >>, mantendo expressões\n",
    "    text = re.sub(r'>>\\d+', '', text)\n",
    "    # Remover menções como @usuário\n",
    "    text = re.sub(r'@\\w+', '', text)\n",
    "    # Manter emojis, pontos de interrogação e exclamação\n",
    "    text = re.sub(r'[^\\w\\s!?]', '', text)\n",
    "    # Converter para minúsculas\n",
    "    text = text.lower()\n",
    "    return text\n",
    "\n",
    "df['txt_clean'] = df['text'].apply(preprocess_text)\n",
    "df.drop(columns=['text'], inplace=True)\n",
    "display(df)"
   ]
  },
  {
   "cell_type": "markdown",
   "metadata": {},
   "source": [
    "### **Exploratory Data Analysis (EDA)**"
   ]
  },
  {
   "cell_type": "code",
   "execution_count": 5,
   "metadata": {},
   "outputs": [
    {
     "name": "stdout",
     "output_type": "stream",
     "text": [
      "<class 'pandas.core.frame.DataFrame'>\n",
      "RangeIndex: 7672 entries, 0 to 7671\n",
      "Data columns (total 2 columns):\n",
      " #   Column     Non-Null Count  Dtype \n",
      "---  ------     --------------  ----- \n",
      " 0   has_anger  7672 non-null   int32 \n",
      " 1   txt_clean  7672 non-null   object\n",
      "dtypes: int32(1), object(1)\n",
      "memory usage: 90.0+ KB\n",
      "None\n"
     ]
    }
   ],
   "source": [
    "print(df.info())"
   ]
  },
  {
   "cell_type": "code",
   "execution_count": 6,
   "metadata": {},
   "outputs": [
    {
     "name": "stdout",
     "output_type": "stream",
     "text": [
      "has_anger\n",
      "1    3836\n",
      "0    3836\n",
      "Name: count, dtype: int64\n"
     ]
    }
   ],
   "source": [
    "print(df['has_anger'].value_counts())"
   ]
  },
  {
   "cell_type": "code",
   "execution_count": 7,
   "metadata": {},
   "outputs": [
    {
     "data": {
      "text/html": [
       "<div>\n",
       "<style scoped>\n",
       "    .dataframe tbody tr th:only-of-type {\n",
       "        vertical-align: middle;\n",
       "    }\n",
       "\n",
       "    .dataframe tbody tr th {\n",
       "        vertical-align: top;\n",
       "    }\n",
       "\n",
       "    .dataframe thead th {\n",
       "        text-align: right;\n",
       "    }\n",
       "</style>\n",
       "<table border=\"1\" class=\"dataframe\">\n",
       "  <thead>\n",
       "    <tr style=\"text-align: right;\">\n",
       "      <th></th>\n",
       "      <th>has_anger</th>\n",
       "    </tr>\n",
       "  </thead>\n",
       "  <tbody>\n",
       "    <tr>\n",
       "      <th>count</th>\n",
       "      <td>7672.000000</td>\n",
       "    </tr>\n",
       "    <tr>\n",
       "      <th>mean</th>\n",
       "      <td>0.500000</td>\n",
       "    </tr>\n",
       "    <tr>\n",
       "      <th>std</th>\n",
       "      <td>0.500033</td>\n",
       "    </tr>\n",
       "    <tr>\n",
       "      <th>min</th>\n",
       "      <td>0.000000</td>\n",
       "    </tr>\n",
       "    <tr>\n",
       "      <th>25%</th>\n",
       "      <td>0.000000</td>\n",
       "    </tr>\n",
       "    <tr>\n",
       "      <th>50%</th>\n",
       "      <td>0.500000</td>\n",
       "    </tr>\n",
       "    <tr>\n",
       "      <th>75%</th>\n",
       "      <td>1.000000</td>\n",
       "    </tr>\n",
       "    <tr>\n",
       "      <th>max</th>\n",
       "      <td>1.000000</td>\n",
       "    </tr>\n",
       "  </tbody>\n",
       "</table>\n",
       "</div>"
      ],
      "text/plain": [
       "         has_anger\n",
       "count  7672.000000\n",
       "mean      0.500000\n",
       "std       0.500033\n",
       "min       0.000000\n",
       "25%       0.000000\n",
       "50%       0.500000\n",
       "75%       1.000000\n",
       "max       1.000000"
      ]
     },
     "execution_count": 7,
     "metadata": {},
     "output_type": "execute_result"
    }
   ],
   "source": [
    "df.describe()"
   ]
  },
  {
   "cell_type": "code",
   "execution_count": 8,
   "metadata": {},
   "outputs": [
    {
     "data": {
      "text/plain": [
       "0       apóio o  um passo de cada vez não tenha pressa...\n",
       "1                        eu ainda vou surtar com essa fic\n",
       "2        kkkkkkkkkkkk amei e fiquei com vontade desse ...\n",
       "3       debater com luquistajá cansei de bater palma p...\n",
       "4            hoje eu só tô minha irmã ali kkkkkkkkkkkkkk \n",
       "                              ...                        \n",
       "7667                            neozelandesas culias !!!!\n",
       "7668    2011prosperidade é boa2019prosperidade é uma m...\n",
       "7669    renovador seu sorriso derretia satélites e cor...\n",
       "7670    fotos lindas que não podem ser postadas lament...\n",
       "7671    só tô esperando uma oportunidade sua  senta se...\n",
       "Name: txt_clean, Length: 7672, dtype: object"
      ]
     },
     "execution_count": 8,
     "metadata": {},
     "output_type": "execute_result"
    }
   ],
   "source": [
    "df['txt_clean']"
   ]
  },
  {
   "cell_type": "code",
   "execution_count": 9,
   "metadata": {},
   "outputs": [
    {
     "name": "stdout",
     "output_type": "stream",
     "text": [
      "      has_anger                                          txt_clean\n",
      "0             1  apóio o  um passo de cada vez não tenha pressa...\n",
      "3             1  debater com luquistajá cansei de bater palma p...\n",
      "5             1  ela me chamou pra dormir na casa dela pois est...\n",
      "8             1  seu psiquiatra parece ter errado muito provave...\n",
      "15            1  ah anão eu te invejo sei que tem o fator psico...\n",
      "...         ...                                                ...\n",
      "7657          1  só estou falando a verdadenão quero me estende...\n",
      "7661          1  se não posso ter uma menina de 10 e 11 anos co...\n",
      "7664          1  25 anosquitei minha seguna faculdadesem empreg...\n",
      "7665          1  não sei vocês mas acho tudo isso muito muito f...\n",
      "7668          1  2011prosperidade é boa2019prosperidade é uma m...\n",
      "\n",
      "[3836 rows x 2 columns]\n"
     ]
    }
   ],
   "source": [
    "df_anger = df[df['has_anger'] == 1]\n",
    "print(df_anger)"
   ]
  },
  {
   "cell_type": "code",
   "execution_count": 10,
   "metadata": {},
   "outputs": [
    {
     "name": "stdout",
     "output_type": "stream",
     "text": [
      "1                        eu ainda vou surtar com essa fic\n",
      "2        kkkkkkkkkkkk amei e fiquei com vontade desse ...\n",
      "4            hoje eu só tô minha irmã ali kkkkkkkkkkkkkk \n",
      "6                         a co delas ve volnem case?\\nja \n",
      "7                                               obrigado \n",
      "                              ...                        \n",
      "7666    depois q descobri minha paixão por gloss nunca...\n",
      "7667                            neozelandesas culias !!!!\n",
      "7669    renovador seu sorriso derretia satélites e cor...\n",
      "7670    fotos lindas que não podem ser postadas lament...\n",
      "7671    só tô esperando uma oportunidade sua  senta se...\n",
      "Name: txt_clean, Length: 3836, dtype: object\n"
     ]
    }
   ],
   "source": [
    "df_anger = df[df['has_anger'] == 0]\n",
    "print(df_anger['txt_clean'])"
   ]
  },
  {
   "cell_type": "code",
   "execution_count": 11,
   "metadata": {},
   "outputs": [
    {
     "name": "stdout",
     "output_type": "stream",
     "text": [
      "1\n",
      "Hate.speech: apóio o  um passo de cada vez não tenha pressa mas sempre movendo pra frente e não tenha medo de pedir ajuda a amigos parentes ou psicólogos não tem nada de maise outra faculdade nem sempre é a solução tem cursos técnicos que também contam como superior e que às vezes são mais curtos que faculdades e te pagam melhor\n",
      "\n",
      "\n",
      "0\n",
      "Hate.speech:  foi ela mesmo minha mãe olhou na geladeira dela porca ladra de comida\n"
     ]
    },
    {
     "name": "stderr",
     "output_type": "stream",
     "text": [
      "C:\\Users\\laura\\AppData\\Local\\Temp\\ipykernel_940\\2683638277.py:1: FutureWarning: Series.__getitem__ treating keys as positions is deprecated. In a future version, integer keys will always be treated as labels (consistent with DataFrame behavior). To access a value by position, use `ser.iloc[pos]`\n",
      "  print(df.iloc[0][0], f'Hate.speech: {df.iloc[0][1]}', sep='\\n')\n",
      "C:\\Users\\laura\\AppData\\Local\\Temp\\ipykernel_940\\2683638277.py:3: FutureWarning: Series.__getitem__ treating keys as positions is deprecated. In a future version, integer keys will always be treated as labels (consistent with DataFrame behavior). To access a value by position, use `ser.iloc[pos]`\n",
      "  print(df.iloc[74][0], f'Hate.speech: {df.iloc[74][1]}', sep='\\n')\n"
     ]
    }
   ],
   "source": [
    "print(df.iloc[0][0], f'Hate.speech: {df.iloc[0][1]}', sep='\\n')\n",
    "print('\\n')\n",
    "print(df.iloc[74][0], f'Hate.speech: {df.iloc[74][1]}', sep='\\n')"
   ]
  },
  {
   "cell_type": "markdown",
   "metadata": {},
   "source": [
    "### **Model training**"
   ]
  },
  {
   "cell_type": "markdown",
   "metadata": {},
   "source": [
    "#### **Preprocessing**"
   ]
  },
  {
   "cell_type": "code",
   "execution_count": 12,
   "metadata": {},
   "outputs": [],
   "source": [
    "X = df['txt_clean']\n",
    "y = df['has_anger']"
   ]
  },
  {
   "cell_type": "code",
   "execution_count": 13,
   "metadata": {},
   "outputs": [
    {
     "name": "stdout",
     "output_type": "stream",
     "text": [
      "X nulls: 0\n",
      "y nulls: 0\n"
     ]
    }
   ],
   "source": [
    "print(f'X nulls: {X.isna().sum()}')\n",
    "print(f'y nulls: {y.isna().sum()}')"
   ]
  },
  {
   "cell_type": "code",
   "execution_count": 14,
   "metadata": {},
   "outputs": [],
   "source": [
    "def get_pipe(model, params: dict):\n",
    "    return Pipeline(steps=[\n",
    "        ('vectorizer', TfidfVectorizer()),\n",
    "        ('model', model(**params)),\n",
    "    ])\n",
    "\n",
    "def validate_pipe(pipe, X, y):\n",
    "    accuracy = cross_val_score(pipe, X, y, cv=StratifiedKFold(n_splits=5), scoring='accuracy')\n",
    "    precision = cross_val_score(pipe, X, y, cv=StratifiedKFold(n_splits=5), scoring='precision')\n",
    "    recall = cross_val_score(pipe, X, y, cv=StratifiedKFold(n_splits=5), scoring='recall')\n",
    "    f1 = cross_val_score(pipe, X, y, cv=StratifiedKFold(n_splits=5), scoring='f1')\n",
    "\n",
    "    result_matrix = pd.DataFrame.from_dict({\n",
    "        'accuracy': accuracy,\n",
    "        'precision': precision,\n",
    "        'recall': recall,\n",
    "        'f1': f1,\n",
    "    })\n",
    "\n",
    "    print(\n",
    "        f'Accuracy: {result_matrix['accuracy'].mean():.1%}',\n",
    "        f'Precision: {result_matrix['precision'].mean():.1%}',\n",
    "        f'Recall: {result_matrix['recall'].mean():.1%}',\n",
    "        f'F1: {result_matrix['f1'].mean():.1%}',\n",
    "        sep='\\n',\n",
    "    )\n",
    "\n",
    "    return result_matrix"
   ]
  },
  {
   "cell_type": "code",
   "execution_count": 15,
   "metadata": {},
   "outputs": [
    {
     "name": "stdout",
     "output_type": "stream",
     "text": [
      "Accuracy: 72.2%\n",
      "Precision: 64.4%\n",
      "Recall: 99.7%\n",
      "F1: 78.2%\n"
     ]
    },
    {
     "data": {
      "text/html": [
       "<div>\n",
       "<style scoped>\n",
       "    .dataframe tbody tr th:only-of-type {\n",
       "        vertical-align: middle;\n",
       "    }\n",
       "\n",
       "    .dataframe tbody tr th {\n",
       "        vertical-align: top;\n",
       "    }\n",
       "\n",
       "    .dataframe thead th {\n",
       "        text-align: right;\n",
       "    }\n",
       "</style>\n",
       "<table border=\"1\" class=\"dataframe\">\n",
       "  <thead>\n",
       "    <tr style=\"text-align: right;\">\n",
       "      <th></th>\n",
       "      <th>accuracy</th>\n",
       "      <th>precision</th>\n",
       "      <th>recall</th>\n",
       "      <th>f1</th>\n",
       "    </tr>\n",
       "  </thead>\n",
       "  <tbody>\n",
       "    <tr>\n",
       "      <th>0</th>\n",
       "      <td>0.727687</td>\n",
       "      <td>0.648305</td>\n",
       "      <td>0.996094</td>\n",
       "      <td>0.785421</td>\n",
       "    </tr>\n",
       "    <tr>\n",
       "      <th>1</th>\n",
       "      <td>0.708795</td>\n",
       "      <td>0.632231</td>\n",
       "      <td>0.997392</td>\n",
       "      <td>0.773900</td>\n",
       "    </tr>\n",
       "    <tr>\n",
       "      <th>2</th>\n",
       "      <td>0.724250</td>\n",
       "      <td>0.645025</td>\n",
       "      <td>0.997392</td>\n",
       "      <td>0.783410</td>\n",
       "    </tr>\n",
       "    <tr>\n",
       "      <th>3</th>\n",
       "      <td>0.737288</td>\n",
       "      <td>0.656627</td>\n",
       "      <td>0.994785</td>\n",
       "      <td>0.791083</td>\n",
       "    </tr>\n",
       "    <tr>\n",
       "      <th>4</th>\n",
       "      <td>0.713820</td>\n",
       "      <td>0.636439</td>\n",
       "      <td>0.997392</td>\n",
       "      <td>0.777044</td>\n",
       "    </tr>\n",
       "  </tbody>\n",
       "</table>\n",
       "</div>"
      ],
      "text/plain": [
       "   accuracy  precision    recall        f1\n",
       "0  0.727687   0.648305  0.996094  0.785421\n",
       "1  0.708795   0.632231  0.997392  0.773900\n",
       "2  0.724250   0.645025  0.997392  0.783410\n",
       "3  0.737288   0.656627  0.994785  0.791083\n",
       "4  0.713820   0.636439  0.997392  0.777044"
      ]
     },
     "execution_count": 15,
     "metadata": {},
     "output_type": "execute_result"
    }
   ],
   "source": [
    "multinomialnb_pipe = get_pipe(MultinomialNB, {})\n",
    "validate_pipe(multinomialnb_pipe, X, y)"
   ]
  },
  {
   "cell_type": "code",
   "execution_count": 16,
   "metadata": {},
   "outputs": [
    {
     "name": "stdout",
     "output_type": "stream",
     "text": [
      "Accuracy: 72.5%\n",
      "Precision: 64.6%\n",
      "Recall: 99.7%\n",
      "F1: 78.4%\n"
     ]
    },
    {
     "data": {
      "text/html": [
       "<div>\n",
       "<style scoped>\n",
       "    .dataframe tbody tr th:only-of-type {\n",
       "        vertical-align: middle;\n",
       "    }\n",
       "\n",
       "    .dataframe tbody tr th {\n",
       "        vertical-align: top;\n",
       "    }\n",
       "\n",
       "    .dataframe thead th {\n",
       "        text-align: right;\n",
       "    }\n",
       "</style>\n",
       "<table border=\"1\" class=\"dataframe\">\n",
       "  <thead>\n",
       "    <tr style=\"text-align: right;\">\n",
       "      <th></th>\n",
       "      <th>accuracy</th>\n",
       "      <th>precision</th>\n",
       "      <th>recall</th>\n",
       "      <th>f1</th>\n",
       "    </tr>\n",
       "  </thead>\n",
       "  <tbody>\n",
       "    <tr>\n",
       "      <th>0</th>\n",
       "      <td>0.727687</td>\n",
       "      <td>0.648305</td>\n",
       "      <td>0.996094</td>\n",
       "      <td>0.785421</td>\n",
       "    </tr>\n",
       "    <tr>\n",
       "      <th>1</th>\n",
       "      <td>0.721173</td>\n",
       "      <td>0.642317</td>\n",
       "      <td>0.997392</td>\n",
       "      <td>0.781410</td>\n",
       "    </tr>\n",
       "    <tr>\n",
       "      <th>2</th>\n",
       "      <td>0.724250</td>\n",
       "      <td>0.645025</td>\n",
       "      <td>0.997392</td>\n",
       "      <td>0.783410</td>\n",
       "    </tr>\n",
       "    <tr>\n",
       "      <th>3</th>\n",
       "      <td>0.737288</td>\n",
       "      <td>0.656627</td>\n",
       "      <td>0.994785</td>\n",
       "      <td>0.791083</td>\n",
       "    </tr>\n",
       "    <tr>\n",
       "      <th>4</th>\n",
       "      <td>0.713820</td>\n",
       "      <td>0.636439</td>\n",
       "      <td>0.997392</td>\n",
       "      <td>0.777044</td>\n",
       "    </tr>\n",
       "  </tbody>\n",
       "</table>\n",
       "</div>"
      ],
      "text/plain": [
       "   accuracy  precision    recall        f1\n",
       "0  0.727687   0.648305  0.996094  0.785421\n",
       "1  0.721173   0.642317  0.997392  0.781410\n",
       "2  0.724250   0.645025  0.997392  0.783410\n",
       "3  0.737288   0.656627  0.994785  0.791083\n",
       "4  0.713820   0.636439  0.997392  0.777044"
      ]
     },
     "execution_count": 16,
     "metadata": {},
     "output_type": "execute_result"
    }
   ],
   "source": [
    "complementnb_pipe = get_pipe(ComplementNB, {})\n",
    "validate_pipe(complementnb_pipe, X, y)"
   ]
  },
  {
   "cell_type": "code",
   "execution_count": 17,
   "metadata": {},
   "outputs": [
    {
     "name": "stdout",
     "output_type": "stream",
     "text": [
      "Accuracy: 83.7%\n",
      "Precision: 99.8%\n",
      "Recall: 67.4%\n",
      "F1: 80.5%\n"
     ]
    },
    {
     "data": {
      "text/html": [
       "<div>\n",
       "<style scoped>\n",
       "    .dataframe tbody tr th:only-of-type {\n",
       "        vertical-align: middle;\n",
       "    }\n",
       "\n",
       "    .dataframe tbody tr th {\n",
       "        vertical-align: top;\n",
       "    }\n",
       "\n",
       "    .dataframe thead th {\n",
       "        text-align: right;\n",
       "    }\n",
       "</style>\n",
       "<table border=\"1\" class=\"dataframe\">\n",
       "  <thead>\n",
       "    <tr style=\"text-align: right;\">\n",
       "      <th></th>\n",
       "      <th>accuracy</th>\n",
       "      <th>precision</th>\n",
       "      <th>recall</th>\n",
       "      <th>f1</th>\n",
       "    </tr>\n",
       "  </thead>\n",
       "  <tbody>\n",
       "    <tr>\n",
       "      <th>0</th>\n",
       "      <td>0.846906</td>\n",
       "      <td>0.996276</td>\n",
       "      <td>0.696615</td>\n",
       "      <td>0.819923</td>\n",
       "    </tr>\n",
       "    <tr>\n",
       "      <th>1</th>\n",
       "      <td>0.842345</td>\n",
       "      <td>0.998102</td>\n",
       "      <td>0.685789</td>\n",
       "      <td>0.812983</td>\n",
       "    </tr>\n",
       "    <tr>\n",
       "      <th>2</th>\n",
       "      <td>0.828553</td>\n",
       "      <td>1.000000</td>\n",
       "      <td>0.657106</td>\n",
       "      <td>0.793076</td>\n",
       "    </tr>\n",
       "    <tr>\n",
       "      <th>3</th>\n",
       "      <td>0.829205</td>\n",
       "      <td>0.998028</td>\n",
       "      <td>0.659713</td>\n",
       "      <td>0.794349</td>\n",
       "    </tr>\n",
       "    <tr>\n",
       "      <th>4</th>\n",
       "      <td>0.836375</td>\n",
       "      <td>1.000000</td>\n",
       "      <td>0.672751</td>\n",
       "      <td>0.804365</td>\n",
       "    </tr>\n",
       "  </tbody>\n",
       "</table>\n",
       "</div>"
      ],
      "text/plain": [
       "   accuracy  precision    recall        f1\n",
       "0  0.846906   0.996276  0.696615  0.819923\n",
       "1  0.842345   0.998102  0.685789  0.812983\n",
       "2  0.828553   1.000000  0.657106  0.793076\n",
       "3  0.829205   0.998028  0.659713  0.794349\n",
       "4  0.836375   1.000000  0.672751  0.804365"
      ]
     },
     "execution_count": 17,
     "metadata": {},
     "output_type": "execute_result"
    }
   ],
   "source": [
    "bernoullinb_pipe = get_pipe(BernoulliNB, {})\n",
    "validate_pipe(bernoullinb_pipe, X, y)"
   ]
  }
 ],
 "metadata": {
  "kernelspec": {
   "display_name": "tcc",
   "language": "python",
   "name": "python3"
  },
  "language_info": {
   "codemirror_mode": {
    "name": "ipython",
    "version": 3
   },
   "file_extension": ".py",
   "mimetype": "text/x-python",
   "name": "python",
   "nbconvert_exporter": "python",
   "pygments_lexer": "ipython3",
   "version": "3.12.2"
  }
 },
 "nbformat": 4,
 "nbformat_minor": 2
}
