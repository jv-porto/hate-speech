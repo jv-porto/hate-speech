{
  "cells": [
    {
      "cell_type": "markdown",
      "metadata": {
        "id": "6kIetbkkkN5b"
      },
      "source": [
        "Código com base no repositório [Bert_HateSpeech_Classification](https://github.com/cewebbr/Bert_HateSpeech_Classification) de Diogo Cortiz.\n"
      ]
    },
    {
      "cell_type": "markdown",
      "source": [
        "Validation for Fortuna dataset, trained with Fortuna dataset:\n",
        "- Accuracy: 0.91\n",
        "- F1 Score: 0.907730557656237\n",
        "- Recall: 0.907981220657277\n",
        "- Precision:  0.9075677970279258\n",
        "- True Negative:  1351\n",
        "- False Positive:  91\n",
        "- False Negative:  105\n",
        "- True Positive:  583\n",
        "\n",
        "Validation for all datasets, trained with Fortuna dataset:\n",
        "- Accuracy: 0.73\n",
        "- F1 Score: 0.7279704228826497\n",
        "- Recall: 0.73125\n",
        "- Precision:  0.755912923636288\n",
        "- True Negative:  8421\n",
        "- False Positive:  1298\n",
        "- False Negative:  4249\n",
        "- True Positive:  6672\n",
        "\n",
        "Validation for all datasets, trained with all datasets:\n",
        "- Accuracy: 0.92\n",
        "- F1 Score: 0.9236011371917673\n",
        "- Recall: 0.9236918604651163\n",
        "- Precision:  0.9239831632557589\n",
        "- True Negative:  8767\n",
        "- False Positive:  952\n",
        "- False Negative:  623\n",
        "- True Positive:  10298"
      ],
      "metadata": {
        "id": "_8kLXCEPyPOO"
      }
    },
    {
      "cell_type": "code",
      "source": [
        "## PARA RODAR NO GOOGLE COLAB\n",
        "colab = True"
      ],
      "metadata": {
        "id": "R94SeYLZuD70"
      },
      "execution_count": 1,
      "outputs": []
    },
    {
      "cell_type": "code",
      "execution_count": 10,
      "metadata": {
        "id": "Mrc7mM2gkN5c"
      },
      "outputs": [],
      "source": [
        "import torch\n",
        "from transformers import BertModel, BertForMaskedLM, PreTrainedTokenizer\n",
        "from tokenizers import BertWordPieceTokenizer\n",
        "import numpy as np\n",
        "import time\n",
        "import datetime\n",
        "import pandas as pd"
      ]
    },
    {
      "cell_type": "code",
      "execution_count": 14,
      "metadata": {
        "colab": {
          "base_uri": "https://localhost:8080/"
        },
        "id": "GvdYBv6PkN5d",
        "outputId": "57ec739b-6f4f-41e7-dcc7-74a40dd26a21"
      },
      "outputs": [
        {
          "output_type": "stream",
          "name": "stdout",
          "text": [
            "There are 1 GPU(s) available.\n",
            "We will use the GPU: Tesla T4\n",
            "Drive already mounted at /content/drive; to attempt to forcibly remount, call drive.mount(\"/content/drive\", force_remount=True).\n"
          ]
        }
      ],
      "source": [
        "if colab:\n",
        "  # Tell PyTorch to use the GPU.\n",
        "  device = torch.device(\"cuda\")\n",
        "\n",
        "  print('There are %d GPU(s) available.' % torch.cuda.device_count())\n",
        "  print('We will use the GPU:', torch.cuda.get_device_name(0))\n",
        "\n",
        "  # Mount drive\n",
        "  from google.colab import drive\n",
        "  drive.mount('/content/drive')\n",
        "  data_path = '/content/drive/MyDrive/_PUC/concat_binary_df.parquet'\n",
        "\n",
        "else:\n",
        "    print('No GPU available, using the CPU instead.')\n",
        "    device = torch.device(\"cpu\")\n",
        "    data_path = ''\n",
        "\n",
        "if not os.path.exists('vocab.txt'):\n",
        "  !pip install wget\n",
        "  import wget\n",
        "  wget.download(\"https://huggingface.co/neuralmind/bert-base-portuguese-cased/raw/main/vocab.txt\")\n",
        "\n",
        "vocab_path = 'vocab.txt'\n",
        "df = pd.read_parquet(data_path)"
      ]
    },
    {
      "cell_type": "code",
      "source": [
        "df.head(5)"
      ],
      "metadata": {
        "colab": {
          "base_uri": "https://localhost:8080/",
          "height": 206
        },
        "id": "vUAiuOuRp9-8",
        "outputId": "d525881f-4784-48d4-dae3-fef6786f06fb"
      },
      "execution_count": 15,
      "outputs": [
        {
          "output_type": "execute_result",
          "data": {
            "text/plain": [
              "                                                text  label  source\n",
              "0                                       Mais um lixo      1  HateBR\n",
              "1                    Essa nao tem vergonha na cara!!      1  HateBR\n",
              "2                     Essa mulher é doente.pilantra!      1  HateBR\n",
              "3                                Comunista safada...      1  HateBR\n",
              "4  Vagabunda. Comunista. Mentirosa. O povo chilen...      1  HateBR"
            ],
            "text/html": [
              "\n",
              "  <div id=\"df-dabe40c0-32bc-405c-a4b3-3a5af93cd29a\" class=\"colab-df-container\">\n",
              "    <div>\n",
              "<style scoped>\n",
              "    .dataframe tbody tr th:only-of-type {\n",
              "        vertical-align: middle;\n",
              "    }\n",
              "\n",
              "    .dataframe tbody tr th {\n",
              "        vertical-align: top;\n",
              "    }\n",
              "\n",
              "    .dataframe thead th {\n",
              "        text-align: right;\n",
              "    }\n",
              "</style>\n",
              "<table border=\"1\" class=\"dataframe\">\n",
              "  <thead>\n",
              "    <tr style=\"text-align: right;\">\n",
              "      <th></th>\n",
              "      <th>text</th>\n",
              "      <th>label</th>\n",
              "      <th>source</th>\n",
              "    </tr>\n",
              "  </thead>\n",
              "  <tbody>\n",
              "    <tr>\n",
              "      <th>0</th>\n",
              "      <td>Mais um lixo</td>\n",
              "      <td>1</td>\n",
              "      <td>HateBR</td>\n",
              "    </tr>\n",
              "    <tr>\n",
              "      <th>1</th>\n",
              "      <td>Essa nao tem vergonha na cara!!</td>\n",
              "      <td>1</td>\n",
              "      <td>HateBR</td>\n",
              "    </tr>\n",
              "    <tr>\n",
              "      <th>2</th>\n",
              "      <td>Essa mulher é doente.pilantra!</td>\n",
              "      <td>1</td>\n",
              "      <td>HateBR</td>\n",
              "    </tr>\n",
              "    <tr>\n",
              "      <th>3</th>\n",
              "      <td>Comunista safada...</td>\n",
              "      <td>1</td>\n",
              "      <td>HateBR</td>\n",
              "    </tr>\n",
              "    <tr>\n",
              "      <th>4</th>\n",
              "      <td>Vagabunda. Comunista. Mentirosa. O povo chilen...</td>\n",
              "      <td>1</td>\n",
              "      <td>HateBR</td>\n",
              "    </tr>\n",
              "  </tbody>\n",
              "</table>\n",
              "</div>\n",
              "    <div class=\"colab-df-buttons\">\n",
              "\n",
              "  <div class=\"colab-df-container\">\n",
              "    <button class=\"colab-df-convert\" onclick=\"convertToInteractive('df-dabe40c0-32bc-405c-a4b3-3a5af93cd29a')\"\n",
              "            title=\"Convert this dataframe to an interactive table.\"\n",
              "            style=\"display:none;\">\n",
              "\n",
              "  <svg xmlns=\"http://www.w3.org/2000/svg\" height=\"24px\" viewBox=\"0 -960 960 960\">\n",
              "    <path d=\"M120-120v-720h720v720H120Zm60-500h600v-160H180v160Zm220 220h160v-160H400v160Zm0 220h160v-160H400v160ZM180-400h160v-160H180v160Zm440 0h160v-160H620v160ZM180-180h160v-160H180v160Zm440 0h160v-160H620v160Z\"/>\n",
              "  </svg>\n",
              "    </button>\n",
              "\n",
              "  <style>\n",
              "    .colab-df-container {\n",
              "      display:flex;\n",
              "      gap: 12px;\n",
              "    }\n",
              "\n",
              "    .colab-df-convert {\n",
              "      background-color: #E8F0FE;\n",
              "      border: none;\n",
              "      border-radius: 50%;\n",
              "      cursor: pointer;\n",
              "      display: none;\n",
              "      fill: #1967D2;\n",
              "      height: 32px;\n",
              "      padding: 0 0 0 0;\n",
              "      width: 32px;\n",
              "    }\n",
              "\n",
              "    .colab-df-convert:hover {\n",
              "      background-color: #E2EBFA;\n",
              "      box-shadow: 0px 1px 2px rgba(60, 64, 67, 0.3), 0px 1px 3px 1px rgba(60, 64, 67, 0.15);\n",
              "      fill: #174EA6;\n",
              "    }\n",
              "\n",
              "    .colab-df-buttons div {\n",
              "      margin-bottom: 4px;\n",
              "    }\n",
              "\n",
              "    [theme=dark] .colab-df-convert {\n",
              "      background-color: #3B4455;\n",
              "      fill: #D2E3FC;\n",
              "    }\n",
              "\n",
              "    [theme=dark] .colab-df-convert:hover {\n",
              "      background-color: #434B5C;\n",
              "      box-shadow: 0px 1px 3px 1px rgba(0, 0, 0, 0.15);\n",
              "      filter: drop-shadow(0px 1px 2px rgba(0, 0, 0, 0.3));\n",
              "      fill: #FFFFFF;\n",
              "    }\n",
              "  </style>\n",
              "\n",
              "    <script>\n",
              "      const buttonEl =\n",
              "        document.querySelector('#df-dabe40c0-32bc-405c-a4b3-3a5af93cd29a button.colab-df-convert');\n",
              "      buttonEl.style.display =\n",
              "        google.colab.kernel.accessAllowed ? 'block' : 'none';\n",
              "\n",
              "      async function convertToInteractive(key) {\n",
              "        const element = document.querySelector('#df-dabe40c0-32bc-405c-a4b3-3a5af93cd29a');\n",
              "        const dataTable =\n",
              "          await google.colab.kernel.invokeFunction('convertToInteractive',\n",
              "                                                    [key], {});\n",
              "        if (!dataTable) return;\n",
              "\n",
              "        const docLinkHtml = 'Like what you see? Visit the ' +\n",
              "          '<a target=\"_blank\" href=https://colab.research.google.com/notebooks/data_table.ipynb>data table notebook</a>'\n",
              "          + ' to learn more about interactive tables.';\n",
              "        element.innerHTML = '';\n",
              "        dataTable['output_type'] = 'display_data';\n",
              "        await google.colab.output.renderOutput(dataTable, element);\n",
              "        const docLink = document.createElement('div');\n",
              "        docLink.innerHTML = docLinkHtml;\n",
              "        element.appendChild(docLink);\n",
              "      }\n",
              "    </script>\n",
              "  </div>\n",
              "\n",
              "\n",
              "    <div id=\"df-b44f2ed7-5f9f-47f1-9626-b9dc87f86d9d\">\n",
              "      <button class=\"colab-df-quickchart\" onclick=\"quickchart('df-b44f2ed7-5f9f-47f1-9626-b9dc87f86d9d')\"\n",
              "                title=\"Suggest charts\"\n",
              "                style=\"display:none;\">\n",
              "\n",
              "<svg xmlns=\"http://www.w3.org/2000/svg\" height=\"24px\"viewBox=\"0 0 24 24\"\n",
              "     width=\"24px\">\n",
              "    <g>\n",
              "        <path d=\"M19 3H5c-1.1 0-2 .9-2 2v14c0 1.1.9 2 2 2h14c1.1 0 2-.9 2-2V5c0-1.1-.9-2-2-2zM9 17H7v-7h2v7zm4 0h-2V7h2v10zm4 0h-2v-4h2v4z\"/>\n",
              "    </g>\n",
              "</svg>\n",
              "      </button>\n",
              "\n",
              "<style>\n",
              "  .colab-df-quickchart {\n",
              "      --bg-color: #E8F0FE;\n",
              "      --fill-color: #1967D2;\n",
              "      --hover-bg-color: #E2EBFA;\n",
              "      --hover-fill-color: #174EA6;\n",
              "      --disabled-fill-color: #AAA;\n",
              "      --disabled-bg-color: #DDD;\n",
              "  }\n",
              "\n",
              "  [theme=dark] .colab-df-quickchart {\n",
              "      --bg-color: #3B4455;\n",
              "      --fill-color: #D2E3FC;\n",
              "      --hover-bg-color: #434B5C;\n",
              "      --hover-fill-color: #FFFFFF;\n",
              "      --disabled-bg-color: #3B4455;\n",
              "      --disabled-fill-color: #666;\n",
              "  }\n",
              "\n",
              "  .colab-df-quickchart {\n",
              "    background-color: var(--bg-color);\n",
              "    border: none;\n",
              "    border-radius: 50%;\n",
              "    cursor: pointer;\n",
              "    display: none;\n",
              "    fill: var(--fill-color);\n",
              "    height: 32px;\n",
              "    padding: 0;\n",
              "    width: 32px;\n",
              "  }\n",
              "\n",
              "  .colab-df-quickchart:hover {\n",
              "    background-color: var(--hover-bg-color);\n",
              "    box-shadow: 0 1px 2px rgba(60, 64, 67, 0.3), 0 1px 3px 1px rgba(60, 64, 67, 0.15);\n",
              "    fill: var(--button-hover-fill-color);\n",
              "  }\n",
              "\n",
              "  .colab-df-quickchart-complete:disabled,\n",
              "  .colab-df-quickchart-complete:disabled:hover {\n",
              "    background-color: var(--disabled-bg-color);\n",
              "    fill: var(--disabled-fill-color);\n",
              "    box-shadow: none;\n",
              "  }\n",
              "\n",
              "  .colab-df-spinner {\n",
              "    border: 2px solid var(--fill-color);\n",
              "    border-color: transparent;\n",
              "    border-bottom-color: var(--fill-color);\n",
              "    animation:\n",
              "      spin 1s steps(1) infinite;\n",
              "  }\n",
              "\n",
              "  @keyframes spin {\n",
              "    0% {\n",
              "      border-color: transparent;\n",
              "      border-bottom-color: var(--fill-color);\n",
              "      border-left-color: var(--fill-color);\n",
              "    }\n",
              "    20% {\n",
              "      border-color: transparent;\n",
              "      border-left-color: var(--fill-color);\n",
              "      border-top-color: var(--fill-color);\n",
              "    }\n",
              "    30% {\n",
              "      border-color: transparent;\n",
              "      border-left-color: var(--fill-color);\n",
              "      border-top-color: var(--fill-color);\n",
              "      border-right-color: var(--fill-color);\n",
              "    }\n",
              "    40% {\n",
              "      border-color: transparent;\n",
              "      border-right-color: var(--fill-color);\n",
              "      border-top-color: var(--fill-color);\n",
              "    }\n",
              "    60% {\n",
              "      border-color: transparent;\n",
              "      border-right-color: var(--fill-color);\n",
              "    }\n",
              "    80% {\n",
              "      border-color: transparent;\n",
              "      border-right-color: var(--fill-color);\n",
              "      border-bottom-color: var(--fill-color);\n",
              "    }\n",
              "    90% {\n",
              "      border-color: transparent;\n",
              "      border-bottom-color: var(--fill-color);\n",
              "    }\n",
              "  }\n",
              "</style>\n",
              "\n",
              "      <script>\n",
              "        async function quickchart(key) {\n",
              "          const quickchartButtonEl =\n",
              "            document.querySelector('#' + key + ' button');\n",
              "          quickchartButtonEl.disabled = true;  // To prevent multiple clicks.\n",
              "          quickchartButtonEl.classList.add('colab-df-spinner');\n",
              "          try {\n",
              "            const charts = await google.colab.kernel.invokeFunction(\n",
              "                'suggestCharts', [key], {});\n",
              "          } catch (error) {\n",
              "            console.error('Error during call to suggestCharts:', error);\n",
              "          }\n",
              "          quickchartButtonEl.classList.remove('colab-df-spinner');\n",
              "          quickchartButtonEl.classList.add('colab-df-quickchart-complete');\n",
              "        }\n",
              "        (() => {\n",
              "          let quickchartButtonEl =\n",
              "            document.querySelector('#df-b44f2ed7-5f9f-47f1-9626-b9dc87f86d9d button');\n",
              "          quickchartButtonEl.style.display =\n",
              "            google.colab.kernel.accessAllowed ? 'block' : 'none';\n",
              "        })();\n",
              "      </script>\n",
              "    </div>\n",
              "\n",
              "    </div>\n",
              "  </div>\n"
            ],
            "application/vnd.google.colaboratory.intrinsic+json": {
              "type": "dataframe",
              "variable_name": "df",
              "summary": "{\n  \"name\": \"df\",\n  \"rows\": 55035,\n  \"fields\": [\n    {\n      \"column\": \"text\",\n      \"properties\": {\n        \"dtype\": \"string\",\n        \"num_unique_values\": 54476,\n        \"samples\": [\n          \"mano esse USER USER e muito USER USER,esse cara \\u00e9 um mito mano...parabens sucesso e USER.\\ud83d\\udcaa\\u270c\",\n          \"'Alexandre esta maluco so pode comeu titica quando crianca'\",\n          \"mention falou pouco e falou merda prkl, o cara n\\u00e3o \\u00e9 bissexual e muito menos nordestino\"\n        ],\n        \"semantic_type\": \"\",\n        \"description\": \"\"\n      }\n    },\n    {\n      \"column\": \"label\",\n      \"properties\": {\n        \"dtype\": \"number\",\n        \"std\": 0,\n        \"min\": 0,\n        \"max\": 1,\n        \"num_unique_values\": 2,\n        \"samples\": [\n          0,\n          1\n        ],\n        \"semantic_type\": \"\",\n        \"description\": \"\"\n      }\n    },\n    {\n      \"column\": \"source\",\n      \"properties\": {\n        \"dtype\": \"category\",\n        \"num_unique_values\": 7,\n        \"samples\": [\n          \"HateBR\",\n          \"Hatespeech_BR\"\n        ],\n        \"semantic_type\": \"\",\n        \"description\": \"\"\n      }\n    }\n  ]\n}"
            }
          },
          "metadata": {},
          "execution_count": 15
        }
      ]
    },
    {
      "cell_type": "markdown",
      "source": [
        "## FUNÇÕES"
      ],
      "metadata": {
        "id": "KqoVNd33vQJ2"
      }
    },
    {
      "cell_type": "code",
      "source": [
        "def create_tokenizer_and_tokenize(sentencas, max_length=60):\n",
        "    \"\"\"\n",
        "    Cria o tokenizer BertWordPieceTokenizer e tokeniza as sentenças em batch.\n",
        "    Retorna o tokenizer, os ids, a attention_mask e o output bruto.\n",
        "    \"\"\"\n",
        "    from tokenizers import BertWordPieceTokenizer\n",
        "\n",
        "    # Cria o tokenizer\n",
        "    tokenizer = BertWordPieceTokenizer(vocab_path, lowercase=False, strip_accents=False)\n",
        "\n",
        "    # Configura truncamento e padding\n",
        "    tokenizer.enable_truncation(max_length=max_length)\n",
        "    tokenizer.enable_padding()\n",
        "\n",
        "    # Tokeniza em batch\n",
        "    output = tokenizer.encode_batch(sentencas)\n",
        "\n",
        "    # Extrai ids e attention_mask\n",
        "    ids = [x.ids for x in output]\n",
        "    attention_mask = [x.attention_mask for x in output]\n",
        "\n",
        "    print(len(ids))\n",
        "    print(len(attention_mask))\n",
        "    print(output[0])\n",
        "    print(output[0].tokens)\n",
        "\n",
        "    return tokenizer, ids, attention_mask, output\n",
        "\n",
        "def create_prediction_dataloader(tokenizer, sentencas, labels, batch_size=32, max_length=100):\n",
        "    # Configura o tokenizer\n",
        "    tokenizer.enable_truncation(max_length=max_length)\n",
        "    tokenizer.enable_padding()\n",
        "\n",
        "    # Tokeniza em batch\n",
        "    output = tokenizer.encode_batch(sentencas)\n",
        "\n",
        "    # Extrai ids e masks\n",
        "    ids = [x.ids for x in output]\n",
        "    attention_mask = [x.attention_mask for x in output]\n",
        "\n",
        "    # Converte para tensores\n",
        "    prediction_input = torch.tensor(ids)\n",
        "    prediction_mask = torch.tensor(attention_mask)\n",
        "    prediction_labels = torch.tensor(labels)\n",
        "\n",
        "    # Cria o DataLoader\n",
        "    prediction_data = TensorDataset(prediction_input, prediction_mask, prediction_labels)\n",
        "    prediction_sampler = SequentialSampler(prediction_data)\n",
        "    prediction_dataloader = DataLoader(prediction_data, sampler=prediction_sampler, batch_size=batch_size)\n",
        "\n",
        "    return prediction_dataloader\n",
        "\n",
        "# FUNÇÃO  QUE CALCULA A ACURÁCIA DO MODELO (PREDIÇÕES vs LABELS)\n",
        "def flat_accuracy(preds, labels):\n",
        "    pred_flat = np.argmax(preds, axis=1).flatten()\n",
        "    labels_flat = labels.flatten()\n",
        "    return np.sum(pred_flat == labels_flat) / len(labels_flat)\n",
        "\n",
        "# FUNÇÃO QUE FORMATA O HORÁRIO\n",
        "def format_time(elapsed):\n",
        "    '''\n",
        "    Takes a time in seconds and returns a string hh:mm:ss\n",
        "    '''\n",
        "    # Round to the nearest second.\n",
        "    elapsed_rounded = int(round((elapsed)))\n",
        "\n",
        "    # Format as hh:mm:ss\n",
        "    return str(datetime.timedelta(seconds=elapsed_rounded))\n",
        "\n"
      ],
      "metadata": {
        "id": "AHKvfR3ZvV5F"
      },
      "execution_count": 5,
      "outputs": []
    },
    {
      "cell_type": "markdown",
      "metadata": {
        "id": "X60WmOEKkN5d"
      },
      "source": [
        "\"\"\"OPCIONAL: Pode ativar um debbug para entender melhor o que acontece\"\"\""
      ]
    },
    {
      "cell_type": "code",
      "execution_count": 6,
      "metadata": {
        "id": "1DeGCX8dkN5e"
      },
      "outputs": [],
      "source": [
        "\n",
        "import logging\n",
        "logging.basicConfig(level=logging.INFO)\n"
      ]
    },
    {
      "cell_type": "markdown",
      "metadata": {
        "id": "HXCnAbENkN5f"
      },
      "source": [
        "## Formatando a Entrada e Criando os Tokens e IDS\n",
        "\n",
        "Agora chegou a hora de criarmos os tokens para que depois eles possam ser mapeados para os index do vocabulário.<Br>\n",
        "Para isso, utilizaremos o BertTokenizer, que já importamos anteriormente. Utilizaremos a versão 'bert-based-unscased' (inglês).<br>\n",
        "Antes disso, no entanto, precisamos formatar a entrada para respeitar os requisitos de entrada do Bert, que são os seguintes:\n",
        "\n",
        "\n",
        "1.   Adicionar tokens especiais no início e no fim de cada sentença ([CLS] para o início de uma sentença de classificação / [SEP] para indicar o fim de uma sentença.\n",
        "\n",
        "<img src=\"http://www.mccormickml.com/assets/BERT/CLS_token_500x606.png\" alt=\"placeholder\" width=\"50%\" height=\"50%\">\n",
        "\n",
        "2. Precisamos fazer o Pad e Truncate para que todas as senteças tenham o mesmo tamanho de entrada (máximo de 512 tokens).\n",
        "\n",
        "3. Diferenciar o que são tokens reais dos token de padding, criando um \"attention mask\".\n",
        "<img src=\"http://www.mccormickml.com/assets/BERT/padding_and_mask.png\" alt=\"placeholder\" width=\"50%\" height=\"50%\">\n",
        "\n",
        "## Entendendo o Tokenizer<br>\n",
        "O modelo do Google tem um vocabulário de 30.000 tokens com aprox 768 dimensões cada (embeedings).<br>\n",
        "Os Tokens podem representar palavras completas (mas não todas) <br>\n",
        "Os Tokens podem representar sub-palavras de palavras desconhecidas (as subwords são iniciadas com ##. Reparem que a palavra Diogo não existe no vocabulário. Ela é quebrada em duas subwords: Dio + ##go. Atenção: O token go é diferente do ##go) <oov><br>\n",
        "Os Tokens podem representar caracteres e marcações especiais:<br>\n",
        "[PAD]: Padding<br>\n",
        "[UNK]:Unknow<br>\n",
        "[CLS]: Classificação<br>\n",
        "[SEP]: Separação das sentenças<br>\n",
        "[MASK]: Máscara para a palavra<br>"
      ]
    },
    {
      "cell_type": "code",
      "execution_count": 12,
      "metadata": {
        "id": "_xQE-VJBkN5g"
      },
      "outputs": [],
      "source": [
        "import os\n",
        "# USA O MODULO TOKENIZER DO HUGGINFACE\n",
        "from tokenizers import (ByteLevelBPETokenizer,\n",
        "                            SentencePieceBPETokenizer,\n",
        "                            BertWordPieceTokenizer)"
      ]
    },
    {
      "cell_type": "code",
      "execution_count": 16,
      "metadata": {
        "id": "A3T83PegpJWu",
        "colab": {
          "base_uri": "https://localhost:8080/"
        },
        "outputId": "cc98cceb-9607-4949-d8b3-df4615516fed"
      },
      "outputs": [
        {
          "output_type": "stream",
          "name": "stdout",
          "text": [
            "55035\n",
            "55035\n",
            "Encoding(num_tokens=60, attributes=[ids, type_ids, tokens, offsets, attention_mask, special_tokens_mask, overflowing])\n",
            "['[CLS]', 'mais', 'um', 'lixo', '[SEP]', '[PAD]', '[PAD]', '[PAD]', '[PAD]', '[PAD]', '[PAD]', '[PAD]', '[PAD]', '[PAD]', '[PAD]', '[PAD]', '[PAD]', '[PAD]', '[PAD]', '[PAD]', '[PAD]', '[PAD]', '[PAD]', '[PAD]', '[PAD]', '[PAD]', '[PAD]', '[PAD]', '[PAD]', '[PAD]', '[PAD]', '[PAD]', '[PAD]', '[PAD]', '[PAD]', '[PAD]', '[PAD]', '[PAD]', '[PAD]', '[PAD]', '[PAD]', '[PAD]', '[PAD]', '[PAD]', '[PAD]', '[PAD]', '[PAD]', '[PAD]', '[PAD]', '[PAD]', '[PAD]', '[PAD]', '[PAD]', '[PAD]', '[PAD]', '[PAD]', '[PAD]', '[PAD]', '[PAD]', '[PAD]']\n"
          ]
        }
      ],
      "source": [
        "labels = df['label'].values\n",
        "sentencas = [sentenca.lower() for sentenca in df['text'].values]\n",
        "tokenizer, ids, attention_mask, output = create_tokenizer_and_tokenize(sentencas=sentencas)"
      ]
    },
    {
      "cell_type": "markdown",
      "metadata": {
        "id": "K1-qewEGkN5g"
      },
      "source": [
        "## Dividindo o Dataset em Treinamento e Validação\n",
        "\n",
        "Vamos usar a ferramenta do ScikitLearn para nos ajudar neste processo. Vamos dividir o dataset em 80% para treinamento e 20% para a validação"
      ]
    },
    {
      "cell_type": "code",
      "execution_count": 17,
      "metadata": {
        "colab": {
          "base_uri": "https://localhost:8080/"
        },
        "id": "ffXD0owykN5g",
        "outputId": "47c1e2e3-6bbd-421c-a0f1-18a07a22dd4c"
      },
      "outputs": [
        {
          "output_type": "stream",
          "name": "stdout",
          "text": [
            "[101, 137, 727, 140, 17080, 2639, 160, 22295, 22287, 1273, 1940, 126, 1354, 22290, 268, 1396, 22331, 22331, 22331, 102, 0, 0, 0, 0, 0, 0, 0, 0, 0, 0, 0, 0, 0, 0, 0, 0, 0, 0, 0, 0, 0, 0, 0, 0, 0, 0, 0, 0, 0, 0, 0, 0, 0, 0, 0, 0, 0, 0, 0, 0]\n",
            "[1, 1, 1, 1, 1, 1, 1, 1, 1, 1, 1, 1, 1, 1, 1, 1, 1, 1, 1, 1, 0, 0, 0, 0, 0, 0, 0, 0, 0, 0, 0, 0, 0, 0, 0, 0, 0, 0, 0, 0, 0, 0, 0, 0, 0, 0, 0, 0, 0, 0, 0, 0, 0, 0, 0, 0, 0, 0, 0, 0]\n"
          ]
        }
      ],
      "source": [
        "from sklearn.model_selection import train_test_split\n",
        "\n",
        "#USAR O MESMO RANDON_STATE PARA NAO TROCAR OS INPUTS DE SUAS MÁSCARAS\n",
        "train_input, validation_input, train_labels, validation_labels = train_test_split(ids, labels, random_state=2018, test_size=0.2)\n",
        "train_mask, validation_mask, _, _ = train_test_split(attention_mask, labels, random_state=2018, test_size=0.2)\n",
        "\n",
        "#COMPARANDO A PRIMEIRA LINHA DE TREINAMENTO COM A MASCARA\n",
        "print(train_input[0])\n",
        "print(train_mask[0])\n"
      ]
    },
    {
      "cell_type": "markdown",
      "metadata": {
        "id": "s8EMQC99kN5g"
      },
      "source": [
        "## Criando os tensores (Pytorch Data Type)\n",
        "Os modelos do PyTorch esperam de entrada o tipo tensor, então precisamos converter o nosso dataset de Numpy Array para tensores."
      ]
    },
    {
      "cell_type": "code",
      "execution_count": 18,
      "metadata": {
        "id": "MJNCeSVXkN5g"
      },
      "outputs": [],
      "source": [
        "train_input_tensor = torch.tensor(train_input)\n",
        "validation_input_tensor = torch.tensor(validation_input)\n",
        "\n",
        "train_labels_tensor = torch.tensor(train_labels)\n",
        "validation_labels_tensor = torch.tensor(validation_labels)\n",
        "\n",
        "train_mask_tensor = torch.tensor(train_mask)\n",
        "validation_mask_tensor= torch.tensor(validation_mask)"
      ]
    },
    {
      "cell_type": "markdown",
      "metadata": {
        "id": "MF4-Bye8kN5g"
      },
      "source": [
        "Uma ação adicional é usar o torch DataLoader, que cria um \"iterator\". Diferente de um for, o iterador não sobe todo o dataset não precisa ser carregado todo na memória (ajuda no treinamento)"
      ]
    },
    {
      "cell_type": "code",
      "execution_count": 19,
      "metadata": {
        "id": "mChWL4ofkN5h"
      },
      "outputs": [],
      "source": [
        "\n",
        "from torch.utils.data import TensorDataset, DataLoader, RandomSampler, SequentialSampler\n",
        "\n",
        "#É PRECISO ESPECIFICAR O TAMANHO DO BATCH, PARA O BERT OS AUTORES RECOMENDAM 16 OU 32\n",
        "batch_size = 32\n",
        "\n",
        "#CRIA OS DATALOADERS PARA O CONJUNTO DE TREINAMENTO\n",
        "train_data = TensorDataset(train_input_tensor, train_mask_tensor, train_labels_tensor)\n",
        "train_sampler = RandomSampler(train_data)\n",
        "train_dataloader = DataLoader(train_data, sampler=train_sampler, batch_size=batch_size)\n",
        "\n",
        "#CRIA OS DATALOADRES PARA O CONJUNTO DE VALIDAÇÃO\n",
        "validation_data = TensorDataset(validation_input_tensor, validation_mask_tensor, validation_labels_tensor)\n",
        "validation_sampler = SequentialSampler(validation_data)\n",
        "validation_dataloader = DataLoader(validation_data, sampler=validation_sampler, batch_size=batch_size)\n"
      ]
    },
    {
      "cell_type": "markdown",
      "metadata": {
        "id": "kIuIGLJEkN5h"
      },
      "source": [
        "## Treinando o modelo\n",
        "O Bert oferece um modelo pré-treinando a qual só precisamos fazer fine-tune para a tarefas que desejamos. O huggingface disponibiza não só o modelo pré-treinado mas também interfaces para nossas tarefas específicas. Algumas disponíveis são:\n",
        "\n",
        "\n",
        "*   BertMode\n",
        "*   BertForMaskedLM\n",
        "*   BertForNextSentencePrediction\n",
        "*   BertForSequenceClassification (vamos usar este)\n",
        "*   BertForTokenClassification\n",
        "*   BertForQuestionAnsering\n",
        "\n",
        "O BertForSequenceClassification basicamente é a implementação do modelo Bert com a adição de uma camada de FFN para classificação. Lembre-se que o hugging face disponibilizou diversas versões de modelo pré-treinanda (base, large, multilanugage). Você pode escolher a que for melhor para o seu propósito. Neste caso, vamos utilizar a versão multilingual por contemplar o português."
      ]
    },
    {
      "cell_type": "code",
      "execution_count": 20,
      "metadata": {
        "colab": {
          "base_uri": "https://localhost:8080/",
          "height": 248,
          "referenced_widgets": [
            "8e24d330180c457abb75b6e5756d3e7a",
            "589a2535cced4ccbb0849bfe9469aed3",
            "c45e4012efdd4e2795bf1a7b909feb02",
            "44dbc5ac48cf49b4a5c8c8cfb653c175",
            "5dbade23144f48b0a519fa45c1c30bfc",
            "882234b771ee4f1399c7a292ee69562f",
            "83cfd9ce6f9c49949b6cfbe16476e1ea",
            "a4a8f828ea7849b0bb0c1a3ba331041f",
            "04f1eb65ae9044b8a90a747bb2b2a5df",
            "a153f4181d354ebba5d2b7392bb81e18",
            "438c34b5fc4045df9a7976749d2c4a01",
            "789d379fbb83473599e985ff452404ad",
            "9d2612415d8544e08c476bcb16caddd3",
            "343237fed0c94220ba3f591ae04a51e9",
            "b588c9daf742490aa80ec19909d3f713",
            "61ed23b03f6f49f580df8afc86d009d2",
            "33befb2ad13141dd818665dfe76248ca",
            "5b8f86eceff949f6affb8e44be2478d7",
            "b0828eaa460349bcaa18c47a3cf34338",
            "d15191c5c2f44bf2ac189da910d92459",
            "7f567ee4b57d4eaca1c8416b93be0a16",
            "848b1f57a0f64982a14ae65916eae43c"
          ]
        },
        "id": "JvvfQ_-skN5h",
        "outputId": "36afb663-af68-4bf0-f78e-d958bd40b929"
      },
      "outputs": [
        {
          "output_type": "stream",
          "name": "stderr",
          "text": [
            "/usr/local/lib/python3.11/dist-packages/huggingface_hub/utils/_auth.py:94: UserWarning: \n",
            "The secret `HF_TOKEN` does not exist in your Colab secrets.\n",
            "To authenticate with the Hugging Face Hub, create a token in your settings tab (https://huggingface.co/settings/tokens), set it as secret in your Google Colab and restart your session.\n",
            "You will be able to reuse this secret in all of your notebooks.\n",
            "Please note that authentication is recommended but still optional to access public models or datasets.\n",
            "  warnings.warn(\n"
          ]
        },
        {
          "output_type": "display_data",
          "data": {
            "text/plain": [
              "config.json:   0%|          | 0.00/647 [00:00<?, ?B/s]"
            ],
            "application/vnd.jupyter.widget-view+json": {
              "version_major": 2,
              "version_minor": 0,
              "model_id": "8e24d330180c457abb75b6e5756d3e7a"
            }
          },
          "metadata": {}
        },
        {
          "output_type": "display_data",
          "data": {
            "text/plain": [
              "pytorch_model.bin:   0%|          | 0.00/438M [00:00<?, ?B/s]"
            ],
            "application/vnd.jupyter.widget-view+json": {
              "version_major": 2,
              "version_minor": 0,
              "model_id": "789d379fbb83473599e985ff452404ad"
            }
          },
          "metadata": {}
        },
        {
          "output_type": "stream",
          "name": "stderr",
          "text": [
            "Some weights of BertForSequenceClassification were not initialized from the model checkpoint at neuralmind/bert-base-portuguese-cased and are newly initialized: ['classifier.bias', 'classifier.weight']\n",
            "You should probably TRAIN this model on a down-stream task to be able to use it for predictions and inference.\n"
          ]
        }
      ],
      "source": [
        "#IMPORTA O BERT E O OTIMIZADOR ADAM\n",
        "from transformers import BertForSequenceClassification, BertConfig, BertModel\n",
        "\n",
        "#CRIA O MODELO BERT PRETREINADO COM UMA CAMADA DE CLASSIFICAÇÃO NO TOPO\n",
        "model = BertForSequenceClassification.from_pretrained(\n",
        "    'neuralmind/bert-base-portuguese-cased',\n",
        "    num_labels = 2, # NUMERO DE CLASSES (NO CASO BINÁRIA: ACEITÁVEL OU NÃO. PODE TER MAIS PARA MULTICLASSE)\n",
        "    output_attentions = True, # SE O MODELO DEVE EXPORTAR OS PESOS DAS ATENÇÕES\n",
        "    output_hidden_states = True, # SE O MODELO DEVE EXPORTAR OS HIDDEN STATES (PODE SER INTERESSANTE PARA ESTUDAR EMBEDDINGS)\n",
        ")\n",
        "\n",
        "# DIZ AO MODELO PARA USAR GPU\n",
        "if torch.cuda.is_available():\n",
        "  model.cuda()\n"
      ]
    },
    {
      "cell_type": "markdown",
      "metadata": {
        "id": "B8-Rcg2MkN5h"
      },
      "source": [
        "\n",
        "## Exibindo parâmetros do modelo\n",
        "Uma curiosidade disponibilizada em (https://mccormickml.com/2019/07/22/BERT-fine-tuning/) <br>\n",
        "É possível mostrar os parâmetro do modelo:\n",
        "<br>\n",
        "*   A camada de embeddings\n",
        "*   A primeira das 12 camadas de transformers\n",
        "*   A camada de saída (output)\n",
        "\n",
        "A execução do trecho abaixo é optativa."
      ]
    },
    {
      "cell_type": "code",
      "execution_count": 21,
      "metadata": {
        "colab": {
          "base_uri": "https://localhost:8080/"
        },
        "id": "ERmm64D2kN5h",
        "outputId": "8facc459-8757-4122-b46e-716677c9ac2e"
      },
      "outputs": [
        {
          "output_type": "stream",
          "name": "stdout",
          "text": [
            "The BERT model has 201 different named parameters.\n",
            "\n",
            "==== Embedding Layer ====\n",
            "\n",
            "bert.embeddings.word_embeddings.weight                  (29794, 768)\n",
            "bert.embeddings.position_embeddings.weight                (512, 768)\n",
            "bert.embeddings.token_type_embeddings.weight                (2, 768)\n",
            "bert.embeddings.LayerNorm.weight                              (768,)\n",
            "bert.embeddings.LayerNorm.bias                                (768,)\n",
            "\n",
            "==== First Transformer ====\n",
            "\n",
            "bert.encoder.layer.0.attention.self.query.weight          (768, 768)\n",
            "bert.encoder.layer.0.attention.self.query.bias                (768,)\n",
            "bert.encoder.layer.0.attention.self.key.weight            (768, 768)\n",
            "bert.encoder.layer.0.attention.self.key.bias                  (768,)\n",
            "bert.encoder.layer.0.attention.self.value.weight          (768, 768)\n",
            "bert.encoder.layer.0.attention.self.value.bias                (768,)\n",
            "bert.encoder.layer.0.attention.output.dense.weight        (768, 768)\n",
            "bert.encoder.layer.0.attention.output.dense.bias              (768,)\n",
            "bert.encoder.layer.0.attention.output.LayerNorm.weight        (768,)\n",
            "bert.encoder.layer.0.attention.output.LayerNorm.bias          (768,)\n",
            "bert.encoder.layer.0.intermediate.dense.weight           (3072, 768)\n",
            "bert.encoder.layer.0.intermediate.dense.bias                 (3072,)\n",
            "bert.encoder.layer.0.output.dense.weight                 (768, 3072)\n",
            "bert.encoder.layer.0.output.dense.bias                        (768,)\n",
            "bert.encoder.layer.0.output.LayerNorm.weight                  (768,)\n",
            "bert.encoder.layer.0.output.LayerNorm.bias                    (768,)\n",
            "\n",
            "==== Output Layer ====\n",
            "\n",
            "bert.pooler.dense.weight                                  (768, 768)\n",
            "bert.pooler.dense.bias                                        (768,)\n",
            "classifier.weight                                           (2, 768)\n",
            "classifier.bias                                                 (2,)\n"
          ]
        }
      ],
      "source": [
        "\n",
        "# Get all of the model's parameters as a list of tuples.\n",
        "params = list(model.named_parameters())\n",
        "\n",
        "print('The BERT model has {:} different named parameters.\\n'.format(len(params)))\n",
        "\n",
        "print('==== Embedding Layer ====\\n')\n",
        "\n",
        "for p in params[0:5]:\n",
        "    print(\"{:<55} {:>12}\".format(p[0], str(tuple(p[1].size()))))\n",
        "\n",
        "print('\\n==== First Transformer ====\\n')\n",
        "\n",
        "for p in params[5:21]:\n",
        "    print(\"{:<55} {:>12}\".format(p[0], str(tuple(p[1].size()))))\n",
        "\n",
        "print('\\n==== Output Layer ====\\n')\n",
        "\n",
        "for p in params[-4:]:\n",
        "    print(\"{:<55} {:>12}\".format(p[0], str(tuple(p[1].size()))))"
      ]
    },
    {
      "cell_type": "markdown",
      "metadata": {
        "id": "yZwSG6VukN5i"
      },
      "source": [
        "## Otimizador\n",
        "\n",
        "Carregamos o modelo, agora precisamos criar o Otimizador Adam. Os autores recomendam os seguintres valores:\n",
        "*   Batch Size: 16, 32 (Lembre-se que usamos 32 no Dataloader)\n",
        "*   Learning Rate (Adam):  5e-5, 3e-5, 2e-5 (vamos usar 2e-5)\n",
        "*   Numero de épocas (Quantas vezes TODO o dataset é treinado):  2,3,4 (utilizaremos 4):"
      ]
    },
    {
      "cell_type": "code",
      "execution_count": 22,
      "metadata": {
        "id": "u1ozAbS6kN5i"
      },
      "outputs": [],
      "source": [
        "from torch.optim import AdamW\n",
        "\n",
        "optimizer = AdamW(model.parameters(),\n",
        "                  lr = 2e-5, # args.learning_rate - default is 5e-5, our notebook had 2e-5\n",
        "                  eps = 1e-8 # args.adam_epsilon  - default is 1e-8.\n",
        "                )\n"
      ]
    },
    {
      "cell_type": "markdown",
      "metadata": {
        "id": "4E6hSvBQkN5i"
      },
      "source": [
        "## Learning Rate Scheduler\n",
        "Em redes neurais é útil diminuir a taxa de aprendizado (learning rate) conforme as épocas vão aumentando para que possamos evitar que o modelo entre em um estado \"caótico\" com taxas grandes ou o \"falso míninmo\" com taxas pequenas. A ideia é ir ajustando conforme as épocas vão passando."
      ]
    },
    {
      "cell_type": "code",
      "execution_count": 23,
      "metadata": {
        "id": "We7Bwo0ekN5i"
      },
      "outputs": [],
      "source": [
        "#ESTA CLASSE FARÁ O AGENDAMENTO\n",
        "from transformers import get_linear_schedule_with_warmup\n",
        "\n",
        "epochs = 4 #QUANTIDADE DE ÉPOCAS\n",
        "\n",
        "#PARA CALCULAR A QUANTIDADE DE PASSOS É A QTD DE BATCHS * ÉPOCAS\n",
        "total_steps = epochs * len(train_dataloader)\n",
        "\n",
        "#CRIANDO O AGENDADOR\n",
        "scheduler = get_linear_schedule_with_warmup(optimizer,\n",
        "                                            num_warmup_steps = 0, #VALOR PADRÃO\n",
        "                                            num_training_steps = total_steps)"
      ]
    },
    {
      "cell_type": "markdown",
      "metadata": {
        "id": "324ubfF4kN5i"
      },
      "source": [
        "## Loop de Treinamento\n",
        "Não é só chamar alguma função para treinar o modelo. Precisamos criar um loop que se repita a quantidade de épocas especificadas executando as atividades abaixo. A cada passagem, também faremos uma avaliação do modelo:\n",
        "\n",
        "Loop de treinamento\n",
        "*   Desempacotar os dados de entrada e os labels\n",
        "*   Carregar os dados para a GPU\n",
        "*   Limpar os gradientes calculados na passagem anterior (no pytorch os gradientes são acumulados por padrão. pode ser útil para RNN, mas não no caso de transformers.\n",
        "* Forward Pass (Passar os dados pela rede)\n",
        "* Backward Pass (backpropagation)\n",
        "* Pedir para a rede atualizar os parâmetros (optimizer.step())\n",
        "* Monitar as variáveis para saber o progresso\n",
        "\n",
        "Loop de avaliação\n",
        "* Desempacotar os dados de entrada e os labels\n",
        "* Carregar os dados para a GPU\n",
        "* Forward Pass (Passar os dados pela rede)\n",
        "* Computar a perda na nossa validação e monitorar as variáveis para saber o progresso.\n",
        "\n",
        "**Antes, vamos criar duas funções de ajuda. Uma para calcular a acurácia do modelo e outra para formatar o horário**:"
      ]
    },
    {
      "cell_type": "code",
      "execution_count": 24,
      "metadata": {
        "colab": {
          "base_uri": "https://localhost:8080/"
        },
        "id": "IYF6WeXokN5i",
        "outputId": "580c26aa-9d83-481c-c4ad-c8fd8a84af95"
      },
      "outputs": [
        {
          "metadata": {
            "tags": null
          },
          "name": "stdout",
          "output_type": "stream",
          "text": [
            "\n",
            "======== Epoch 1 / 4 ========\n",
            "Training...\n"
          ]
        },
        {
          "metadata": {
            "tags": null
          },
          "name": "stderr",
          "output_type": "stream",
          "text": [
            "BertSdpaSelfAttention is used but `torch.nn.functional.scaled_dot_product_attention` does not support non-absolute `position_embedding_type` or `output_attentions=True` or `head_mask`. Falling back to the manual attention implementation, but specifying the manual implementation will be required from Transformers version v5.0.0 onwards. This warning can be removed using the argument `attn_implementation=\"eager\"` when loading the model.\n"
          ]
        },
        {
          "output_type": "stream",
          "name": "stdout",
          "text": [
            "Running Validation...\n",
            "  Acurácia: 0.82\n",
            "  Tempo de Validação: 0:00:36\n",
            "\n",
            "======== Epoch 2 / 4 ========\n",
            "Training...\n",
            "Running Validation...\n",
            "  Acurácia: 0.82\n",
            "  Tempo de Validação: 0:00:36\n",
            "\n",
            "======== Epoch 3 / 4 ========\n",
            "Training...\n",
            "Running Validation...\n",
            "  Acurácia: 0.82\n",
            "  Tempo de Validação: 0:00:36\n",
            "\n",
            "======== Epoch 4 / 4 ========\n",
            "Training...\n",
            "Running Validation...\n",
            "  Acurácia: 0.82\n",
            "  Tempo de Validação: 0:00:36\n",
            "FIM DO TREINAMENTO\n"
          ]
        }
      ],
      "source": [
        "\"\"\"**AGORA VEM O LOOP DE TREINAMENTO :)**\"\"\"\n",
        "\n",
        "import random\n",
        "\n",
        "# PRIMEIRO PRECISAMOS GARANTIR A REPRODUTIBILIDADE\n",
        "# USANDO OS SEEDS DO PYTORCH, GARANTIMOS QUE OS VALORES SERÃO INICIADOS DA MESMA FORMA\n",
        "# VAMOS SETAR O MESMO VALOR EM DIFERENTES LUGARES\n",
        "\n",
        "seed_val = 42\n",
        "\n",
        "random.seed(seed_val)\n",
        "np.random.seed(seed_val)\n",
        "torch.manual_seed(seed_val)\n",
        "torch.cuda.manual_seed_all(seed_val)\n",
        "\n",
        "# CRIANDO UMA LISTA QUE IRÁ ARMZENAR LOSS AO FIM DE CADA ÉPOCA\n",
        "loss_values = []\n",
        "\n",
        "# CRIANDO O LOOP DAS ÉPOCAS\n",
        "for epoch_i in range(0, epochs):\n",
        "\n",
        "    # ========================================\n",
        "    #               Training\n",
        "    # ========================================\n",
        "\n",
        "    # Perform one full pass over the training set.\n",
        "\n",
        "    print(\"\")\n",
        "    print('======== Epoch {:} / {:} ========'.format(epoch_i + 1, epochs))\n",
        "    print('Training...')\n",
        "\n",
        "    # MEDIR QUANTO TEMPO UMA ÉPOCA LEVA\n",
        "    t0 = time.time()\n",
        "\n",
        "    # RESETANDO O LOSS PARA ESTA ÉPOCA\n",
        "    total_loss = 0\n",
        "\n",
        "    #COLOCANDO O MODELO NO MODO DE TREINAMENTO\n",
        "    #ESSE COMANDO NÃO CHAMA O TREINAMENTO, APENAS AVISA O MODELO PARA FAZER AJUSTES DE DROPOUTS\n",
        "    model.train()\n",
        "    device = torch.device(\"cuda\")\n",
        "\n",
        "    # UM LOOP PARA CADA BATCH  DENTRO DA ÉPOCA\n",
        "    for step, batch in enumerate(train_dataloader):\n",
        "        # PRECISAMOS DESPEMPACOTAR O BATCH E CARREGAR NA GPU\n",
        "        # BATCH CONTEM TRÊS TENSORES\n",
        "        #   [0]: ID DE INPUT\n",
        "        #   [1]: ATTENTION MASKS\n",
        "        #   [2]: LABELS\n",
        "        b_input_ids = batch[0].to(device)\n",
        "        b_input_mask = batch[1].to(device)\n",
        "        b_labels = batch[2].to(device)\n",
        "\n",
        "        #PRECISAMOS LIMPAR O GRADIENTE ANTES DE BACKPROP\n",
        "        #PYTORCH NAO FAZ ISSO AUTOMÁTICO\n",
        "        model.zero_grad()\n",
        "\n",
        "        #AGORA VAMOS FAZER UMA PASSAGEM (FORWARD PASS)\n",
        "        #O RESULTADO SERÁ LOSS (NÃO SERÁ A PREDIÇÃO PQ PASSAMOS OS LABELS)\n",
        "        outputs = model(b_input_ids,\n",
        "                    token_type_ids=None, #USADO QUANDO É NEXT SEQUENCE\n",
        "                    attention_mask=b_input_mask,\n",
        "                    labels=b_labels)\n",
        "\n",
        "        #O MODELO RETORNA UMA TUPLA.\n",
        "        #VAMOS PEGAR O VALOR DA TUPLA\n",
        "        loss = outputs[0]\n",
        "        hidden_state = outputs[2]\n",
        "\n",
        "\n",
        "        # VAMOS ARMAZENAR O HIDDEN STATE E ATENÇÃO TB\n",
        "\n",
        "\n",
        "\n",
        "        #VAMOS ACUMULAR O VALOR NO TOTAL DE LOSS DA ÉPOCA\n",
        "        # .item() RETORNA UM VALOR PYTHON DE UM TENSOR\n",
        "        total_loss += loss.item()\n",
        "\n",
        "        #AGORA VAMOS FAZER O BACKWARD PARA CALCULAR O GRADIENTE\n",
        "        loss.backward()\n",
        "\n",
        "        # PASSO NECESSÁRIO\n",
        "        # Clip the norm of the gradients to 1.0.\n",
        "        # This is to help prevent the \"exploding gradients\" problem.\n",
        "        torch.nn.utils.clip_grad_norm_(model.parameters(), 1.0)\n",
        "\n",
        "        # O OTIMIZADOR VAI ATUALIZAR OS PARAMETROS COM BASE NO GRADIENTE\n",
        "        optimizer.step()\n",
        "\n",
        "        # ATUALIZANDO O LEARNING RATE\n",
        "        scheduler.step()\n",
        "\n",
        "    # APOS TODOS OS BATCH DE UMA EPOCA\n",
        "    # CACLULA AVERAGE LOSS COM BASE NO TREINAMENTO (TAMANHO DO DATASET)\n",
        "\n",
        "    avg_train_loss = total_loss / len(train_dataloader)\n",
        "\n",
        "    #ARMAZENA O LOSS NA LISTA (PARA DEPOIS SER PLOTADO NO GRAFICO)\n",
        "    loss_values.append(avg_train_loss)\n",
        "\n",
        "    # DENTRO DE CADA ÉPOCA TAMBÉM VAMOS RODAR UMA AVALIAÇÃO\n",
        "    print(\"Running Validation...\")\n",
        "    t0 = time.time()\n",
        "\n",
        "    # COLOCANDO O MODELO NO MODO DE AVALIAÇÃO (SAINDO DO MODULO DE TREINAMENTO)\n",
        "    model.eval()\n",
        "\n",
        "    # CRIANDO VARIÁVEIS DE MONITORAMENTO\n",
        "    eval_loss, eval_accuracy = 0, 0\n",
        "    nb_eval_steps, nb_eval_examples = 0, 0\n",
        "\n",
        "    # LOOP PARA AVALIAR CADA BATCH DE TREINAMENTO\n",
        "    for batch in validation_dataloader:\n",
        "        b_input_ids = batch[0].to(device)\n",
        "        b_input_mask = batch[1].to(device)\n",
        "        b_labels = batch[2].to(device)\n",
        "\n",
        "        # PEDE AO MODELO PARA NAO COMPUTAR GRADIENTES (É VALIDAÇÃO, NÃO TREINAMENTO)\n",
        "        with torch.no_grad():\n",
        "          # FORWARD PASS PARA CALCULAR OS LOGITS DA PREDIÇÃO\n",
        "          outputs = model(b_input_ids, token_type_ids=None, attention_mask=b_input_mask)\n",
        "\n",
        "        # O RESULTADO DO MODELO AGORA NÃO SERÁ LOSS\n",
        "        # SERÁ 'LOGITS', VALOR DE SAIDA ANTES DE UMA FUNÇÃO DE ATIVAÇÃO (SOFTMAX POR EXEMPLO)\n",
        "        # COMO É UMA CLASSIFICAÇÃO BINÁRIA, SÓ OS LOGITS SERVEM\n",
        "        # DEPENDENDO DO MODELO SERIA NECESSÁRIO UM SOFTMAX\n",
        "        logits = outputs[0]\n",
        "\n",
        "        # MOVER OS LOGITS E OS LABELS PARA A CPU\n",
        "        logits = logits.detach().cpu().numpy()\n",
        "        label_ids = b_labels.to('cpu').numpy()\n",
        "\n",
        "        #CALCULAR ACURÁCIA CHAMANDO A FUNÇÃO QUE CRIAMOS ANTERIORMENTE\n",
        "        tmp_eval_accuracy = flat_accuracy(logits, label_ids)\n",
        "\n",
        "        # ACUMULAR O TOTAL DA ACURÁCIA\n",
        "        eval_accuracy += tmp_eval_accuracy\n",
        "\n",
        "        # TRACKEAR O NUMERO DE BATCHS\n",
        "        nb_eval_steps +=1\n",
        "\n",
        "    # EXIBINDO DADOS FINAIS\n",
        "    print(\"  Acurácia: {0:.2f}\".format(eval_accuracy/nb_eval_steps))\n",
        "    print(\"  Tempo de Validação: {:}\".format(format_time(time.time() - t0)))\n",
        "\n",
        "#FIM DAS EPOCAS\n",
        "print(\"FIM DO TREINAMENTO\")\n"
      ]
    },
    {
      "cell_type": "markdown",
      "metadata": {
        "id": "a5OdYfmfo4hS"
      },
      "source": [
        "\n",
        "## Mostrando o gráfico LOSS por época"
      ]
    },
    {
      "cell_type": "code",
      "execution_count": 25,
      "metadata": {
        "colab": {
          "base_uri": "https://localhost:8080/",
          "height": 540
        },
        "id": "wDrLQTM-pCy7",
        "outputId": "d86df468-2df3-424e-ba68-122ae75e9d44"
      },
      "outputs": [
        {
          "output_type": "display_data",
          "data": {
            "text/plain": [
              "<Figure size 1200x600 with 1 Axes>"
            ],
            "image/png": "[encoded data removed]"
          },
          "metadata": {}
        }
      ],
      "source": [
        "import matplotlib.pyplot as plt\n",
        "import seaborn as sns\n",
        "\n",
        "# Use plot styling from seaborn.\n",
        "sns.set(style='darkgrid')\n",
        "\n",
        "# Increase the plot size and font size.\n",
        "sns.set(font_scale=1.5)\n",
        "plt.rcParams[\"figure.figsize\"] = (12,6)\n",
        "\n",
        "# Plot the learning curve.\n",
        "plt.plot(loss_values, 'b-o')\n",
        "\n",
        "# Label the plot.\n",
        "plt.title(\"Training loss\")\n",
        "plt.xlabel(\"Epoch\")\n",
        "plt.ylabel(\"Loss\")\n",
        "\n",
        "plt.show()"
      ]
    },
    {
      "cell_type": "markdown",
      "metadata": {
        "id": "A58ecJiHpRh0"
      },
      "source": [
        "## Executando e Testando o modelo\n",
        "\n",
        "Agora que o modelo está treinado, podemos executá-lo. Nesta seção vamos fazer alguns testes. O primeiro ponto é preparar os dados (assim como fizemos na fase de treinamento), mas desta vez não precisamos dos labels."
      ]
    },
    {
      "cell_type": "code",
      "execution_count": 26,
      "metadata": {
        "id": "aMtIAYXwpYqb"
      },
      "outputs": [],
      "source": [
        "# FUNÇÃO QUE VALIDA O MODELO\n",
        "def Validar_Modelo(prediction_dataloader, batch_size):\n",
        "  #ARMAZENAR RESULTADOS\n",
        "  resultado_predicoes = []\n",
        "  resultados_esperados = []\n",
        "  falsos_positivos = []\n",
        "  falsos_negativos = []\n",
        "  verdadeiros_positivos = []\n",
        "  verdadeiros_negativos =[]\n",
        "  nb_eval_steps = 0\n",
        "  eval_accuracy = 0\n",
        "  tmp_eval_accuracy = 0\n",
        "  for batch in prediction_dataloader:\n",
        "    b_input_ids = batch[0].to(device)\n",
        "    b_input_mask = batch[1].to(device)\n",
        "    b_labels = batch[2].to(device)\n",
        "    # PEDE AO MODELO PARA NAO COMPUTAR GRADIENTES (É VALIDAÇÃO, NÃO TREINAMENTO)\n",
        "    with torch.no_grad():\n",
        "      # FORWARD PASS PARA CALCULAR OS LOGITS DA PREDIÇÃO\n",
        "      outputs = model(b_input_ids, token_type_ids=None, attention_mask=b_input_mask)\n",
        "    # O RESULTADO DO MODELO AGORA NÃO SERÁ LOSS\n",
        "    # SERÁ 'LOGITS', VALOR DE SAIDA ANTES DE UMA FUNÇÃO DE ATIVAÇÃO (SOFTMAX POR EXEMPLO)\n",
        "    # COMO É UMA CLASSIFICAÇÃO BINÁRIA, SÓ OS LOGITS SERVEM\n",
        "    # DEPENDENDO DO MODELO SERIA NECESSÁRIO UM SOFTMAX\n",
        "    # TAMBÉM É POSSIVEL PEGAR A ATENÇÃO E OS HIDDEN STATES\n",
        "    logits = outputs[0]\n",
        "    attention=outputs[-1]\n",
        "    all_hidden_state = outputs[-2]\n",
        "\n",
        "    # MOVER OS LOGITS E OS LABELS PARA A CPU\n",
        "    logits = logits.detach().cpu().numpy()\n",
        "    label_ids = b_labels.to('cpu').numpy()\n",
        "    reconstruct_input_id = b_input_ids.to('cpu').numpy()\n",
        "\n",
        "    # LOOP PARA VISUALIZAR CADA SETENÇA\n",
        "    for logit, label, inputs, att in zip(logits, label_ids, reconstruct_input_id, attention):\n",
        "      resultado_predicoes.append(np.argmax(logit))\n",
        "      resultados_esperados.append(label)\n",
        "      # LOOP PARA IDENTIFICAR FALSOS POSITIVIOS, FALSOS NEGATIVOS e CORRETOS\n",
        "      if (label != np.argmax(logit)):\n",
        "        if (label == 1 and np.argmax(logit) == 0):\n",
        "          falsos_negativos.append(inputs)\n",
        "          #captum(inputs,label,logit, \"fn\")\n",
        "        elif(label == 0 and np.argmax(logit) == 1):\n",
        "          falsos_positivos.append(inputs)\n",
        "          #captum(inputs,label,logit, \"fp\")\n",
        "      else:\n",
        "        if (label == 1 and np.argmax(logit) == 1):\n",
        "          verdadeiros_positivos.append(inputs)\n",
        "          #captum(inputs,label,logit, \"tp\")\n",
        "        elif (label == 0 and np.argmax(logit) == 0):\n",
        "          verdadeiros_negativos.append(inputs)\n",
        "          #captum(inputs,label,logit, \"tn\")\n",
        "\n",
        "    #CALCULAR ACURÁCIA CHAMANDO A FUNÇÃO QUE CRIAMOS ANTERIORMENTE\n",
        "    tmp_eval_accuracy = flat_accuracy(logits, label_ids)\n",
        "\n",
        "    # ACUMULAR O TOTAL DA ACURÁCIA\n",
        "    eval_accuracy += tmp_eval_accuracy\n",
        "\n",
        "    # TRACKEAR O NUMERO DE BATCHS\n",
        "    nb_eval_steps +=1\n",
        "    #wait = input(\"PRESS ENTER TO CONTINUE.\")\n",
        "\n",
        "  # RELATÓRIO FINAL\n",
        "  print(\"  Accuracy: {0:.2f}\".format(eval_accuracy/nb_eval_steps))\n",
        "\n",
        "  from sklearn.metrics import accuracy_score\n",
        "  print(\"Accuracia: \", accuracy_score(resultados_esperados, resultado_predicoes))\n",
        "\n",
        "  from sklearn.metrics import f1_score\n",
        "  print(\"F1 Score:\", f1_score(resultados_esperados, resultado_predicoes, average='weighted'))\n",
        "\n",
        "  from sklearn.metrics import recall_score\n",
        "  print(\"Recall:\", recall_score(resultados_esperados, resultado_predicoes, average='weighted'))\n",
        "\n",
        "  from sklearn.metrics import precision_score\n",
        "  print(\"Precision: \", precision_score(resultados_esperados, resultado_predicoes, average='weighted'))\n",
        "\n",
        "  #listar_falsospositivos(falsos_positivos)\n",
        "  #attrib2csv(attrib_falsospositivo, \"falsos_positivos.csv\")\n",
        "  #attrib2csv(attrib_falsosnegativos, \"falsos_negativos.csv\")\n",
        "  #attrib2csv(attrib_verdadeirospositivos, \"verdadeiros_positivos.csv\")\n",
        "  #attrib2csv(attrib_verdadeironegativos, \"verdadeiros_negativos.csv\")\n",
        "\n",
        "  from sklearn.metrics import confusion_matrix\n",
        "  tn, fp, fn, tp = confusion_matrix(resultados_esperados, resultado_predicoes).ravel()\n",
        "  print (\"True Negative: \", tn)\n",
        "  print (\"False Positive: \", fp)\n",
        "  print (\"False Negative: \", fn)\n",
        "  print (\"True Positive: \", tp)\n"
      ]
    },
    {
      "cell_type": "code",
      "execution_count": 28,
      "metadata": {
        "colab": {
          "base_uri": "https://localhost:8080/"
        },
        "id": "OH9Vpl43nv-K",
        "outputId": "2a723647-8518-4354-df7a-1b622d42fc6f"
      },
      "outputs": [
        {
          "output_type": "stream",
          "name": "stdout",
          "text": [
            "  Accuracy: 0.92\n",
            "Accuracia:  0.9236918604651163\n",
            "F1 Score: 0.9236011371917673\n",
            "Recall: 0.9236918604651163\n",
            "Precision:  0.9239831632557589\n",
            "True Negative:  8767\n",
            "False Positive:  952\n",
            "False Negative:  623\n",
            "True Positive:  10298\n"
          ]
        }
      ],
      "source": [
        "prediction_dataloader = create_prediction_dataloader(tokenizer=tokenizer, sentencas=sentencas, labels=labels)\n",
        "Validar_Modelo(prediction_dataloader, batch_size)"
      ]
    },
    {
      "cell_type": "markdown",
      "source": [
        "## Salvar pesos do modelo"
      ],
      "metadata": {
        "id": "07PIlncysI9i"
      }
    },
    {
      "cell_type": "code",
      "source": [
        "# Specify a directory to save the model\n",
        "output_dir = '/content/drive/My Drive/_PUC/'\n",
        "\n",
        "# Create output directory if needed\n",
        "if not os.path.exists(output_dir):\n",
        "    os.makedirs(output_dir)\n",
        "\n",
        "print(\"Saving model to %s\" % output_dir)\n",
        "\n",
        "# Save a trained model, configuration and tokenizer using `save_pretrained()`.\n",
        "# They can then be reloaded using `from_pretrained()`\n",
        "model_to_save = model.module if hasattr(model, 'module') else model  # Take care of distributed/parallel training\n",
        "model_to_save.save_pretrained(output_dir)\n",
        "tokenizer.save_model(output_dir)"
      ],
      "metadata": {
        "colab": {
          "base_uri": "https://localhost:8080/"
        },
        "id": "XTRvLzrSsIYX",
        "outputId": "4361ea18-df0e-40e1-8820-a74dbcf3ac3d"
      },
      "execution_count": 31,
      "outputs": [
        {
          "output_type": "stream",
          "name": "stdout",
          "text": [
            "Saving model to /content/drive/My Drive/_PUC/\n"
          ]
        },
        {
          "output_type": "execute_result",
          "data": {
            "text/plain": [
              "['/content/drive/My Drive/_PUC/vocab.txt']"
            ]
          },
          "metadata": {},
          "execution_count": 31
        }
      ]
    },
    {
      "cell_type": "markdown",
      "metadata": {
        "id": "k8gxhe3npJWy"
      },
      "source": [
        "# Testing on whole corpus of data\n"
      ]
    },
    {
      "cell_type": "code",
      "execution_count": null,
      "metadata": {
        "id": "8sMxvVMhpJWy"
      },
      "outputs": [],
      "source": [
        "import torch\n",
        "import pandas as pd\n",
        "from torch.utils.data import TensorDataset, DataLoader, RandomSampler, SequentialSampler\n",
        "import numpy as np"
      ]
    },
    {
      "cell_type": "code",
      "execution_count": null,
      "metadata": {
        "colab": {
          "base_uri": "https://localhost:8080/"
        },
        "id": "R8fYwrh8pJWz",
        "outputId": "38994538-7d9b-40d2-bf98-baa518fc4c46"
      },
      "outputs": [
        {
          "output_type": "stream",
          "name": "stderr",
          "text": [
            "Some weights of BertForSequenceClassification were not initialized from the model checkpoint at neuralmind/bert-base-portuguese-cased and are newly initialized: ['classifier.bias', 'classifier.weight']\n",
            "You should probably TRAIN this model on a down-stream task to be able to use it for predictions and inference.\n"
          ]
        }
      ],
      "source": [
        "from transformers import BertForSequenceClassification\n",
        "\n",
        "# 1. Recreate the model architecture (must match training)\n",
        "model = BertForSequenceClassification.from_pretrained(\n",
        "    'neuralmind/bert-base-portuguese-cased',\n",
        "    num_labels=2,\n",
        "    output_attentions=True,\n",
        "    output_hidden_states=True,\n",
        ")"
      ]
    },
    {
      "cell_type": "markdown",
      "metadata": {
        "id": "L6yC87TepJWz"
      },
      "source": [
        "## Import full binary dataset"
      ]
    },
    {
      "cell_type": "code",
      "execution_count": null,
      "metadata": {
        "colab": {
          "base_uri": "https://localhost:8080/",
          "height": 245
        },
        "id": "TIhCTm3xpJWz",
        "outputId": "8ecb634e-7a22-4a06-8d1e-7578151a2278"
      },
      "outputs": [
        {
          "output_type": "stream",
          "name": "stdout",
          "text": [
            "Drive already mounted at /content/drive; to attempt to forcibly remount, call drive.mount(\"/content/drive\", force_remount=True).\n"
          ]
        },
        {
          "output_type": "execute_result",
          "data": {
            "text/plain": [
              "                                                text  label  source\n",
              "0                                       Mais um lixo      1  HateBR\n",
              "1                    Essa nao tem vergonha na cara!!      1  HateBR\n",
              "2                     Essa mulher é doente.pilantra!      1  HateBR\n",
              "3                                Comunista safada...      1  HateBR\n",
              "4  Vagabunda. Comunista. Mentirosa. O povo chilen...      1  HateBR"
            ],
            "text/html": [
              "\n",
              "  <div id=\"df-635bc241-7baa-453f-9f05-fc831123f955\" class=\"colab-df-container\">\n",
              "    <div>\n",
              "<style scoped>\n",
              "    .dataframe tbody tr th:only-of-type {\n",
              "        vertical-align: middle;\n",
              "    }\n",
              "\n",
              "    .dataframe tbody tr th {\n",
              "        vertical-align: top;\n",
              "    }\n",
              "\n",
              "    .dataframe thead th {\n",
              "        text-align: right;\n",
              "    }\n",
              "</style>\n",
              "<table border=\"1\" class=\"dataframe\">\n",
              "  <thead>\n",
              "    <tr style=\"text-align: right;\">\n",
              "      <th></th>\n",
              "      <th>text</th>\n",
              "      <th>label</th>\n",
              "      <th>source</th>\n",
              "    </tr>\n",
              "  </thead>\n",
              "  <tbody>\n",
              "    <tr>\n",
              "      <th>0</th>\n",
              "      <td>Mais um lixo</td>\n",
              "      <td>1</td>\n",
              "      <td>HateBR</td>\n",
              "    </tr>\n",
              "    <tr>\n",
              "      <th>1</th>\n",
              "      <td>Essa nao tem vergonha na cara!!</td>\n",
              "      <td>1</td>\n",
              "      <td>HateBR</td>\n",
              "    </tr>\n",
              "    <tr>\n",
              "      <th>2</th>\n",
              "      <td>Essa mulher é doente.pilantra!</td>\n",
              "      <td>1</td>\n",
              "      <td>HateBR</td>\n",
              "    </tr>\n",
              "    <tr>\n",
              "      <th>3</th>\n",
              "      <td>Comunista safada...</td>\n",
              "      <td>1</td>\n",
              "      <td>HateBR</td>\n",
              "    </tr>\n",
              "    <tr>\n",
              "      <th>4</th>\n",
              "      <td>Vagabunda. Comunista. Mentirosa. O povo chilen...</td>\n",
              "      <td>1</td>\n",
              "      <td>HateBR</td>\n",
              "    </tr>\n",
              "  </tbody>\n",
              "</table>\n",
              "</div>\n",
              "    <div class=\"colab-df-buttons\">\n",
              "\n",
              "  <div class=\"colab-df-container\">\n",
              "    <button class=\"colab-df-convert\" onclick=\"convertToInteractive('df-635bc241-7baa-453f-9f05-fc831123f955')\"\n",
              "            title=\"Convert this dataframe to an interactive table.\"\n",
              "            style=\"display:none;\">\n",
              "\n",
              "  <svg xmlns=\"http://www.w3.org/2000/svg\" height=\"24px\" viewBox=\"0 -960 960 960\">\n",
              "    <path d=\"M120-120v-720h720v720H120Zm60-500h600v-160H180v160Zm220 220h160v-160H400v160Zm0 220h160v-160H400v160ZM180-400h160v-160H180v160Zm440 0h160v-160H620v160ZM180-180h160v-160H180v160Zm440 0h160v-160H620v160Z\"/>\n",
              "  </svg>\n",
              "    </button>\n",
              "\n",
              "  <style>\n",
              "    .colab-df-container {\n",
              "      display:flex;\n",
              "      gap: 12px;\n",
              "    }\n",
              "\n",
              "    .colab-df-convert {\n",
              "      background-color: #E8F0FE;\n",
              "      border: none;\n",
              "      border-radius: 50%;\n",
              "      cursor: pointer;\n",
              "      display: none;\n",
              "      fill: #1967D2;\n",
              "      height: 32px;\n",
              "      padding: 0 0 0 0;\n",
              "      width: 32px;\n",
              "    }\n",
              "\n",
              "    .colab-df-convert:hover {\n",
              "      background-color: #E2EBFA;\n",
              "      box-shadow: 0px 1px 2px rgba(60, 64, 67, 0.3), 0px 1px 3px 1px rgba(60, 64, 67, 0.15);\n",
              "      fill: #174EA6;\n",
              "    }\n",
              "\n",
              "    .colab-df-buttons div {\n",
              "      margin-bottom: 4px;\n",
              "    }\n",
              "\n",
              "    [theme=dark] .colab-df-convert {\n",
              "      background-color: #3B4455;\n",
              "      fill: #D2E3FC;\n",
              "    }\n",
              "\n",
              "    [theme=dark] .colab-df-convert:hover {\n",
              "      background-color: #434B5C;\n",
              "      box-shadow: 0px 1px 3px 1px rgba(0, 0, 0, 0.15);\n",
              "      filter: drop-shadow(0px 1px 2px rgba(0, 0, 0, 0.3));\n",
              "      fill: #FFFFFF;\n",
              "    }\n",
              "  </style>\n",
              "\n",
              "    <script>\n",
              "      const buttonEl =\n",
              "        document.querySelector('#df-635bc241-7baa-453f-9f05-fc831123f955 button.colab-df-convert');\n",
              "      buttonEl.style.display =\n",
              "        google.colab.kernel.accessAllowed ? 'block' : 'none';\n",
              "\n",
              "      async function convertToInteractive(key) {\n",
              "        const element = document.querySelector('#df-635bc241-7baa-453f-9f05-fc831123f955');\n",
              "        const dataTable =\n",
              "          await google.colab.kernel.invokeFunction('convertToInteractive',\n",
              "                                                    [key], {});\n",
              "        if (!dataTable) return;\n",
              "\n",
              "        const docLinkHtml = 'Like what you see? Visit the ' +\n",
              "          '<a target=\"_blank\" href=https://colab.research.google.com/notebooks/data_table.ipynb>data table notebook</a>'\n",
              "          + ' to learn more about interactive tables.';\n",
              "        element.innerHTML = '';\n",
              "        dataTable['output_type'] = 'display_data';\n",
              "        await google.colab.output.renderOutput(dataTable, element);\n",
              "        const docLink = document.createElement('div');\n",
              "        docLink.innerHTML = docLinkHtml;\n",
              "        element.appendChild(docLink);\n",
              "      }\n",
              "    </script>\n",
              "  </div>\n",
              "\n",
              "\n",
              "    <div id=\"df-18c5f637-d53e-4649-bb79-3f7ef6e35523\">\n",
              "      <button class=\"colab-df-quickchart\" onclick=\"quickchart('df-18c5f637-d53e-4649-bb79-3f7ef6e35523')\"\n",
              "                title=\"Suggest charts\"\n",
              "                style=\"display:none;\">\n",
              "\n",
              "<svg xmlns=\"http://www.w3.org/2000/svg\" height=\"24px\"viewBox=\"0 0 24 24\"\n",
              "     width=\"24px\">\n",
              "    <g>\n",
              "        <path d=\"M19 3H5c-1.1 0-2 .9-2 2v14c0 1.1.9 2 2 2h14c1.1 0 2-.9 2-2V5c0-1.1-.9-2-2-2zM9 17H7v-7h2v7zm4 0h-2V7h2v10zm4 0h-2v-4h2v4z\"/>\n",
              "    </g>\n",
              "</svg>\n",
              "      </button>\n",
              "\n",
              "<style>\n",
              "  .colab-df-quickchart {\n",
              "      --bg-color: #E8F0FE;\n",
              "      --fill-color: #1967D2;\n",
              "      --hover-bg-color: #E2EBFA;\n",
              "      --hover-fill-color: #174EA6;\n",
              "      --disabled-fill-color: #AAA;\n",
              "      --disabled-bg-color: #DDD;\n",
              "  }\n",
              "\n",
              "  [theme=dark] .colab-df-quickchart {\n",
              "      --bg-color: #3B4455;\n",
              "      --fill-color: #D2E3FC;\n",
              "      --hover-bg-color: #434B5C;\n",
              "      --hover-fill-color: #FFFFFF;\n",
              "      --disabled-bg-color: #3B4455;\n",
              "      --disabled-fill-color: #666;\n",
              "  }\n",
              "\n",
              "  .colab-df-quickchart {\n",
              "    background-color: var(--bg-color);\n",
              "    border: none;\n",
              "    border-radius: 50%;\n",
              "    cursor: pointer;\n",
              "    display: none;\n",
              "    fill: var(--fill-color);\n",
              "    height: 32px;\n",
              "    padding: 0;\n",
              "    width: 32px;\n",
              "  }\n",
              "\n",
              "  .colab-df-quickchart:hover {\n",
              "    background-color: var(--hover-bg-color);\n",
              "    box-shadow: 0 1px 2px rgba(60, 64, 67, 0.3), 0 1px 3px 1px rgba(60, 64, 67, 0.15);\n",
              "    fill: var(--button-hover-fill-color);\n",
              "  }\n",
              "\n",
              "  .colab-df-quickchart-complete:disabled,\n",
              "  .colab-df-quickchart-complete:disabled:hover {\n",
              "    background-color: var(--disabled-bg-color);\n",
              "    fill: var(--disabled-fill-color);\n",
              "    box-shadow: none;\n",
              "  }\n",
              "\n",
              "  .colab-df-spinner {\n",
              "    border: 2px solid var(--fill-color);\n",
              "    border-color: transparent;\n",
              "    border-bottom-color: var(--fill-color);\n",
              "    animation:\n",
              "      spin 1s steps(1) infinite;\n",
              "  }\n",
              "\n",
              "  @keyframes spin {\n",
              "    0% {\n",
              "      border-color: transparent;\n",
              "      border-bottom-color: var(--fill-color);\n",
              "      border-left-color: var(--fill-color);\n",
              "    }\n",
              "    20% {\n",
              "      border-color: transparent;\n",
              "      border-left-color: var(--fill-color);\n",
              "      border-top-color: var(--fill-color);\n",
              "    }\n",
              "    30% {\n",
              "      border-color: transparent;\n",
              "      border-left-color: var(--fill-color);\n",
              "      border-top-color: var(--fill-color);\n",
              "      border-right-color: var(--fill-color);\n",
              "    }\n",
              "    40% {\n",
              "      border-color: transparent;\n",
              "      border-right-color: var(--fill-color);\n",
              "      border-top-color: var(--fill-color);\n",
              "    }\n",
              "    60% {\n",
              "      border-color: transparent;\n",
              "      border-right-color: var(--fill-color);\n",
              "    }\n",
              "    80% {\n",
              "      border-color: transparent;\n",
              "      border-right-color: var(--fill-color);\n",
              "      border-bottom-color: var(--fill-color);\n",
              "    }\n",
              "    90% {\n",
              "      border-color: transparent;\n",
              "      border-bottom-color: var(--fill-color);\n",
              "    }\n",
              "  }\n",
              "</style>\n",
              "\n",
              "      <script>\n",
              "        async function quickchart(key) {\n",
              "          const quickchartButtonEl =\n",
              "            document.querySelector('#' + key + ' button');\n",
              "          quickchartButtonEl.disabled = true;  // To prevent multiple clicks.\n",
              "          quickchartButtonEl.classList.add('colab-df-spinner');\n",
              "          try {\n",
              "            const charts = await google.colab.kernel.invokeFunction(\n",
              "                'suggestCharts', [key], {});\n",
              "          } catch (error) {\n",
              "            console.error('Error during call to suggestCharts:', error);\n",
              "          }\n",
              "          quickchartButtonEl.classList.remove('colab-df-spinner');\n",
              "          quickchartButtonEl.classList.add('colab-df-quickchart-complete');\n",
              "        }\n",
              "        (() => {\n",
              "          let quickchartButtonEl =\n",
              "            document.querySelector('#df-18c5f637-d53e-4649-bb79-3f7ef6e35523 button');\n",
              "          quickchartButtonEl.style.display =\n",
              "            google.colab.kernel.accessAllowed ? 'block' : 'none';\n",
              "        })();\n",
              "      </script>\n",
              "    </div>\n",
              "\n",
              "    </div>\n",
              "  </div>\n"
            ],
            "application/vnd.google.colaboratory.intrinsic+json": {
              "type": "dataframe",
              "variable_name": "df",
              "summary": "{\n  \"name\": \"df\",\n  \"rows\": 55035,\n  \"fields\": [\n    {\n      \"column\": \"text\",\n      \"properties\": {\n        \"dtype\": \"string\",\n        \"num_unique_values\": 54476,\n        \"samples\": [\n          \"mano esse USER USER e muito USER USER,esse cara \\u00e9 um mito mano...parabens sucesso e USER.\\ud83d\\udcaa\\u270c\",\n          \"'Alexandre esta maluco so pode comeu titica quando crianca'\",\n          \"mention falou pouco e falou merda prkl, o cara n\\u00e3o \\u00e9 bissexual e muito menos nordestino\"\n        ],\n        \"semantic_type\": \"\",\n        \"description\": \"\"\n      }\n    },\n    {\n      \"column\": \"label\",\n      \"properties\": {\n        \"dtype\": \"number\",\n        \"std\": 0,\n        \"min\": 0,\n        \"max\": 1,\n        \"num_unique_values\": 2,\n        \"samples\": [\n          0,\n          1\n        ],\n        \"semantic_type\": \"\",\n        \"description\": \"\"\n      }\n    },\n    {\n      \"column\": \"source\",\n      \"properties\": {\n        \"dtype\": \"category\",\n        \"num_unique_values\": 7,\n        \"samples\": [\n          \"HateBR\",\n          \"Hatespeech_BR\"\n        ],\n        \"semantic_type\": \"\",\n        \"description\": \"\"\n      }\n    }\n  ]\n}"
            }
          },
          "metadata": {},
          "execution_count": 72
        }
      ],
      "source": [
        "colab = True\n",
        "if colab:\n",
        "  from google.colab import drive\n",
        "  drive.mount('/content/drive')\n",
        "\n",
        "  df = pd.read_parquet('/content/drive/MyDrive/_PUC/concat_binary_df.parquet')\n",
        "\n",
        "  state_dict = torch.load('/content/drive/MyDrive/_PUC/2025-04-06-bert-v1.pkl', map_location='cuda')\n",
        "  model.load_state_dict(state_dict)\n",
        "\n",
        "  if not os.path.exists('vocab.txt'):\n",
        "    !pip install wget\n",
        "    import wget\n",
        "    wget.download(\"https://huggingface.co/neuralmind/bert-base-portuguese-cased/raw/main/vocab.txt\")\n",
        "\n",
        "else:\n",
        "  df = pd.read_parquet('../../data/processed_data/concat_binary_df.parquet')\n",
        "\n",
        "  state_dict = torch.load('../../ig-models/2025-04-06-bert-v1.pkl', map_location='cpu')\n",
        "  model.load_state_dict(state_dict)\n",
        "\n",
        "vocab_path = 'vocab.txt'\n",
        "model.to(device)\n",
        "\n",
        "df.head()"
      ]
    },
    {
      "cell_type": "code",
      "source": [
        "model.eval()  # Set to evaluation mode"
      ],
      "metadata": {
        "colab": {
          "base_uri": "https://localhost:8080/"
        },
        "id": "ln5OZxM6qTiM",
        "outputId": "bd9393ab-3b35-4759-f7b6-e36c11954114"
      },
      "execution_count": null,
      "outputs": [
        {
          "output_type": "execute_result",
          "data": {
            "text/plain": [
              "BertForSequenceClassification(\n",
              "  (bert): BertModel(\n",
              "    (embeddings): BertEmbeddings(\n",
              "      (word_embeddings): Embedding(29794, 768, padding_idx=0)\n",
              "      (position_embeddings): Embedding(512, 768)\n",
              "      (token_type_embeddings): Embedding(2, 768)\n",
              "      (LayerNorm): LayerNorm((768,), eps=1e-12, elementwise_affine=True)\n",
              "      (dropout): Dropout(p=0.1, inplace=False)\n",
              "    )\n",
              "    (encoder): BertEncoder(\n",
              "      (layer): ModuleList(\n",
              "        (0-11): 12 x BertLayer(\n",
              "          (attention): BertAttention(\n",
              "            (self): BertSdpaSelfAttention(\n",
              "              (query): Linear(in_features=768, out_features=768, bias=True)\n",
              "              (key): Linear(in_features=768, out_features=768, bias=True)\n",
              "              (value): Linear(in_features=768, out_features=768, bias=True)\n",
              "              (dropout): Dropout(p=0.1, inplace=False)\n",
              "            )\n",
              "            (output): BertSelfOutput(\n",
              "              (dense): Linear(in_features=768, out_features=768, bias=True)\n",
              "              (LayerNorm): LayerNorm((768,), eps=1e-12, elementwise_affine=True)\n",
              "              (dropout): Dropout(p=0.1, inplace=False)\n",
              "            )\n",
              "          )\n",
              "          (intermediate): BertIntermediate(\n",
              "            (dense): Linear(in_features=768, out_features=3072, bias=True)\n",
              "            (intermediate_act_fn): GELUActivation()\n",
              "          )\n",
              "          (output): BertOutput(\n",
              "            (dense): Linear(in_features=3072, out_features=768, bias=True)\n",
              "            (LayerNorm): LayerNorm((768,), eps=1e-12, elementwise_affine=True)\n",
              "            (dropout): Dropout(p=0.1, inplace=False)\n",
              "          )\n",
              "        )\n",
              "      )\n",
              "    )\n",
              "    (pooler): BertPooler(\n",
              "      (dense): Linear(in_features=768, out_features=768, bias=True)\n",
              "      (activation): Tanh()\n",
              "    )\n",
              "  )\n",
              "  (dropout): Dropout(p=0.1, inplace=False)\n",
              "  (classifier): Linear(in_features=768, out_features=2, bias=True)\n",
              ")"
            ]
          },
          "metadata": {},
          "execution_count": 68
        }
      ]
    },
    {
      "cell_type": "markdown",
      "metadata": {
        "id": "7TwIpa8ZpJWz"
      },
      "source": [
        "## Create tokenizer"
      ]
    },
    {
      "cell_type": "code",
      "execution_count": null,
      "metadata": {
        "colab": {
          "base_uri": "https://localhost:8080/"
        },
        "id": "trUn-QMOpJWz",
        "outputId": "4c7b0e4a-69f7-4aa6-fe2a-15d07e632049"
      },
      "outputs": [
        {
          "output_type": "stream",
          "name": "stdout",
          "text": [
            "55035\n",
            "55035\n",
            "Encoding(num_tokens=60, attributes=[ids, type_ids, tokens, offsets, attention_mask, special_tokens_mask, overflowing])\n",
            "['[CLS]', 'mais', 'um', 'lixo', '[SEP]', '[PAD]', '[PAD]', '[PAD]', '[PAD]', '[PAD]', '[PAD]', '[PAD]', '[PAD]', '[PAD]', '[PAD]', '[PAD]', '[PAD]', '[PAD]', '[PAD]', '[PAD]', '[PAD]', '[PAD]', '[PAD]', '[PAD]', '[PAD]', '[PAD]', '[PAD]', '[PAD]', '[PAD]', '[PAD]', '[PAD]', '[PAD]', '[PAD]', '[PAD]', '[PAD]', '[PAD]', '[PAD]', '[PAD]', '[PAD]', '[PAD]', '[PAD]', '[PAD]', '[PAD]', '[PAD]', '[PAD]', '[PAD]', '[PAD]', '[PAD]', '[PAD]', '[PAD]', '[PAD]', '[PAD]', '[PAD]', '[PAD]', '[PAD]', '[PAD]', '[PAD]', '[PAD]', '[PAD]', '[PAD]']\n"
          ]
        }
      ],
      "source": [
        "labels = df['label'].values\n",
        "sentencas = [sentenca.lower() for sentenca in df['text'].values]\n",
        "tokenizer, ids, attention_mask, output = create_tokenizer_and_tokenize(sentencas, max_length=60)"
      ]
    },
    {
      "cell_type": "markdown",
      "metadata": {
        "id": "MrdwSF2TpJWz"
      },
      "source": [
        "## Prediction dataloader"
      ]
    },
    {
      "cell_type": "code",
      "execution_count": null,
      "metadata": {
        "id": "Srtn6PEzpJWz"
      },
      "outputs": [],
      "source": [
        "prediction_dataloader = create_prediction_dataloader(tokenizer, sentencas, labels)"
      ]
    },
    {
      "cell_type": "markdown",
      "metadata": {
        "id": "QkDzrVtdpJWz"
      },
      "source": [
        "## Validate"
      ]
    },
    {
      "cell_type": "code",
      "execution_count": null,
      "metadata": {
        "colab": {
          "base_uri": "https://localhost:8080/"
        },
        "id": "O5aLcmK8pJWz",
        "outputId": "e4b336bd-143a-425c-905a-96520d9ef1bf"
      },
      "outputs": [
        {
          "output_type": "stream",
          "name": "stderr",
          "text": [
            "BertSdpaSelfAttention is used but `torch.nn.functional.scaled_dot_product_attention` does not support non-absolute `position_embedding_type` or `output_attentions=True` or `head_mask`. Falling back to the manual attention implementation, but specifying the manual implementation will be required from Transformers version v5.0.0 onwards. This warning can be removed using the argument `attn_implementation=\"eager\"` when loading the model.\n"
          ]
        },
        {
          "output_type": "stream",
          "name": "stdout",
          "text": [
            "  Accuracy: 0.73\n",
            "Accuracia:  0.73125\n",
            "F1 Score: 0.7279704228826497\n",
            "Recall: 0.73125\n",
            "Precision:  0.755912923636288\n",
            "True Negative:  8421\n",
            "False Positive:  1298\n",
            "False Negative:  4249\n",
            "True Positive:  6672\n"
          ]
        }
      ],
      "source": [
        "Validar_Modelo(prediction_dataloader, batch_size=32)"
      ]
    }
  ],
  "metadata": {
    "accelerator": "GPU",
    "colab": {
      "gpuType": "T4",
      "provenance": []
    },
    "kernelspec": {
      "display_name": ".venv",
      "language": "python",
      "name": "python3"
    },
    "language_info": {
      "codemirror_mode": {
        "name": "ipython",
        "version": 3
      },
      "file_extension": ".py",
      "mimetype": "text/x-python",
      "name": "python",
      "nbconvert_exporter": "python",
      "pygments_lexer": "ipython3",
      "version": "3.12.9"
    },
    "widgets": {
      "application/vnd.jupyter.widget-state+json": {
        "8e24d330180c457abb75b6e5756d3e7a": {
          "model_module": "@jupyter-widgets/controls",
          "model_name": "HBoxModel",
          "model_module_version": "1.5.0",
          "state": {
            "_dom_classes": [],
            "_model_module": "@jupyter-widgets/controls",
            "_model_module_version": "1.5.0",
            "_model_name": "HBoxModel",
            "_view_count": null,
            "_view_module": "@jupyter-widgets/controls",
            "_view_module_version": "1.5.0",
            "_view_name": "HBoxView",
            "box_style": "",
            "children": [
              "IPY_MODEL_589a2535cced4ccbb0849bfe9469aed3",
              "IPY_MODEL_c45e4012efdd4e2795bf1a7b909feb02",
              "IPY_MODEL_44dbc5ac48cf49b4a5c8c8cfb653c175"
            ],
            "layout": "IPY_MODEL_5dbade23144f48b0a519fa45c1c30bfc"
          }
        },
        "589a2535cced4ccbb0849bfe9469aed3": {
          "model_module": "@jupyter-widgets/controls",
          "model_name": "HTMLModel",
          "model_module_version": "1.5.0",
          "state": {
            "_dom_classes": [],
            "_model_module": "@jupyter-widgets/controls",
            "_model_module_version": "1.5.0",
            "_model_name": "HTMLModel",
            "_view_count": null,
            "_view_module": "@jupyter-widgets/controls",
            "_view_module_version": "1.5.0",
            "_view_name": "HTMLView",
            "description": "",
            "description_tooltip": null,
            "layout": "IPY_MODEL_882234b771ee4f1399c7a292ee69562f",
            "placeholder": "​",
            "style": "IPY_MODEL_83cfd9ce6f9c49949b6cfbe16476e1ea",
            "value": "config.json: 100%"
          }
        },
        "c45e4012efdd4e2795bf1a7b909feb02": {
          "model_module": "@jupyter-widgets/controls",
          "model_name": "FloatProgressModel",
          "model_module_version": "1.5.0",
          "state": {
            "_dom_classes": [],
            "_model_module": "@jupyter-widgets/controls",
            "_model_module_version": "1.5.0",
            "_model_name": "FloatProgressModel",
            "_view_count": null,
            "_view_module": "@jupyter-widgets/controls",
            "_view_module_version": "1.5.0",
            "_view_name": "ProgressView",
            "bar_style": "success",
            "description": "",
            "description_tooltip": null,
            "layout": "IPY_MODEL_a4a8f828ea7849b0bb0c1a3ba331041f",
            "max": 647,
            "min": 0,
            "orientation": "horizontal",
            "style": "IPY_MODEL_04f1eb65ae9044b8a90a747bb2b2a5df",
            "value": 647
          }
        },
        "44dbc5ac48cf49b4a5c8c8cfb653c175": {
          "model_module": "@jupyter-widgets/controls",
          "model_name": "HTMLModel",
          "model_module_version": "1.5.0",
          "state": {
            "_dom_classes": [],
            "_model_module": "@jupyter-widgets/controls",
            "_model_module_version": "1.5.0",
            "_model_name": "HTMLModel",
            "_view_count": null,
            "_view_module": "@jupyter-widgets/controls",
            "_view_module_version": "1.5.0",
            "_view_name": "HTMLView",
            "description": "",
            "description_tooltip": null,
            "layout": "IPY_MODEL_a153f4181d354ebba5d2b7392bb81e18",
            "placeholder": "​",
            "style": "IPY_MODEL_438c34b5fc4045df9a7976749d2c4a01",
            "value": " 647/647 [00:00&lt;00:00, 68.3kB/s]"
          }
        },
        "5dbade23144f48b0a519fa45c1c30bfc": {
          "model_module": "@jupyter-widgets/base",
          "model_name": "LayoutModel",
          "model_module_version": "1.2.0",
          "state": {
            "_model_module": "@jupyter-widgets/base",
            "_model_module_version": "1.2.0",
            "_model_name": "LayoutModel",
            "_view_count": null,
            "_view_module": "@jupyter-widgets/base",
            "_view_module_version": "1.2.0",
            "_view_name": "LayoutView",
            "align_content": null,
            "align_items": null,
            "align_self": null,
            "border": null,
            "bottom": null,
            "display": null,
            "flex": null,
            "flex_flow": null,
            "grid_area": null,
            "grid_auto_columns": null,
            "grid_auto_flow": null,
            "grid_auto_rows": null,
            "grid_column": null,
            "grid_gap": null,
            "grid_row": null,
            "grid_template_areas": null,
            "grid_template_columns": null,
            "grid_template_rows": null,
            "height": null,
            "justify_content": null,
            "justify_items": null,
            "left": null,
            "margin": null,
            "max_height": null,
            "max_width": null,
            "min_height": null,
            "min_width": null,
            "object_fit": null,
            "object_position": null,
            "order": null,
            "overflow": null,
            "overflow_x": null,
            "overflow_y": null,
            "padding": null,
            "right": null,
            "top": null,
            "visibility": null,
            "width": null
          }
        },
        "882234b771ee4f1399c7a292ee69562f": {
          "model_module": "@jupyter-widgets/base",
          "model_name": "LayoutModel",
          "model_module_version": "1.2.0",
          "state": {
            "_model_module": "@jupyter-widgets/base",
            "_model_module_version": "1.2.0",
            "_model_name": "LayoutModel",
            "_view_count": null,
            "_view_module": "@jupyter-widgets/base",
            "_view_module_version": "1.2.0",
            "_view_name": "LayoutView",
            "align_content": null,
            "align_items": null,
            "align_self": null,
            "border": null,
            "bottom": null,
            "display": null,
            "flex": null,
            "flex_flow": null,
            "grid_area": null,
            "grid_auto_columns": null,
            "grid_auto_flow": null,
            "grid_auto_rows": null,
            "grid_column": null,
            "grid_gap": null,
            "grid_row": null,
            "grid_template_areas": null,
            "grid_template_columns": null,
            "grid_template_rows": null,
            "height": null,
            "justify_content": null,
            "justify_items": null,
            "left": null,
            "margin": null,
            "max_height": null,
            "max_width": null,
            "min_height": null,
            "min_width": null,
            "object_fit": null,
            "object_position": null,
            "order": null,
            "overflow": null,
            "overflow_x": null,
            "overflow_y": null,
            "padding": null,
            "right": null,
            "top": null,
            "visibility": null,
            "width": null
          }
        },
        "83cfd9ce6f9c49949b6cfbe16476e1ea": {
          "model_module": "@jupyter-widgets/controls",
          "model_name": "DescriptionStyleModel",
          "model_module_version": "1.5.0",
          "state": {
            "_model_module": "@jupyter-widgets/controls",
            "_model_module_version": "1.5.0",
            "_model_name": "DescriptionStyleModel",
            "_view_count": null,
            "_view_module": "@jupyter-widgets/base",
            "_view_module_version": "1.2.0",
            "_view_name": "StyleView",
            "description_width": ""
          }
        },
        "a4a8f828ea7849b0bb0c1a3ba331041f": {
          "model_module": "@jupyter-widgets/base",
          "model_name": "LayoutModel",
          "model_module_version": "1.2.0",
          "state": {
            "_model_module": "@jupyter-widgets/base",
            "_model_module_version": "1.2.0",
            "_model_name": "LayoutModel",
            "_view_count": null,
            "_view_module": "@jupyter-widgets/base",
            "_view_module_version": "1.2.0",
            "_view_name": "LayoutView",
            "align_content": null,
            "align_items": null,
            "align_self": null,
            "border": null,
            "bottom": null,
            "display": null,
            "flex": null,
            "flex_flow": null,
            "grid_area": null,
            "grid_auto_columns": null,
            "grid_auto_flow": null,
            "grid_auto_rows": null,
            "grid_column": null,
            "grid_gap": null,
            "grid_row": null,
            "grid_template_areas": null,
            "grid_template_columns": null,
            "grid_template_rows": null,
            "height": null,
            "justify_content": null,
            "justify_items": null,
            "left": null,
            "margin": null,
            "max_height": null,
            "max_width": null,
            "min_height": null,
            "min_width": null,
            "object_fit": null,
            "object_position": null,
            "order": null,
            "overflow": null,
            "overflow_x": null,
            "overflow_y": null,
            "padding": null,
            "right": null,
            "top": null,
            "visibility": null,
            "width": null
          }
        },
        "04f1eb65ae9044b8a90a747bb2b2a5df": {
          "model_module": "@jupyter-widgets/controls",
          "model_name": "ProgressStyleModel",
          "model_module_version": "1.5.0",
          "state": {
            "_model_module": "@jupyter-widgets/controls",
            "_model_module_version": "1.5.0",
            "_model_name": "ProgressStyleModel",
            "_view_count": null,
            "_view_module": "@jupyter-widgets/base",
            "_view_module_version": "1.2.0",
            "_view_name": "StyleView",
            "bar_color": null,
            "description_width": ""
          }
        },
        "a153f4181d354ebba5d2b7392bb81e18": {
          "model_module": "@jupyter-widgets/base",
          "model_name": "LayoutModel",
          "model_module_version": "1.2.0",
          "state": {
            "_model_module": "@jupyter-widgets/base",
            "_model_module_version": "1.2.0",
            "_model_name": "LayoutModel",
            "_view_count": null,
            "_view_module": "@jupyter-widgets/base",
            "_view_module_version": "1.2.0",
            "_view_name": "LayoutView",
            "align_content": null,
            "align_items": null,
            "align_self": null,
            "border": null,
            "bottom": null,
            "display": null,
            "flex": null,
            "flex_flow": null,
            "grid_area": null,
            "grid_auto_columns": null,
            "grid_auto_flow": null,
            "grid_auto_rows": null,
            "grid_column": null,
            "grid_gap": null,
            "grid_row": null,
            "grid_template_areas": null,
            "grid_template_columns": null,
            "grid_template_rows": null,
            "height": null,
            "justify_content": null,
            "justify_items": null,
            "left": null,
            "margin": null,
            "max_height": null,
            "max_width": null,
            "min_height": null,
            "min_width": null,
            "object_fit": null,
            "object_position": null,
            "order": null,
            "overflow": null,
            "overflow_x": null,
            "overflow_y": null,
            "padding": null,
            "right": null,
            "top": null,
            "visibility": null,
            "width": null
          }
        },
        "438c34b5fc4045df9a7976749d2c4a01": {
          "model_module": "@jupyter-widgets/controls",
          "model_name": "DescriptionStyleModel",
          "model_module_version": "1.5.0",
          "state": {
            "_model_module": "@jupyter-widgets/controls",
            "_model_module_version": "1.5.0",
            "_model_name": "DescriptionStyleModel",
            "_view_count": null,
            "_view_module": "@jupyter-widgets/base",
            "_view_module_version": "1.2.0",
            "_view_name": "StyleView",
            "description_width": ""
          }
        },
        "789d379fbb83473599e985ff452404ad": {
          "model_module": "@jupyter-widgets/controls",
          "model_name": "HBoxModel",
          "model_module_version": "1.5.0",
          "state": {
            "_dom_classes": [],
            "_model_module": "@jupyter-widgets/controls",
            "_model_module_version": "1.5.0",
            "_model_name": "HBoxModel",
            "_view_count": null,
            "_view_module": "@jupyter-widgets/controls",
            "_view_module_version": "1.5.0",
            "_view_name": "HBoxView",
            "box_style": "",
            "children": [
              "IPY_MODEL_9d2612415d8544e08c476bcb16caddd3",
              "IPY_MODEL_343237fed0c94220ba3f591ae04a51e9",
              "IPY_MODEL_b588c9daf742490aa80ec19909d3f713"
            ],
            "layout": "IPY_MODEL_61ed23b03f6f49f580df8afc86d009d2"
          }
        },
        "9d2612415d8544e08c476bcb16caddd3": {
          "model_module": "@jupyter-widgets/controls",
          "model_name": "HTMLModel",
          "model_module_version": "1.5.0",
          "state": {
            "_dom_classes": [],
            "_model_module": "@jupyter-widgets/controls",
            "_model_module_version": "1.5.0",
            "_model_name": "HTMLModel",
            "_view_count": null,
            "_view_module": "@jupyter-widgets/controls",
            "_view_module_version": "1.5.0",
            "_view_name": "HTMLView",
            "description": "",
            "description_tooltip": null,
            "layout": "IPY_MODEL_33befb2ad13141dd818665dfe76248ca",
            "placeholder": "​",
            "style": "IPY_MODEL_5b8f86eceff949f6affb8e44be2478d7",
            "value": "pytorch_model.bin: 100%"
          }
        },
        "343237fed0c94220ba3f591ae04a51e9": {
          "model_module": "@jupyter-widgets/controls",
          "model_name": "FloatProgressModel",
          "model_module_version": "1.5.0",
          "state": {
            "_dom_classes": [],
            "_model_module": "@jupyter-widgets/controls",
            "_model_module_version": "1.5.0",
            "_model_name": "FloatProgressModel",
            "_view_count": null,
            "_view_module": "@jupyter-widgets/controls",
            "_view_module_version": "1.5.0",
            "_view_name": "ProgressView",
            "bar_style": "success",
            "description": "",
            "description_tooltip": null,
            "layout": "IPY_MODEL_b0828eaa460349bcaa18c47a3cf34338",
            "max": 438235074,
            "min": 0,
            "orientation": "horizontal",
            "style": "IPY_MODEL_d15191c5c2f44bf2ac189da910d92459",
            "value": 438235074
          }
        },
        "b588c9daf742490aa80ec19909d3f713": {
          "model_module": "@jupyter-widgets/controls",
          "model_name": "HTMLModel",
          "model_module_version": "1.5.0",
          "state": {
            "_dom_classes": [],
            "_model_module": "@jupyter-widgets/controls",
            "_model_module_version": "1.5.0",
            "_model_name": "HTMLModel",
            "_view_count": null,
            "_view_module": "@jupyter-widgets/controls",
            "_view_module_version": "1.5.0",
            "_view_name": "HTMLView",
            "description": "",
            "description_tooltip": null,
            "layout": "IPY_MODEL_7f567ee4b57d4eaca1c8416b93be0a16",
            "placeholder": "​",
            "style": "IPY_MODEL_848b1f57a0f64982a14ae65916eae43c",
            "value": " 438M/438M [00:04&lt;00:00, 31.5MB/s]"
          }
        },
        "61ed23b03f6f49f580df8afc86d009d2": {
          "model_module": "@jupyter-widgets/base",
          "model_name": "LayoutModel",
          "model_module_version": "1.2.0",
          "state": {
            "_model_module": "@jupyter-widgets/base",
            "_model_module_version": "1.2.0",
            "_model_name": "LayoutModel",
            "_view_count": null,
            "_view_module": "@jupyter-widgets/base",
            "_view_module_version": "1.2.0",
            "_view_name": "LayoutView",
            "align_content": null,
            "align_items": null,
            "align_self": null,
            "border": null,
            "bottom": null,
            "display": null,
            "flex": null,
            "flex_flow": null,
            "grid_area": null,
            "grid_auto_columns": null,
            "grid_auto_flow": null,
            "grid_auto_rows": null,
            "grid_column": null,
            "grid_gap": null,
            "grid_row": null,
            "grid_template_areas": null,
            "grid_template_columns": null,
            "grid_template_rows": null,
            "height": null,
            "justify_content": null,
            "justify_items": null,
            "left": null,
            "margin": null,
            "max_height": null,
            "max_width": null,
            "min_height": null,
            "min_width": null,
            "object_fit": null,
            "object_position": null,
            "order": null,
            "overflow": null,
            "overflow_x": null,
            "overflow_y": null,
            "padding": null,
            "right": null,
            "top": null,
            "visibility": null,
            "width": null
          }
        },
        "33befb2ad13141dd818665dfe76248ca": {
          "model_module": "@jupyter-widgets/base",
          "model_name": "LayoutModel",
          "model_module_version": "1.2.0",
          "state": {
            "_model_module": "@jupyter-widgets/base",
            "_model_module_version": "1.2.0",
            "_model_name": "LayoutModel",
            "_view_count": null,
            "_view_module": "@jupyter-widgets/base",
            "_view_module_version": "1.2.0",
            "_view_name": "LayoutView",
            "align_content": null,
            "align_items": null,
            "align_self": null,
            "border": null,
            "bottom": null,
            "display": null,
            "flex": null,
            "flex_flow": null,
            "grid_area": null,
            "grid_auto_columns": null,
            "grid_auto_flow": null,
            "grid_auto_rows": null,
            "grid_column": null,
            "grid_gap": null,
            "grid_row": null,
            "grid_template_areas": null,
            "grid_template_columns": null,
            "grid_template_rows": null,
            "height": null,
            "justify_content": null,
            "justify_items": null,
            "left": null,
            "margin": null,
            "max_height": null,
            "max_width": null,
            "min_height": null,
            "min_width": null,
            "object_fit": null,
            "object_position": null,
            "order": null,
            "overflow": null,
            "overflow_x": null,
            "overflow_y": null,
            "padding": null,
            "right": null,
            "top": null,
            "visibility": null,
            "width": null
          }
        },
        "5b8f86eceff949f6affb8e44be2478d7": {
          "model_module": "@jupyter-widgets/controls",
          "model_name": "DescriptionStyleModel",
          "model_module_version": "1.5.0",
          "state": {
            "_model_module": "@jupyter-widgets/controls",
            "_model_module_version": "1.5.0",
            "_model_name": "DescriptionStyleModel",
            "_view_count": null,
            "_view_module": "@jupyter-widgets/base",
            "_view_module_version": "1.2.0",
            "_view_name": "StyleView",
            "description_width": ""
          }
        },
        "b0828eaa460349bcaa18c47a3cf34338": {
          "model_module": "@jupyter-widgets/base",
          "model_name": "LayoutModel",
          "model_module_version": "1.2.0",
          "state": {
            "_model_module": "@jupyter-widgets/base",
            "_model_module_version": "1.2.0",
            "_model_name": "LayoutModel",
            "_view_count": null,
            "_view_module": "@jupyter-widgets/base",
            "_view_module_version": "1.2.0",
            "_view_name": "LayoutView",
            "align_content": null,
            "align_items": null,
            "align_self": null,
            "border": null,
            "bottom": null,
            "display": null,
            "flex": null,
            "flex_flow": null,
            "grid_area": null,
            "grid_auto_columns": null,
            "grid_auto_flow": null,
            "grid_auto_rows": null,
            "grid_column": null,
            "grid_gap": null,
            "grid_row": null,
            "grid_template_areas": null,
            "grid_template_columns": null,
            "grid_template_rows": null,
            "height": null,
            "justify_content": null,
            "justify_items": null,
            "left": null,
            "margin": null,
            "max_height": null,
            "max_width": null,
            "min_height": null,
            "min_width": null,
            "object_fit": null,
            "object_position": null,
            "order": null,
            "overflow": null,
            "overflow_x": null,
            "overflow_y": null,
            "padding": null,
            "right": null,
            "top": null,
            "visibility": null,
            "width": null
          }
        },
        "d15191c5c2f44bf2ac189da910d92459": {
          "model_module": "@jupyter-widgets/controls",
          "model_name": "ProgressStyleModel",
          "model_module_version": "1.5.0",
          "state": {
            "_model_module": "@jupyter-widgets/controls",
            "_model_module_version": "1.5.0",
            "_model_name": "ProgressStyleModel",
            "_view_count": null,
            "_view_module": "@jupyter-widgets/base",
            "_view_module_version": "1.2.0",
            "_view_name": "StyleView",
            "bar_color": null,
            "description_width": ""
          }
        },
        "7f567ee4b57d4eaca1c8416b93be0a16": {
          "model_module": "@jupyter-widgets/base",
          "model_name": "LayoutModel",
          "model_module_version": "1.2.0",
          "state": {
            "_model_module": "@jupyter-widgets/base",
            "_model_module_version": "1.2.0",
            "_model_name": "LayoutModel",
            "_view_count": null,
            "_view_module": "@jupyter-widgets/base",
            "_view_module_version": "1.2.0",
            "_view_name": "LayoutView",
            "align_content": null,
            "align_items": null,
            "align_self": null,
            "border": null,
            "bottom": null,
            "display": null,
            "flex": null,
            "flex_flow": null,
            "grid_area": null,
            "grid_auto_columns": null,
            "grid_auto_flow": null,
            "grid_auto_rows": null,
            "grid_column": null,
            "grid_gap": null,
            "grid_row": null,
            "grid_template_areas": null,
            "grid_template_columns": null,
            "grid_template_rows": null,
            "height": null,
            "justify_content": null,
            "justify_items": null,
            "left": null,
            "margin": null,
            "max_height": null,
            "max_width": null,
            "min_height": null,
            "min_width": null,
            "object_fit": null,
            "object_position": null,
            "order": null,
            "overflow": null,
            "overflow_x": null,
            "overflow_y": null,
            "padding": null,
            "right": null,
            "top": null,
            "visibility": null,
            "width": null
          }
        },
        "848b1f57a0f64982a14ae65916eae43c": {
          "model_module": "@jupyter-widgets/controls",
          "model_name": "DescriptionStyleModel",
          "model_module_version": "1.5.0",
          "state": {
            "_model_module": "@jupyter-widgets/controls",
            "_model_module_version": "1.5.0",
            "_model_name": "DescriptionStyleModel",
            "_view_count": null,
            "_view_module": "@jupyter-widgets/base",
            "_view_module_version": "1.2.0",
            "_view_name": "StyleView",
            "description_width": ""
          }
        }
      }
    }
  },
  "nbformat": 4,
  "nbformat_minor": 0
}